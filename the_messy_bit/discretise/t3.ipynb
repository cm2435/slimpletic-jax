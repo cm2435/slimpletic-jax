{
 "cells": [
  {
   "cell_type": "code",
   "execution_count": 85,
   "id": "initial_id",
   "metadata": {
    "collapsed": true,
    "ExecuteTime": {
     "end_time": "2023-11-27T14:39:41.411820Z",
     "start_time": "2023-11-27T14:39:41.403784Z"
    }
   },
   "outputs": [],
   "source": [
    "import jax\n",
    "import jax.numpy as jnp\n",
    "from jax.experimental import checkify\n",
    "\n",
    "from ggl import ggl, dereduce\n",
    "\n",
    "\n",
    "def compute_qdot_from_q(qi_vec, r, dt):\n",
    "    dij = dereduce(ggl(r), dt)[2]\n",
    "    return jax.numpy.matmul(dij, qi_vec)\n",
    "\n",
    "\n",
    "def discretise(\n",
    "        r: int,\n",
    "        dt: float,\n",
    "        fn: callable,\n",
    ") -> callable:\n",
    "    \"\"\"\n",
    "    :param r: The order of the method.\n",
    "    :param fn: The function to discretise.\n",
    "    :return: A callable which takes a vector of q values and returns a vector of q dot values.\n",
    "    \"\"\"\n",
    "\n",
    "    xs, ws, dij = dereduce(ggl(r), dt)\n",
    "\n",
    "    def discretised_fn(qi_vec):\n",
    "        # print(qi_vec.shape)\n",
    "        qidot_vec = jax.numpy.matmul(dij, qi_vec)\n",
    "        t0 = 0\n",
    "        t_values = t0 + (1 + xs) * dt / 2\n",
    "\n",
    "        return jnp.dot(ws, jax.vmap(\n",
    "            fn\n",
    "        )(\n",
    "            qi_vec,\n",
    "            qidot_vec,\n",
    "            t_values,\n",
    "        ))\n",
    "\n",
    "    return discretised_fn\n"
   ]
  },
  {
   "cell_type": "code",
   "execution_count": 49,
   "outputs": [],
   "source": [
    "df = discretise(1, 1, lambda x, xdot, t: x ** 2 + xdot ** 2)"
   ],
   "metadata": {
    "collapsed": false,
    "ExecuteTime": {
     "end_time": "2023-11-27T14:20:59.849192Z",
     "start_time": "2023-11-27T14:20:59.790300Z"
    }
   },
   "id": "dc30fb4735047249"
  },
  {
   "cell_type": "code",
   "execution_count": 50,
   "outputs": [
    {
     "name": "stdout",
     "output_type": "stream",
     "text": [
      "(3,)\n"
     ]
    },
    {
     "data": {
      "text/plain": "Array(8.33333333, dtype=float64)"
     },
     "execution_count": 50,
     "metadata": {},
     "output_type": "execute_result"
    }
   ],
   "source": [
    "df(\n",
    "    jnp.array([1, 2, 3])\n",
    ")"
   ],
   "metadata": {
    "collapsed": false,
    "ExecuteTime": {
     "end_time": "2023-11-27T14:21:00.297888Z",
     "start_time": "2023-11-27T14:21:00.281551Z"
    }
   },
   "id": "38de06911a0109e6"
  },
  {
   "cell_type": "code",
   "execution_count": 51,
   "outputs": [
    {
     "name": "stdout",
     "output_type": "stream",
     "text": [
      "(5, 3)\n"
     ]
    },
    {
     "data": {
      "text/plain": "Array(548.61366091, dtype=float64)"
     },
     "execution_count": 51,
     "metadata": {},
     "output_type": "execute_result"
    }
   ],
   "source": [
    "discretise(\n",
    "    r=3,\n",
    "    dt=0.1,\n",
    "    fn=lambda q_vec, q_dot_vec, t: jnp.dot(q_vec, q_vec) + jnp.dot(q_dot_vec, q_dot_vec)\n",
    ")(\n",
    "    jnp.array([\n",
    "        [1, 2, 3, 4, 5],\n",
    "        [1, 2, 3, 4, 5],\n",
    "        [1, 2, 3, 4, 5],\n",
    "    ]).transpose()\n",
    ")"
   ],
   "metadata": {
    "collapsed": false,
    "ExecuteTime": {
     "end_time": "2023-11-27T14:21:03.348949Z",
     "start_time": "2023-11-27T14:21:03.273999Z"
    }
   },
   "id": "aa6f504aeba8dc11"
  },
  {
   "cell_type": "code",
   "execution_count": 65,
   "outputs": [],
   "source": [
    "data = jnp.array([\n",
    "    [1, 2, 3, 4, 5],\n",
    "    [1, 2, 3, 4, 5],\n",
    "    [1, 2, 3, 4, 5],\n",
    "])"
   ],
   "metadata": {
    "collapsed": false,
    "ExecuteTime": {
     "end_time": "2023-11-27T14:31:42.801520Z",
     "start_time": "2023-11-27T14:31:42.786462Z"
    }
   },
   "id": "d1c5a3b538a67e37"
  },
  {
   "cell_type": "code",
   "execution_count": 56,
   "outputs": [],
   "source": [
    "from sympy import Symbol, Float\n",
    "import original.slimplectic_GGL\n",
    "\n",
    "expr, table = original.slimplectic_GGL.GGL_Gen_Ld(\n",
    "    tsymbol=Symbol('t'),\n",
    "    q_list=[Symbol('q1'), Symbol('q2'), Symbol('q3')],\n",
    "    qprime_list=[Symbol('qdot1'), Symbol('qdot2'), Symbol('qdot3')],\n",
    "    r=3,\n",
    "    ddt=Float(0.1),\n",
    "    L=(\n",
    "            Symbol('q1') ** 2 + Symbol('q2') ** 2 + Symbol('q3') ** 2 +\n",
    "            Symbol('qdot1') ** 2 + Symbol('qdot2') ** 2 + Symbol('qdot3') ** 2\n",
    "    )\n",
    ")"
   ],
   "metadata": {
    "collapsed": false,
    "ExecuteTime": {
     "end_time": "2023-11-27T14:30:47.275587Z",
     "start_time": "2023-11-27T14:30:47.273424Z"
    }
   },
   "id": "8694fd1861c8dc3f"
  },
  {
   "cell_type": "code",
   "execution_count": 57,
   "outputs": [
    {
     "data": {
      "text/plain": "0.027222222222222223733*{q1^{(1)}}**2 + 0.035555555555555557529*{q1^{(2)}}**2 + 0.027222222222222223733*{q1^{(3)}}**2 + 0.0050000000000000002776*{q1^{[n+1]}}**2 + 0.0050000000000000002776*{q1^{[n]}}**2 + 0.027222222222222223733*{q2^{(1)}}**2 + 0.035555555555555557529*{q2^{(2)}}**2 + 0.027222222222222223733*{q2^{(3)}}**2 + 0.0050000000000000002776*{q2^{[n+1]}}**2 + 0.0050000000000000002776*{q2^{[n]}}**2 + 0.027222222222222223733*{q3^{(1)}}**2 + 0.035555555555555557529*{q3^{(2)}}**2 + 0.027222222222222223733*{q3^{(3)}}**2 + 0.0050000000000000002776*{q3^{[n+1]}}**2 + 0.0050000000000000002776*{q3^{[n]}}**2 + 25.407407407407408818*(-{q1^{(1)}} + {q1^{(3)}} - 0.28056585887484734734*{q1^{[n+1]}} + 0.28056585887484734734*{q1^{[n]}})**2 + 33.185185185185187027*(0.4375*{q1^{(1)}} - {q1^{(2)}} + 0.71086647140211000062*{q1^{[n+1]}} - 0.14836647140211000062*{q1^{[n]}})**2 + 33.185185185185187027*({q1^{(2)}} - 0.4375*{q1^{(3)}} + 0.14836647140211000062*{q1^{[n+1]}} - 0.71086647140211000062*{q1^{[n]}})**2 + 25.407407407407408818*(-{q2^{(1)}} + {q2^{(3)}} - 0.28056585887484734734*{q2^{[n+1]}} + 0.28056585887484734734*{q2^{[n]}})**2 + 33.185185185185187027*(0.4375*{q2^{(1)}} - {q2^{(2)}} + 0.71086647140211000062*{q2^{[n+1]}} - 0.14836647140211000062*{q2^{[n]}})**2 + 33.185185185185187027*({q2^{(2)}} - 0.4375*{q2^{(3)}} + 0.14836647140211000062*{q2^{[n+1]}} - 0.71086647140211000062*{q2^{[n]}})**2 + 25.407407407407408818*(-{q3^{(1)}} + {q3^{(3)}} - 0.28056585887484734734*{q3^{[n+1]}} + 0.28056585887484734734*{q3^{[n]}})**2 + 33.185185185185187027*(0.4375*{q3^{(1)}} - {q3^{(2)}} + 0.71086647140211000062*{q3^{[n+1]}} - 0.14836647140211000062*{q3^{[n]}})**2 + 33.185185185185187027*({q3^{(2)}} - 0.4375*{q3^{(3)}} + 0.14836647140211000062*{q3^{[n+1]}} - 0.71086647140211000062*{q3^{[n]}})**2 + 91.300651760273702909*(-0.20871215252207999671*{q1^{(1)}} + 0.39468151919088326423*{q1^{(2)}} - {q1^{(3)}} + 0.74002784848290612043*{q1^{[n+1]}} + 0.074002784848290612043*{q1^{[n]}})**2 + 91.300651760273702909*({q1^{(1)}} - 0.39468151919088326423*{q1^{(2)}} + 0.20871215252207999671*{q1^{(3)}} - 0.074002784848290612043*{q1^{[n+1]}} - 0.74002784848290612043*{q1^{[n]}})**2 + 91.300651760273702909*(-0.20871215252207999671*{q2^{(1)}} + 0.39468151919088326423*{q2^{(2)}} - {q2^{(3)}} + 0.74002784848290612043*{q2^{[n+1]}} + 0.074002784848290612043*{q2^{[n]}})**2 + 91.300651760273702909*({q2^{(1)}} - 0.39468151919088326423*{q2^{(2)}} + 0.20871215252207999671*{q2^{(3)}} - 0.074002784848290612043*{q2^{[n+1]}} - 0.74002784848290612043*{q2^{[n]}})**2 + 91.300651760273702909*(-0.20871215252207999671*{q3^{(1)}} + 0.39468151919088326423*{q3^{(2)}} - {q3^{(3)}} + 0.74002784848290612043*{q3^{[n+1]}} + 0.074002784848290612043*{q3^{[n]}})**2 + 91.300651760273702909*({q3^{(1)}} - 0.39468151919088326423*{q3^{(2)}} + 0.20871215252207999671*{q3^{(3)}} - 0.074002784848290612043*{q3^{[n+1]}} - 0.74002784848290612043*{q3^{[n]}})**2",
      "text/latex": "$\\displaystyle 0.027222222222222223733 \\left({q1^{(1)}}\\right)^{2} + 0.035555555555555557529 \\left({q1^{(2)}}\\right)^{2} + 0.027222222222222223733 \\left({q1^{(3)}}\\right)^{2} + 0.0050000000000000002776 \\left({q1^{[n+1]}}\\right)^{2} + 0.0050000000000000002776 \\left({q1^{[n]}}\\right)^{2} + 0.027222222222222223733 \\left({q2^{(1)}}\\right)^{2} + 0.035555555555555557529 \\left({q2^{(2)}}\\right)^{2} + 0.027222222222222223733 \\left({q2^{(3)}}\\right)^{2} + 0.0050000000000000002776 \\left({q2^{[n+1]}}\\right)^{2} + 0.0050000000000000002776 \\left({q2^{[n]}}\\right)^{2} + 0.027222222222222223733 \\left({q3^{(1)}}\\right)^{2} + 0.035555555555555557529 \\left({q3^{(2)}}\\right)^{2} + 0.027222222222222223733 \\left({q3^{(3)}}\\right)^{2} + 0.0050000000000000002776 \\left({q3^{[n+1]}}\\right)^{2} + 0.0050000000000000002776 \\left({q3^{[n]}}\\right)^{2} + 25.407407407407408818 \\left(- {q1^{(1)}} + {q1^{(3)}} - 0.28056585887484734734 {q1^{[n+1]}} + 0.28056585887484734734 {q1^{[n]}}\\right)^{2} + 33.185185185185187027 \\left(0.4375 {q1^{(1)}} - {q1^{(2)}} + 0.71086647140211000062 {q1^{[n+1]}} - 0.14836647140211000062 {q1^{[n]}}\\right)^{2} + 33.185185185185187027 \\left({q1^{(2)}} - 0.4375 {q1^{(3)}} + 0.14836647140211000062 {q1^{[n+1]}} - 0.71086647140211000062 {q1^{[n]}}\\right)^{2} + 25.407407407407408818 \\left(- {q2^{(1)}} + {q2^{(3)}} - 0.28056585887484734734 {q2^{[n+1]}} + 0.28056585887484734734 {q2^{[n]}}\\right)^{2} + 33.185185185185187027 \\left(0.4375 {q2^{(1)}} - {q2^{(2)}} + 0.71086647140211000062 {q2^{[n+1]}} - 0.14836647140211000062 {q2^{[n]}}\\right)^{2} + 33.185185185185187027 \\left({q2^{(2)}} - 0.4375 {q2^{(3)}} + 0.14836647140211000062 {q2^{[n+1]}} - 0.71086647140211000062 {q2^{[n]}}\\right)^{2} + 25.407407407407408818 \\left(- {q3^{(1)}} + {q3^{(3)}} - 0.28056585887484734734 {q3^{[n+1]}} + 0.28056585887484734734 {q3^{[n]}}\\right)^{2} + 33.185185185185187027 \\left(0.4375 {q3^{(1)}} - {q3^{(2)}} + 0.71086647140211000062 {q3^{[n+1]}} - 0.14836647140211000062 {q3^{[n]}}\\right)^{2} + 33.185185185185187027 \\left({q3^{(2)}} - 0.4375 {q3^{(3)}} + 0.14836647140211000062 {q3^{[n+1]}} - 0.71086647140211000062 {q3^{[n]}}\\right)^{2} + 91.300651760273702909 \\left(- 0.20871215252207999671 {q1^{(1)}} + 0.39468151919088326423 {q1^{(2)}} - {q1^{(3)}} + 0.74002784848290612043 {q1^{[n+1]}} + 0.074002784848290612043 {q1^{[n]}}\\right)^{2} + 91.300651760273702909 \\left({q1^{(1)}} - 0.39468151919088326423 {q1^{(2)}} + 0.20871215252207999671 {q1^{(3)}} - 0.074002784848290612043 {q1^{[n+1]}} - 0.74002784848290612043 {q1^{[n]}}\\right)^{2} + 91.300651760273702909 \\left(- 0.20871215252207999671 {q2^{(1)}} + 0.39468151919088326423 {q2^{(2)}} - {q2^{(3)}} + 0.74002784848290612043 {q2^{[n+1]}} + 0.074002784848290612043 {q2^{[n]}}\\right)^{2} + 91.300651760273702909 \\left({q2^{(1)}} - 0.39468151919088326423 {q2^{(2)}} + 0.20871215252207999671 {q2^{(3)}} - 0.074002784848290612043 {q2^{[n+1]}} - 0.74002784848290612043 {q2^{[n]}}\\right)^{2} + 91.300651760273702909 \\left(- 0.20871215252207999671 {q3^{(1)}} + 0.39468151919088326423 {q3^{(2)}} - {q3^{(3)}} + 0.74002784848290612043 {q3^{[n+1]}} + 0.074002784848290612043 {q3^{[n]}}\\right)^{2} + 91.300651760273702909 \\left({q3^{(1)}} - 0.39468151919088326423 {q3^{(2)}} + 0.20871215252207999671 {q3^{(3)}} - 0.074002784848290612043 {q3^{[n+1]}} - 0.74002784848290612043 {q3^{[n]}}\\right)^{2}$"
     },
     "execution_count": 57,
     "metadata": {},
     "output_type": "execute_result"
    }
   ],
   "source": [
    "expr"
   ],
   "metadata": {
    "collapsed": false,
    "ExecuteTime": {
     "end_time": "2023-11-27T14:30:48.779779Z",
     "start_time": "2023-11-27T14:30:48.741322Z"
    }
   },
   "id": "f90fa9525593a7e3"
  },
  {
   "cell_type": "code",
   "execution_count": 76,
   "outputs": [
    {
     "data": {
      "text/plain": "[[{q1^{[n]}}, 1],\n [{q1^{(1)}}, 2],\n [{q1^{(2)}}, 3],\n [{q1^{(3)}}, 4],\n [{q1^{[n+1]}}, 5],\n [{q2^{[n]}}, 1],\n [{q2^{(1)}}, 2],\n [{q2^{(2)}}, 3],\n [{q2^{(3)}}, 4],\n [{q2^{[n+1]}}, 5],\n [{q3^{[n]}}, 1],\n [{q3^{(1)}}, 2],\n [{q3^{(2)}}, 3],\n [{q3^{(3)}}, 4],\n [{q3^{[n+1]}}, 5]]"
     },
     "execution_count": 76,
     "metadata": {},
     "output_type": "execute_result"
    }
   ],
   "source": [
    "subs_list = []\n",
    "for i in range(len(table)):\n",
    "    for j in range(len(table[0])):\n",
    "        subs_list.append([table[i][j], data.tolist()[i][j]])\n",
    "subs_list"
   ],
   "metadata": {
    "collapsed": false,
    "ExecuteTime": {
     "end_time": "2023-11-27T14:34:12.765659Z",
     "start_time": "2023-11-27T14:34:12.726829Z"
    }
   },
   "id": "bc229facddac1595"
  },
  {
   "cell_type": "code",
   "execution_count": 77,
   "outputs": [
    {
     "data": {
      "text/plain": "548.61366091064408121",
      "text/latex": "$\\displaystyle 548.61366091064408121$"
     },
     "execution_count": 77,
     "metadata": {},
     "output_type": "execute_result"
    }
   ],
   "source": [
    "expr.subs(subs_list)"
   ],
   "metadata": {
    "collapsed": false,
    "ExecuteTime": {
     "end_time": "2023-11-27T14:34:13.645910Z",
     "start_time": "2023-11-27T14:34:13.601519Z"
    }
   },
   "id": "8d2e4136aa28e7b8"
  },
  {
   "cell_type": "code",
   "execution_count": 82,
   "outputs": [],
   "source": [
    "from jax import Array\n",
    "from typing import Callable\n",
    "from sympy import Expr\n",
    "\n",
    "\n",
    "def perform_sympy_calc(\n",
    "        r: int,\n",
    "        dt: float,\n",
    "        dof: int,\n",
    "        expr_builder: Callable[[list[Symbol], list[Symbol], Symbol], Expr],\n",
    "):\n",
    "    q_list = [Symbol(f'q{i}') for i in range(dof)]\n",
    "    qprime_list = [Symbol(f'qdot{i}') for i in range(dof)]\n",
    "    t_symbol = Symbol('t')\n",
    "\n",
    "    expr, table = original.slimplectic_GGL.GGL_Gen_Ld(\n",
    "        tsymbol=t_symbol,\n",
    "        q_list=q_list,\n",
    "        qprime_list=qprime_list,\n",
    "        r=r,\n",
    "        ddt=Float(dt),\n",
    "        L=expr_builder(q_list, qprime_list, t_symbol)\n",
    "    )\n",
    "\n",
    "    def fn(q_vec: Array, t: float = 0):\n",
    "        assert q_vec.shape == (dof, r + 2)\n",
    "\n",
    "        subs_list = []\n",
    "        for i in range(len(table)):\n",
    "            for j in range(len(table[0])):\n",
    "                subs_list.append([table[i][j], q_vec.tolist()[i][j]])\n",
    "\n",
    "        return float(expr.subs(subs_list))\n",
    "\n",
    "    return fn"
   ],
   "metadata": {
    "collapsed": false,
    "ExecuteTime": {
     "end_time": "2023-11-27T14:38:59.054523Z",
     "start_time": "2023-11-27T14:38:59.048413Z"
    }
   },
   "id": "a445318ededf9dd0"
  },
  {
   "cell_type": "code",
   "execution_count": 87,
   "outputs": [
    {
     "data": {
      "text/plain": "548.6136609106441"
     },
     "execution_count": 87,
     "metadata": {},
     "output_type": "execute_result"
    }
   ],
   "source": [
    "perform_sympy_calc(\n",
    "    r=3,\n",
    "    dt=0.1,\n",
    "    dof=3,\n",
    "    expr_builder=lambda q_list, qprime_list, t_symbol: (\n",
    "            q_list[0] ** 2 + q_list[1] ** 2 + q_list[2] ** 2 +\n",
    "            qprime_list[0] ** 2 + qprime_list[1] ** 2 + qprime_list[2] ** 2\n",
    "    )\n",
    ")(\n",
    "    jnp.array([\n",
    "        [1, 2, 3, 4, 5],\n",
    "        [1, 2, 3, 4, 5],\n",
    "        [1, 2, 3, 4, 5],\n",
    "    ])\n",
    ")"
   ],
   "metadata": {
    "collapsed": false,
    "ExecuteTime": {
     "end_time": "2023-11-27T14:39:46.508642Z",
     "start_time": "2023-11-27T14:39:46.437961Z"
    }
   },
   "id": "8e23dfe87b341eed"
  },
  {
   "cell_type": "code",
   "execution_count": 86,
   "outputs": [
    {
     "data": {
      "text/plain": "Array(548.61366091, dtype=float64)"
     },
     "execution_count": 86,
     "metadata": {},
     "output_type": "execute_result"
    }
   ],
   "source": [
    "discretise(\n",
    "    r=3,\n",
    "    dt=0.1,\n",
    "    fn=lambda q_vec, q_dot_vec, t: jnp.dot(q_vec, q_vec) + jnp.dot(q_dot_vec, q_dot_vec)\n",
    ")(\n",
    "    jnp.array([\n",
    "        [1, 2, 3, 4, 5],\n",
    "        [1, 2, 3, 4, 5],\n",
    "        [1, 2, 3, 4, 5],\n",
    "    ]).transpose()\n",
    ")"
   ],
   "metadata": {
    "collapsed": false,
    "ExecuteTime": {
     "end_time": "2023-11-27T14:39:44.415255Z",
     "start_time": "2023-11-27T14:39:44.346877Z"
    }
   },
   "id": "7b693255ce90ae0f"
  },
  {
   "cell_type": "code",
   "execution_count": 88,
   "outputs": [
    {
     "data": {
      "text/plain": "6.440359356929548e-10"
     },
     "execution_count": 88,
     "metadata": {},
     "output_type": "execute_result"
    }
   ],
   "source": [
    "548.6136609106441 - 548.61366091"
   ],
   "metadata": {
    "collapsed": false
   },
   "id": "62727b54c4b158ba"
  },
  {
   "cell_type": "code",
   "execution_count": null,
   "outputs": [],
   "source": [],
   "metadata": {
    "collapsed": false
   },
   "id": "be2a24c185841a2"
  }
 ],
 "metadata": {
  "kernelspec": {
   "display_name": "Python 3",
   "language": "python",
   "name": "python3"
  },
  "language_info": {
   "codemirror_mode": {
    "name": "ipython",
    "version": 2
   },
   "file_extension": ".py",
   "mimetype": "text/x-python",
   "name": "python",
   "nbconvert_exporter": "python",
   "pygments_lexer": "ipython2",
   "version": "2.7.6"
  }
 },
 "nbformat": 4,
 "nbformat_minor": 5
}
