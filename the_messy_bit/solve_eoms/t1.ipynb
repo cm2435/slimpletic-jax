{
 "cells": [
  {
   "cell_type": "code",
   "execution_count": 1,
   "id": "initial_id",
   "metadata": {
    "collapsed": true,
    "ExecuteTime": {
     "end_time": "2023-11-27T14:56:39.935761Z",
     "start_time": "2023-11-27T14:56:39.385838Z"
    }
   },
   "outputs": [],
   "source": [
    "import jaxopt"
   ]
  },
  {
   "cell_type": "code",
   "execution_count": 17,
   "outputs": [],
   "source": [
    "import jax.numpy as jnp\n",
    "\n",
    "def fn(x):\n",
    "    return jnp.array([\n",
    "        x[0] - 2 * x[1],\n",
    "        x[0]**2 - 2 * x[0] - 3,\n",
    "    ])"
   ],
   "metadata": {
    "collapsed": false,
    "ExecuteTime": {
     "end_time": "2023-11-27T15:02:21.234665Z",
     "start_time": "2023-11-27T15:02:21.229681Z"
    }
   },
   "id": "bc750b422072f831"
  },
  {
   "cell_type": "code",
   "execution_count": 19,
   "outputs": [
    {
     "name": "stdout",
     "output_type": "stream",
     "text": [
      "Solver: GaussNewton, Error: 1.5\n",
      "Solver: GaussNewton, Error: 1.1102230246251564e-16\n"
     ]
    },
    {
     "data": {
      "text/plain": "Array([-1. , -0.5], dtype=float64)"
     },
     "execution_count": 19,
     "metadata": {},
     "output_type": "execute_result"
    }
   ],
   "source": [
    "(jaxopt.GaussNewton(\n",
    "    residual_fun=fn,\n",
    "    verbose=True,\n",
    ").run(jnp.array([-1., 1.])).params)"
   ],
   "metadata": {
    "collapsed": false,
    "ExecuteTime": {
     "end_time": "2023-11-27T15:02:24.729453Z",
     "start_time": "2023-11-27T15:02:24.272735Z"
    }
   },
   "id": "9fc4f08b88d6c743"
  },
  {
   "cell_type": "code",
   "execution_count": null,
   "outputs": [],
   "source": [],
   "metadata": {
    "collapsed": false
   },
   "id": "15ad614d76257099"
  }
 ],
 "metadata": {
  "kernelspec": {
   "display_name": "Python 3",
   "language": "python",
   "name": "python3"
  },
  "language_info": {
   "codemirror_mode": {
    "name": "ipython",
    "version": 2
   },
   "file_extension": ".py",
   "mimetype": "text/x-python",
   "name": "python",
   "nbconvert_exporter": "python",
   "pygments_lexer": "ipython2",
   "version": "2.7.6"
  }
 },
 "nbformat": 4,
 "nbformat_minor": 5
}
