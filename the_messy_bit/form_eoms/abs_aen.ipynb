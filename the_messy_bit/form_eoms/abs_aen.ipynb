{
 "cells": [
  {
   "cell_type": "code",
   "execution_count": 14,
   "id": "initial_id",
   "metadata": {
    "collapsed": true,
    "ExecuteTime": {
     "end_time": "2023-12-01T17:17:02.725063Z",
     "start_time": "2023-12-01T17:17:01.978672Z"
    }
   },
   "outputs": [
    {
     "name": "stdout",
     "output_type": "stream",
     "text": [
      "previous_q [12.]\n",
      "previous_pi [2.]\n",
      "t_value 0.0\n",
      "qi_values [[12.38080617]\n",
      " [12.1615746 ]\n",
      " [11.41027414]]\n",
      "previous_q [11.41027414]\n",
      "previous_pi [40.25513758]\n",
      "t_value 0.5\n",
      "qi_values [[11.7699495 ]\n",
      " [11.56398369]\n",
      " [10.85209359]]\n"
     ]
    },
    {
     "data": {
      "text/plain": "(Array([[11.41027414],\n        [10.85209359]], dtype=float64),\n Array([[40.25513758],\n        [38.17882042]], dtype=float64))"
     },
     "execution_count": 14,
     "metadata": {},
     "output_type": "execute_result"
    }
   ],
   "source": [
    "from jax import config, Array\n",
    "from jax import numpy as jnp\n",
    "\n",
    "# NOTE: THIS IS IMPORTANT\n",
    "# Else the values will not agree with the original code.\n",
    "config.update(\"jax_enable_x64\", True)\n",
    "\n",
    "from form_eoms.form_and_solve import iterate\n",
    "\n",
    "m = 10\n",
    "k = 7\n",
    "\n",
    "\n",
    "def lagrangian(q, dq, t):\n",
    "    # jax.debug.print(\"q {}; dq {}; t {}\", q, dq, t)\n",
    "    return 0.5 * k * jnp.dot(q, q) - 0.5 * m * jnp.dot(dq, dq)\n",
    "\n",
    "\n",
    "a = iterate(\n",
    "    q0=jnp.array([12.0]),\n",
    "    pi0=jnp.array([2.0]),\n",
    "    r=1,\n",
    "    lagrangian=lagrangian,\n",
    "    t_sample_count=2,\n",
    "    dt=0.5,\n",
    "    t0=0\n",
    ")\n",
    "a"
   ]
  },
  {
   "cell_type": "code",
   "execution_count": 6,
   "outputs": [],
   "source": [
    "import matplotlib.pyplot as plt"
   ],
   "metadata": {
    "collapsed": false,
    "ExecuteTime": {
     "end_time": "2023-12-01T16:57:42.021755Z",
     "start_time": "2023-12-01T16:57:41.736717Z"
    }
   },
   "id": "b8f6c9923999b0b1"
  },
  {
   "cell_type": "code",
   "execution_count": 11,
   "outputs": [
    {
     "data": {
      "text/plain": "[<matplotlib.lines.Line2D at 0x17fe6e8e0>]"
     },
     "execution_count": 11,
     "metadata": {},
     "output_type": "execute_result"
    },
    {
     "data": {
      "text/plain": "<Figure size 640x480 with 1 Axes>",
      "image/png": "[encoded data removed]"
     },
     "metadata": {},
     "output_type": "display_data"
    }
   ],
   "source": [
    "plt.plot(a[1].reshape(-1), a[0].reshape(-1))"
   ],
   "metadata": {
    "collapsed": false,
    "ExecuteTime": {
     "end_time": "2023-12-01T16:58:08.409820Z",
     "start_time": "2023-12-01T16:58:08.313017Z"
    }
   },
   "id": "2778db61f879bb9c"
  },
  {
   "cell_type": "code",
   "execution_count": null,
   "outputs": [],
   "source": [],
   "metadata": {
    "collapsed": false
   },
   "id": "42d7d5410c7d2a8d"
  }
 ],
 "metadata": {
  "kernelspec": {
   "display_name": "Python 3",
   "language": "python",
   "name": "python3"
  },
  "language_info": {
   "codemirror_mode": {
    "name": "ipython",
    "version": 2
   },
   "file_extension": ".py",
   "mimetype": "text/x-python",
   "name": "python",
   "nbconvert_exporter": "python",
   "pygments_lexer": "ipython2",
   "version": "2.7.6"
  }
 },
 "nbformat": 4,
 "nbformat_minor": 5
}
