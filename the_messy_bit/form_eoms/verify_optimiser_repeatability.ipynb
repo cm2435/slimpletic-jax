{
 "cells": [
  {
   "cell_type": "code",
   "execution_count": 1,
   "id": "initial_id",
   "metadata": {
    "collapsed": true,
    "ExecuteTime": {
     "end_time": "2023-12-04T16:05:30.659276Z",
     "start_time": "2023-12-04T16:05:29.061507Z"
    }
   },
   "outputs": [],
   "source": [
    "import jax\n",
    "import jaxopt"
   ]
  },
  {
   "cell_type": "markdown",
   "source": [
    "Okay first a test that the optimizer works repeatedly, ie. that it doesn't retain state between runs."
   ],
   "metadata": {
    "collapsed": false
   },
   "id": "cd257114bdb3c69d"
  },
  {
   "cell_type": "code",
   "execution_count": 7,
   "outputs": [],
   "source": [
    "def residual_fun(vars):\n",
    "    x = vars[0]\n",
    "    y = vars[1]\n",
    "\n",
    "    return jax.numpy.array([\n",
    "        x ** 2 + y ** 2 - 1,\n",
    "        x ** 2 - y  ** 2 +0.5,\n",
    "    ])"
   ],
   "metadata": {
    "collapsed": false,
    "ExecuteTime": {
     "end_time": "2023-12-04T16:07:37.223643Z",
     "start_time": "2023-12-04T16:07:37.215385Z"
    }
   },
   "id": "f97b0956fcdfc719"
  },
  {
   "cell_type": "code",
   "execution_count": 9,
   "outputs": [],
   "source": [
    "opt = jaxopt.GaussNewton(residual_fun=residual_fun)"
   ],
   "metadata": {
    "collapsed": false,
    "ExecuteTime": {
     "end_time": "2023-12-04T16:07:42.618281Z",
     "start_time": "2023-12-04T16:07:42.615894Z"
    }
   },
   "id": "499346ceab83c586"
  },
  {
   "cell_type": "code",
   "execution_count": 12,
   "outputs": [
    {
     "name": "stdout",
     "output_type": "stream",
     "text": [
      "f([0.5       0.8660254]) = [8.88178420e-16 2.22044605e-16]\n"
     ]
    }
   ],
   "source": [
    "p = opt.run(init_params=jax.numpy.array([1.0, 1.0])).params\n",
    "print(f\"f({p}) = {residual_fun(p)}\")"
   ],
   "metadata": {
    "collapsed": false,
    "ExecuteTime": {
     "end_time": "2023-12-04T16:08:14.230739Z",
     "start_time": "2023-12-04T16:08:14.122222Z"
    }
   },
   "id": "bccfaaa7e116a5f4"
  },
  {
   "cell_type": "code",
   "execution_count": 15,
   "outputs": [
    {
     "name": "stdout",
     "output_type": "stream",
     "text": [
      "f([-0.5        0.8660254]) = [8.88178420e-16 2.22044605e-16]\n"
     ]
    }
   ],
   "source": [
    "q = opt.run(init_params=jax.numpy.array([-1.0, 1.0])).params\n",
    "print(f\"f({q}) = {residual_fun(q)}\")"
   ],
   "metadata": {
    "collapsed": false,
    "ExecuteTime": {
     "end_time": "2023-12-04T16:09:20.663755Z",
     "start_time": "2023-12-04T16:09:20.552655Z"
    }
   },
   "id": "bbf23aaa80f75383"
  },
  {
   "cell_type": "markdown",
   "source": [
    "Okay, that works"
   ],
   "metadata": {
    "collapsed": false
   },
   "id": "5aa7cea48ef2d98d"
  }
 ],
 "metadata": {
  "kernelspec": {
   "display_name": "Python 3",
   "language": "python",
   "name": "python3"
  },
  "language_info": {
   "codemirror_mode": {
    "name": "ipython",
    "version": 2
   },
   "file_extension": ".py",
   "mimetype": "text/x-python",
   "name": "python",
   "nbconvert_exporter": "python",
   "pygments_lexer": "ipython2",
   "version": "2.7.6"
  }
 },
 "nbformat": 4,
 "nbformat_minor": 5
}
