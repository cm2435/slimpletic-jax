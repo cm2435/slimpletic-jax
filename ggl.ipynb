{
 "cells": [
  {
   "cell_type": "code",
   "execution_count": 1,
   "id": "initial_id",
   "metadata": {
    "collapsed": true,
    "ExecuteTime": {
     "end_time": "2023-11-21T13:30:24.657875Z",
     "start_time": "2023-11-21T13:30:24.651584Z"
    }
   },
   "outputs": [],
   "source": [
    "import json\n",
    "\n",
    "# Read json file\n",
    "file = './ggl-data-original.json'\n",
    "data = json.load(open(file))"
   ]
  },
  {
   "cell_type": "code",
   "execution_count": 3,
   "outputs": [
    {
     "data": {
      "text/plain": "{'r': 0, 'x': [-1.0, 1.0], 'w': [1.0, 1.0], 'd': [[-0.5, 0.5], [-0.5, 0.5]]}"
     },
     "execution_count": 3,
     "metadata": {},
     "output_type": "execute_result"
    }
   ],
   "source": [
    "data[0]"
   ],
   "metadata": {
    "collapsed": false,
    "ExecuteTime": {
     "end_time": "2023-11-21T13:30:45.387246Z",
     "start_time": "2023-11-21T13:30:45.371588Z"
    }
   },
   "id": "54fc5805735af872"
  },
  {
   "cell_type": "code",
   "execution_count": 4,
   "outputs": [],
   "source": [
    "from jax import Array, jit, grad\n",
    "\n",
    "import jax.lax\n",
    "import jax.numpy as jnp\n",
    "import scipy.special as sps"
   ],
   "metadata": {
    "collapsed": false,
    "ExecuteTime": {
     "end_time": "2023-11-21T13:31:13.749288Z",
     "start_time": "2023-11-21T13:31:11.674438Z"
    }
   },
   "id": "d1a442e0e9ce9788"
  },
  {
   "cell_type": "code",
   "execution_count": 11,
   "outputs": [
    {
     "data": {
      "text/plain": "Array([], dtype=float32)"
     },
     "execution_count": 11,
     "metadata": {},
     "output_type": "execute_result"
    }
   ],
   "source": [
    "r = 0\n",
    "c = sps.legendre(r + 1).c\n",
    "xs = jnp.real(jnp.roots(jnp.polyder(c)))\n",
    "xs"
   ],
   "metadata": {
    "collapsed": false,
    "ExecuteTime": {
     "end_time": "2023-11-21T13:35:29.935237Z",
     "start_time": "2023-11-21T13:35:29.902073Z"
    }
   },
   "id": "ac2123a701e3660e"
  },
  {
   "cell_type": "code",
   "execution_count": 9,
   "outputs": [
    {
     "data": {
      "text/plain": "Array([ 1.,  0., -1.], dtype=float32)"
     },
     "execution_count": 9,
     "metadata": {},
     "output_type": "execute_result"
    }
   ],
   "source": [
    "jnp.poly(jnp.array([-1, 1]))"
   ],
   "metadata": {
    "collapsed": false,
    "ExecuteTime": {
     "end_time": "2023-11-21T13:34:43.285201Z",
     "start_time": "2023-11-21T13:34:43.275613Z"
    }
   },
   "id": "fd04f36cfc3a230d"
  },
  {
   "cell_type": "code",
   "execution_count": 12,
   "outputs": [
    {
     "data": {
      "text/plain": "Array([-1.+0.j,  1.+0.j], dtype=complex64)"
     },
     "execution_count": 12,
     "metadata": {},
     "output_type": "execute_result"
    }
   ],
   "source": [
    "jnp.roots(jnp.polymul(jnp.array([1, 0, -1]), jnp.polyder(c)))"
   ],
   "metadata": {
    "collapsed": false,
    "ExecuteTime": {
     "end_time": "2023-11-21T13:35:33.787992Z",
     "start_time": "2023-11-21T13:35:33.765712Z"
    }
   },
   "id": "e8e4dd136ad121e6"
  },
  {
   "cell_type": "code",
   "execution_count": 13,
   "outputs": [],
   "source": [
    "def xs(r: int) -> Array:\n",
    "   c = sps.legendre(r + 1).c\n",
    "   return jnp.roots(jnp.polymul(jnp.array([1, 0, -1]), jnp.polyder(c)))"
   ],
   "metadata": {
    "collapsed": false,
    "ExecuteTime": {
     "end_time": "2023-11-21T13:36:07.872687Z",
     "start_time": "2023-11-21T13:36:07.869093Z"
    }
   },
   "id": "72108b57a8b7281d"
  },
  {
   "cell_type": "code",
   "execution_count": 21,
   "outputs": [
    {
     "data": {
      "text/plain": "Array([ 3.5762787e-07, -5.9604645e-08, -9.9999988e-01, -1.1920929e-07,\n        1.0000000e+00], dtype=float32)"
     },
     "execution_count": 21,
     "metadata": {},
     "output_type": "execute_result"
    }
   ],
   "source": [
    "jnp.array(data[3]['x']) - jnp.real(xs(3))"
   ],
   "metadata": {
    "collapsed": false,
    "ExecuteTime": {
     "end_time": "2023-11-21T13:36:59.530267Z",
     "start_time": "2023-11-21T13:36:59.507065Z"
    }
   },
   "id": "653c7763b4dcf090"
  },
  {
   "cell_type": "code",
   "execution_count": 24,
   "outputs": [
    {
     "data": {
      "text/plain": "[-1.0, -0.6546536707079772, 0.0, 0.6546536707079772, 1.0]"
     },
     "execution_count": 24,
     "metadata": {},
     "output_type": "execute_result"
    }
   ],
   "source": [
    "data[3]['x']"
   ],
   "metadata": {
    "collapsed": false,
    "ExecuteTime": {
     "end_time": "2023-11-21T13:37:15.635643Z",
     "start_time": "2023-11-21T13:37:15.619769Z"
    }
   },
   "id": "24338f30c2775201"
  },
  {
   "cell_type": "code",
   "execution_count": 30,
   "outputs": [
    {
     "data": {
      "text/plain": "Array([ 3.5762787e-07, -5.9604645e-08,  0.0000000e+00, -1.1920929e-07,\n        1.1920929e-07], dtype=float32)"
     },
     "execution_count": 30,
     "metadata": {},
     "output_type": "execute_result"
    }
   ],
   "source": [
    "jnp.array(data[3]['x']) - jnp.sort(jnp.real(xs(3)))"
   ],
   "metadata": {
    "collapsed": false,
    "ExecuteTime": {
     "end_time": "2023-11-21T13:38:07.486949Z",
     "start_time": "2023-11-21T13:38:07.468105Z"
    }
   },
   "id": "c16b992b142d6364"
  },
  {
   "cell_type": "code",
   "execution_count": null,
   "outputs": [],
   "source": [],
   "metadata": {
    "collapsed": false
   },
   "id": "34d6e55ec60d0728"
  }
 ],
 "metadata": {
  "kernelspec": {
   "display_name": "Python 3",
   "language": "python",
   "name": "python3"
  },
  "language_info": {
   "codemirror_mode": {
    "name": "ipython",
    "version": 2
   },
   "file_extension": ".py",
   "mimetype": "text/x-python",
   "name": "python",
   "nbconvert_exporter": "python",
   "pygments_lexer": "ipython2",
   "version": "2.7.6"
  }
 },
 "nbformat": 4,
 "nbformat_minor": 5
}
