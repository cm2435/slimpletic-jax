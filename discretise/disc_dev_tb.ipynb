{
 "cells": [
  {
   "cell_type": "code",
   "execution_count": 1,
   "id": "initial_id",
   "metadata": {
    "collapsed": true,
    "ExecuteTime": {
     "end_time": "2023-11-21T14:34:43.425093Z",
     "start_time": "2023-11-21T14:34:42.980919Z"
    }
   },
   "outputs": [],
   "source": [
    "import sympy\n",
    "from jax import Array, jit, grad\n",
    "\n",
    "import jax.lax\n",
    "import jax.numpy as jnp\n",
    "import scipy.special as sps"
   ]
  },
  {
   "cell_type": "code",
   "execution_count": 2,
   "outputs": [],
   "source": [
    "from ggl import ggl"
   ],
   "metadata": {
    "collapsed": false,
    "ExecuteTime": {
     "end_time": "2023-11-21T14:34:44.159828Z",
     "start_time": "2023-11-21T14:34:44.153099Z"
    }
   },
   "id": "9270f330cc038c73"
  },
  {
   "cell_type": "code",
   "execution_count": 40,
   "outputs": [
    {
     "data": {
      "text/plain": "(Array([-1.,  0.,  1.], dtype=float64),\n Array([0.33333333, 1.33333333, 0.33333333], dtype=float64),\n Array([[-1.5,  2. , -0.5],\n        [-0.5,  0. ,  0.5],\n        [ 0.5, -2. ,  1.5]], dtype=float64))"
     },
     "execution_count": 40,
     "metadata": {},
     "output_type": "execute_result"
    }
   ],
   "source": [
    "ggl(1)"
   ],
   "metadata": {
    "collapsed": false,
    "ExecuteTime": {
     "end_time": "2023-11-21T15:50:15.433774Z",
     "start_time": "2023-11-21T15:50:15.366220Z"
    }
   },
   "id": "116a2137b4f483f"
  },
  {
   "cell_type": "code",
   "execution_count": 97,
   "outputs": [],
   "source": [
    "from functools import partial\n",
    "\n",
    "\n",
    "@partial(jit, static_argnums=(0,))\n",
    "def discretise(\n",
    "        f: callable,\n",
    "        qs: Array,\n",
    "        ws: Array,\n",
    "):\n",
    "    \"\"\"\n",
    "    Computes the approximated integral of f using the discretisation (xs, ws).\n",
    "\n",
    "    :param f: The function to be integrated using the discretisation. \n",
    "    :param qs: The points at which we will evaluate f.\n",
    "    :param ws: The weights for each point in xs.\n",
    "    :return: The value of the discretised integral.\n",
    "    \"\"\"\n",
    "    return jnp.sum(jax.vmap(f)(qs) * ws, axis=0)"
   ],
   "metadata": {
    "collapsed": false,
    "ExecuteTime": {
     "end_time": "2023-11-21T16:37:39.029777Z",
     "start_time": "2023-11-21T16:37:38.996243Z"
    }
   },
   "id": "6217bef5940bf264"
  },
  {
   "cell_type": "code",
   "execution_count": 23,
   "outputs": [
    {
     "data": {
      "text/plain": "Array(14, dtype=int64)"
     },
     "execution_count": 23,
     "metadata": {},
     "output_type": "execute_result"
    }
   ],
   "source": [
    "l = lambda x: x ** 2\n",
    "discretise(lambda x: x ** 2, jnp.array([1, 2, 3]), jnp.array([1, 1, 1]))"
   ],
   "metadata": {
    "collapsed": false,
    "ExecuteTime": {
     "end_time": "2023-11-21T15:41:06.839021Z",
     "start_time": "2023-11-21T15:41:06.817171Z"
    }
   },
   "id": "916dd556d7d835ce"
  },
  {
   "cell_type": "code",
   "execution_count": 31,
   "outputs": [
    {
     "data": {
      "text/plain": "Array(14, dtype=int64)"
     },
     "execution_count": 31,
     "metadata": {},
     "output_type": "execute_result"
    }
   ],
   "source": [
    "discretise(l, jnp.array([1, 2, 3]), jnp.array([1, 1, 1]))"
   ],
   "metadata": {
    "collapsed": false,
    "ExecuteTime": {
     "end_time": "2023-11-21T15:41:18.125269Z",
     "start_time": "2023-11-21T15:41:18.118817Z"
    }
   },
   "id": "c4c6c5cff87cc673"
  },
  {
   "cell_type": "code",
   "execution_count": 101,
   "outputs": [],
   "source": [
    "r = 3\n",
    "dt = 0.1\n",
    "reduction_factor = 2 / dt\n",
    "\n",
    "xs, ws_reduced, dij_reduced = ggl(r)"
   ],
   "metadata": {
    "collapsed": false,
    "ExecuteTime": {
     "end_time": "2023-11-21T16:37:55.288151Z",
     "start_time": "2023-11-21T16:37:55.224770Z"
    }
   },
   "id": "d583a58f8c11ba92"
  },
  {
   "cell_type": "code",
   "execution_count": 102,
   "outputs": [],
   "source": [
    "ws = (1 / reduction_factor) * ws_reduced\n",
    "dij = reduction_factor * dij_reduced"
   ],
   "metadata": {
    "collapsed": false,
    "ExecuteTime": {
     "end_time": "2023-11-21T16:37:55.715252Z",
     "start_time": "2023-11-21T16:37:55.707946Z"
    }
   },
   "id": "98783762c6373013"
  },
  {
   "cell_type": "code",
   "execution_count": 80,
   "outputs": [
    {
     "data": {
      "text/plain": "Array(0.3, dtype=float64)"
     },
     "execution_count": 80,
     "metadata": {},
     "output_type": "execute_result"
    }
   ],
   "source": [
    "discretise(l, xs * 3, ws)"
   ],
   "metadata": {
    "collapsed": false,
    "ExecuteTime": {
     "end_time": "2023-11-21T16:29:04.988804Z",
     "start_time": "2023-11-21T16:29:04.955671Z"
    }
   },
   "id": "92449acdfed8a2d1"
  },
  {
   "cell_type": "code",
   "execution_count": 83,
   "outputs": [],
   "source": [
    "import original.slimplectic_GGL\n",
    "from sympy import Symbol, lambdify"
   ],
   "metadata": {
    "collapsed": false,
    "ExecuteTime": {
     "end_time": "2023-11-21T16:29:35.657650Z",
     "start_time": "2023-11-21T16:29:35.654813Z"
    }
   },
   "id": "58ce76afdaef56f6"
  },
  {
   "cell_type": "code",
   "execution_count": 168,
   "outputs": [],
   "source": [
    "ddt = Symbol('ddt')\n",
    "q1 = Symbol('q1')\n",
    "q2 = Symbol('q2')\n",
    "\n",
    "expr, table = original.slimplectic_GGL.GGL_Gen_Ld(\n",
    "    tsymbol=Symbol('t'),\n",
    "    q_list=[q1, q2],\n",
    "    qprime_list=[Symbol('qdot1'), Symbol('qdot2')],\n",
    "    L=Symbol('t') + q1 + q2,\n",
    "    r=r,\n",
    "    ddt=ddt,\n",
    ")"
   ],
   "metadata": {
    "collapsed": false,
    "ExecuteTime": {
     "end_time": "2023-11-21T17:19:41.997225Z",
     "start_time": "2023-11-21T17:19:41.994616Z"
    }
   },
   "id": "b88315762e0dbe18"
  },
  {
   "cell_type": "code",
   "execution_count": 106,
   "outputs": [
    {
     "data": {
      "text/plain": "3.0"
     },
     "execution_count": 106,
     "metadata": {},
     "output_type": "execute_result"
    }
   ],
   "source": [
    "float((q1 + q2).evalf(subs={q1: 1, q2: 2}))"
   ],
   "metadata": {
    "collapsed": false,
    "ExecuteTime": {
     "end_time": "2023-11-21T16:38:13.014900Z",
     "start_time": "2023-11-21T16:38:13.007677Z"
    }
   },
   "id": "4388edcd50bb3da4"
  },
  {
   "cell_type": "code",
   "execution_count": 169,
   "outputs": [
    {
     "data": {
      "text/plain": "0.05*ddt*(t + {q1^{[n]}} + {q2^{[n]}}) + 0.27222222222222222222*ddt*(0.3453463292920228562*ddt + t + {q1^{(1)}} + {q2^{(1)}}) + 0.35555555555555555556*ddt*(1.0*ddt + t + {q1^{(2)}} + {q2^{(2)}}) + 0.27222222222222222222*ddt*(1.6546536707079771438*ddt + t + {q1^{(3)}} + {q2^{(3)}}) + 0.05*ddt*(2.0*ddt + t + {q1^{[n+1]}} + {q2^{[n+1]}})",
      "text/latex": "$\\displaystyle 0.05 ddt \\left(t + {q1^{[n]}} + {q2^{[n]}}\\right) + 0.27222222222222222222 ddt \\left(0.3453463292920228562 ddt + t + {q1^{(1)}} + {q2^{(1)}}\\right) + 0.35555555555555555556 ddt \\left(1.0 ddt + t + {q1^{(2)}} + {q2^{(2)}}\\right) + 0.27222222222222222222 ddt \\left(1.6546536707079771438 ddt + t + {q1^{(3)}} + {q2^{(3)}}\\right) + 0.05 ddt \\left(2.0 ddt + t + {q1^{[n+1]}} + {q2^{[n+1]}}\\right)$"
     },
     "execution_count": 169,
     "metadata": {},
     "output_type": "execute_result"
    }
   ],
   "source": [
    "expr"
   ],
   "metadata": {
    "collapsed": false,
    "ExecuteTime": {
     "end_time": "2023-11-21T17:19:44.072566Z",
     "start_time": "2023-11-21T17:19:44.063083Z"
    }
   },
   "id": "bc630fe56df282ad"
  },
  {
   "cell_type": "code",
   "execution_count": 108,
   "outputs": [
    {
     "data": {
      "text/plain": "[[{q1^{[n]}}, {q1^{(1)}}, {q1^{(2)}}, {q1^{(3)}}, {q1^{[n+1]}}],\n [{q2^{[n]}}, {q2^{(1)}}, {q2^{(2)}}, {q2^{(3)}}, {q2^{[n+1]}}]]"
     },
     "execution_count": 108,
     "metadata": {},
     "output_type": "execute_result"
    }
   ],
   "source": [
    "table"
   ],
   "metadata": {
    "collapsed": false,
    "ExecuteTime": {
     "end_time": "2023-11-21T16:38:19.032177Z",
     "start_time": "2023-11-21T16:38:19.024561Z"
    }
   },
   "id": "7994a3de8f72746c"
  },
  {
   "cell_type": "code",
   "execution_count": 109,
   "outputs": [],
   "source": [
    "q1_values = [1, 2, 3, 4, 5]\n",
    "q2_values = [2, 4, 2, 1, 3]"
   ],
   "metadata": {
    "collapsed": false,
    "ExecuteTime": {
     "end_time": "2023-11-21T16:38:53.088962Z",
     "start_time": "2023-11-21T16:38:53.077493Z"
    }
   },
   "id": "d5f323a8af90cc0f"
  },
  {
   "cell_type": "code",
   "execution_count": 111,
   "outputs": [
    {
     "data": {
      "text/plain": "0.5322222222222223"
     },
     "execution_count": 111,
     "metadata": {},
     "output_type": "execute_result"
    }
   ],
   "source": [
    "lambdify([ddt, *table], expr)(dt, q1_values, q2_values)"
   ],
   "metadata": {
    "collapsed": false,
    "ExecuteTime": {
     "end_time": "2023-11-21T16:38:59.956100Z",
     "start_time": "2023-11-21T16:38:59.943927Z"
    }
   },
   "id": "f976a771adceea9"
  },
  {
   "cell_type": "code",
   "execution_count": 113,
   "outputs": [
    {
     "data": {
      "text/plain": "Array(0.53222222, dtype=float64)"
     },
     "execution_count": 113,
     "metadata": {},
     "output_type": "execute_result"
    }
   ],
   "source": [
    "discretise(\n",
    "    f=lambda qvec: qvec[0] + qvec[1],\n",
    "    qs=jnp.array([q1_values, q2_values]).transpose(),\n",
    "    ws=ws,\n",
    ")"
   ],
   "metadata": {
    "collapsed": false,
    "ExecuteTime": {
     "end_time": "2023-11-21T16:39:16.330358Z",
     "start_time": "2023-11-21T16:39:16.294053Z"
    }
   },
   "id": "14c3be6165f08881"
  },
  {
   "cell_type": "code",
   "execution_count": 88,
   "outputs": [
    {
     "data": {
      "text/plain": "16"
     },
     "execution_count": 88,
     "metadata": {},
     "output_type": "execute_result"
    }
   ],
   "source": [
    "lambdify([Symbol('x')], Symbol('x') ** 4)(2)"
   ],
   "metadata": {
    "collapsed": false,
    "ExecuteTime": {
     "end_time": "2023-11-21T16:33:13.313866Z",
     "start_time": "2023-11-21T16:33:13.278471Z"
    }
   },
   "id": "2bf001e27d439b81"
  },
  {
   "cell_type": "code",
   "execution_count": 162,
   "outputs": [],
   "source": [
    "qvv = jnp.array([xs, xs]).transpose()"
   ],
   "metadata": {
    "collapsed": false,
    "ExecuteTime": {
     "end_time": "2023-11-21T17:17:51.589557Z",
     "start_time": "2023-11-21T17:17:51.579685Z"
    }
   },
   "id": "4896ed16ad367ebf"
  },
  {
   "cell_type": "code",
   "execution_count": 163,
   "outputs": [
    {
     "data": {
      "text/plain": "Array([[-1.00000000e+00, -1.00000000e+00],\n       [-6.54653671e-01, -6.54653671e-01],\n       [ 3.23815049e-17,  3.23815049e-17],\n       [ 6.54653671e-01,  6.54653671e-01],\n       [ 1.00000000e+00,  1.00000000e+00]], dtype=float64)"
     },
     "execution_count": 163,
     "metadata": {},
     "output_type": "execute_result"
    }
   ],
   "source": [
    "qvv"
   ],
   "metadata": {
    "collapsed": false,
    "ExecuteTime": {
     "end_time": "2023-11-21T17:17:54.226068Z",
     "start_time": "2023-11-21T17:17:54.187505Z"
    }
   },
   "id": "a53ef51ff9b21890"
  },
  {
   "cell_type": "code",
   "execution_count": 165,
   "outputs": [
    {
     "data": {
      "text/plain": "[Array([-1.00000000e+00, -6.54653671e-01,  3.23815049e-17,  6.54653671e-01,\n         1.00000000e+00], dtype=float64),\n Array([-1.00000000e+00, -6.54653671e-01,  3.23815049e-17,  6.54653671e-01,\n         1.00000000e+00], dtype=float64)]"
     },
     "execution_count": 165,
     "metadata": {},
     "output_type": "execute_result"
    }
   ],
   "source": [
    "[*qvv.transpose()]"
   ],
   "metadata": {
    "collapsed": false,
    "ExecuteTime": {
     "end_time": "2023-11-21T17:18:01.518189Z",
     "start_time": "2023-11-21T17:18:01.502930Z"
    }
   },
   "id": "ec4f9b81c1340a8c"
  },
  {
   "cell_type": "code",
   "execution_count": 134,
   "outputs": [],
   "source": [
    "from dataclasses import dataclass, field\n",
    "from sympy import Expr\n",
    "\n",
    "\n",
    "@dataclass\n",
    "class TestCase:\n",
    "    dt: float\n",
    "    r: int\n",
    "\n",
    "    \"\"\"\n",
    "    The JAX function which we will be discretising. This should take a single argument representing where we are in phase space.\n",
    "    \n",
    "    Signature: (qvec: [float; dof], qdotvec: [float; dof]: , t: float) -> float\n",
    "    \"\"\"\n",
    "    func: callable\n",
    "\n",
    "    \"\"\"\n",
    "    The \n",
    "    \"\"\"\n",
    "    expr: Expr\n",
    "\n",
    "    variables: list[str] = field(default_factory=lambda: ['q1', 'q2'])\n",
    "    variable_derivatives: list[str] = field(default_factory=lambda: ['q1_dot', 'q2_dot'])\n",
    "\n",
    "    def validate(self):\n",
    "        \"\"\"\n",
    "        Validates the coherence of the test case.\n",
    "        \"\"\"\n",
    "        assert len(self.variables) == len(self.variable_derivatives)\n",
    "\n",
    "        lambdify_args = [Symbol('ddt'), *self.variables, *self.variable_derivatives]\n",
    "        eval_expr = lambdify(lambdify_args, self.expr)\n",
    "\n",
    "    def compute_new(self, q_values: Array):\n",
    "        \"\"\"\n",
    "        Computes the value of F_d under the GGL discretisation using the new code.\n",
    "        \n",
    "        :param q_values: Currently we are only testing the form of the expression so we pass in the values of q at the\n",
    "                         different points manually. This should be a JAX array of shape (r + 2, func_arg).\n",
    "        :return: \n",
    "        \"\"\"\n",
    "        # TODO: Currently we are onl\n",
    "        _, ws_reduced, dij_reduced = ggl(self.r)\n",
    "        ws = (1 / reduction_factor) * ws_reduced\n",
    "        dij = reduction_factor * dij_reduced\n",
    "\n",
    "        discretise(\n",
    "            f=self.func,\n",
    "            qs=jnp.array([q1_values, q2_values]).transpose(),\n",
    "            ws=ws,\n",
    "        )"
   ],
   "metadata": {
    "collapsed": false,
    "ExecuteTime": {
     "end_time": "2023-11-21T16:50:23.649077Z",
     "start_time": "2023-11-21T16:50:23.644875Z"
    }
   },
   "id": "fe6950c65e29dfe7"
  },
  {
   "cell_type": "code",
   "execution_count": 136,
   "outputs": [
    {
     "data": {
      "text/plain": "TestCase(dt=2, r=1, expr=q1 + q2, variables=['q1', 'q2'], variable_derivatives=['q1_dot', 'q2_dot'])"
     },
     "execution_count": 136,
     "metadata": {},
     "output_type": "execute_result"
    }
   ],
   "source": [
    "TestCase(\n",
    "    r=1,\n",
    "    dt=2,\n",
    "    expr=Symbol('q1') + Symbol('q2')\n",
    ")"
   ],
   "metadata": {
    "collapsed": false,
    "ExecuteTime": {
     "end_time": "2023-11-21T16:51:00.714799Z",
     "start_time": "2023-11-21T16:51:00.705111Z"
    }
   },
   "id": "4ca4ee71789e78e4"
  },
  {
   "cell_type": "code",
   "execution_count": 355,
   "outputs": [],
   "source": [
    "from typing import Callable\n",
    "\n",
    "\n",
    "class System:\n",
    "    def eval_at(self, qvec: Array, qdotvec: Array, t: float):\n",
    "        raise NotImplementedError()\n",
    "\n",
    "    def discretise(self, r: int, dt: float, qvec_values: Array, t0: float):\n",
    "        raise NotImplementedError()\n",
    "\n",
    "\n",
    "class SympySystem(System):\n",
    "    def __init__(self, dof: int, builder: Callable[[list[Symbol], list[Symbol], Symbol], Expr]):\n",
    "        self.dof = dof\n",
    "        self.r = r\n",
    "        self.dt = dt\n",
    "        self.q_list = [Symbol(f'q{i}') for i in range(dof)]\n",
    "        self.qdot_list = [Symbol(f'qdot{i}') for i in range(dof)]\n",
    "        self.t_symbol = Symbol('t')\n",
    "        self.dt_symbol = Symbol('ddt')\n",
    "        self.expr = builder(self.q_list, self.qdot_list, self.t_symbol)\n",
    "        self._eval = lambdify([*self.q_list, *self.qdot_list, self.t_symbol], self.expr)\n",
    "\n",
    "    def eval_at(self, qvec: Array, qdotvec: Array, t: float):\n",
    "        return self._eval(*qvec, *qdotvec, t)\n",
    "\n",
    "    def discretise(self, r: int, dt: float, qvec_values: Array, t0: float):\n",
    "        \"\"\"\n",
    "        Computes the values of F_d under the GGL discretisation with parameters r and dt.\n",
    "        \n",
    "        - qvec_values should be a JAX array of shape (r + 2, dof) representing the values of q at the different points.\n",
    "        - t0 is the initial time at the start of the integration.\n",
    "        \"\"\"\n",
    "        expr_d, table = original.slimplectic_GGL.GGL_Gen_Ld(\n",
    "            tsymbol=self.t_symbol,\n",
    "            q_list=self.q_list,\n",
    "            qprime_list=self.qdot_list,\n",
    "            L=self.expr,\n",
    "            r=r,\n",
    "            ddt=self.dt_symbol,\n",
    "        )\n",
    "        \n",
    "        self.expr_d = expr_d\n",
    "        self.d_table = table\n",
    "\n",
    "        return lambdify([self.t_symbol, self.dt_symbol, *table], expr_d)(t0, self.dt, *qvec_values.transpose())\n",
    "\n",
    "\n",
    "class JAXSystem(System):\n",
    "    def __init__(self, function):\n",
    "        self.function = function\n",
    "\n",
    "    def eval_at(self, qvec: Array, qdotvec: Array, t: float):\n",
    "        return self.function(qvec, qdotvec, t)"
   ],
   "metadata": {
    "collapsed": false,
    "ExecuteTime": {
     "end_time": "2023-11-22T11:04:13.532439Z",
     "start_time": "2023-11-22T11:04:13.523708Z"
    }
   },
   "id": "c0e6c1c43c129f8"
  },
  {
   "cell_type": "code",
   "execution_count": 355,
   "outputs": [],
   "source": [],
   "metadata": {
    "collapsed": false,
    "ExecuteTime": {
     "end_time": "2023-11-22T11:04:14.447984Z",
     "start_time": "2023-11-22T11:04:14.384903Z"
    }
   },
   "id": "6b40100c747f5417"
  },
  {
   "cell_type": "code",
   "execution_count": 356,
   "outputs": [
    {
     "data": {
      "text/plain": "Array(-3.46944695e-17, dtype=float64)"
     },
     "execution_count": 356,
     "metadata": {},
     "output_type": "execute_result"
    }
   ],
   "source": [
    "ss = (SympySystem(\n",
    "    dof=2,\n",
    "    builder=lambda qs, qdots, t: qs[0] + qs[1]\n",
    "))\n",
    "\n",
    "ss.discretise(\n",
    "    r=3,\n",
    "    dt=0.1,\n",
    "    qvec_values=qvv,\n",
    "    t0=0,\n",
    ")"
   ],
   "metadata": {
    "collapsed": false,
    "ExecuteTime": {
     "end_time": "2023-11-22T11:04:14.841614Z",
     "start_time": "2023-11-22T11:04:14.831513Z"
    }
   },
   "id": "efdbb2c864633567"
  },
  {
   "cell_type": "code",
   "execution_count": 357,
   "outputs": [
    {
     "data": {
      "text/plain": "0.27222222222222222222*ddt*({q0^{(1)}} + {q1^{(1)}}) + 0.35555555555555555556*ddt*({q0^{(2)}} + {q1^{(2)}}) + 0.27222222222222222222*ddt*({q0^{(3)}} + {q1^{(3)}}) + 0.05*ddt*({q0^{[n+1]}} + {q1^{[n+1]}}) + 0.05*ddt*({q0^{[n]}} + {q1^{[n]}})",
      "text/latex": "$\\displaystyle 0.27222222222222222222 ddt \\left({q0^{(1)}} + {q1^{(1)}}\\right) + 0.35555555555555555556 ddt \\left({q0^{(2)}} + {q1^{(2)}}\\right) + 0.27222222222222222222 ddt \\left({q0^{(3)}} + {q1^{(3)}}\\right) + 0.05 ddt \\left({q0^{[n+1]}} + {q1^{[n+1]}}\\right) + 0.05 ddt \\left({q0^{[n]}} + {q1^{[n]}}\\right)$"
     },
     "execution_count": 357,
     "metadata": {},
     "output_type": "execute_result"
    }
   ],
   "source": [
    "ss.expr_d"
   ],
   "metadata": {
    "collapsed": false,
    "ExecuteTime": {
     "end_time": "2023-11-22T11:04:16.494948Z",
     "start_time": "2023-11-22T11:04:16.491647Z"
    }
   },
   "id": "16ce2da0f5cb6c2a"
  },
  {
   "cell_type": "code",
   "execution_count": 361,
   "outputs": [
    {
     "data": {
      "text/plain": "{q0^{(1)}}",
      "text/latex": "$\\displaystyle {q0^{(1)}}$"
     },
     "execution_count": 361,
     "metadata": {},
     "output_type": "execute_result"
    }
   ],
   "source": [
    "ss.d_table[0][1]"
   ],
   "metadata": {
    "collapsed": false,
    "ExecuteTime": {
     "end_time": "2023-11-22T11:04:40.536201Z",
     "start_time": "2023-11-22T11:04:40.523091Z"
    }
   },
   "id": "548a3ec5a0f50c1"
  },
  {
   "cell_type": "code",
   "execution_count": 365,
   "outputs": [],
   "source": [
    "import sympy"
   ],
   "metadata": {
    "collapsed": false,
    "ExecuteTime": {
     "end_time": "2023-11-22T11:05:06.345758Z",
     "start_time": "2023-11-22T11:05:06.304554Z"
    }
   },
   "id": "f3802940709f41fa"
  },
  {
   "cell_type": "code",
   "execution_count": 366,
   "outputs": [
    {
     "data": {
      "text/plain": "0.35555555555555555556*ddt*({q0^{(2)}} + {q1^{(2)}}) + 0.27222222222222222222*ddt*({q0^{(3)}} + {q1^{(3)}}) + 0.05*ddt*({q0^{[n+1]}} + {q1^{[n+1]}}) + 0.05*ddt*({q0^{[n]}} + {q1^{[n]}}) + 0.27222222222222222222*ddt*({q1^{(1)}} + 1.0)",
      "text/latex": "$\\displaystyle 0.35555555555555555556 ddt \\left({q0^{(2)}} + {q1^{(2)}}\\right) + 0.27222222222222222222 ddt \\left({q0^{(3)}} + {q1^{(3)}}\\right) + 0.05 ddt \\left({q0^{[n+1]}} + {q1^{[n+1]}}\\right) + 0.05 ddt \\left({q0^{[n]}} + {q1^{[n]}}\\right) + 0.27222222222222222222 ddt \\left({q1^{(1)}} + 1.0\\right)$"
     },
     "execution_count": 366,
     "metadata": {},
     "output_type": "execute_result"
    }
   ],
   "source": [
    "ss.expr_d.subs(ss.d_table[0][1], sympy.Float(1))"
   ],
   "metadata": {
    "collapsed": false,
    "ExecuteTime": {
     "end_time": "2023-11-22T11:05:10.204588Z",
     "start_time": "2023-11-22T11:05:10.188914Z"
    }
   },
   "id": "9a159ef852f47e80"
  },
  {
   "cell_type": "code",
   "execution_count": 170,
   "outputs": [
    {
     "ename": "AttributeError",
     "evalue": "'JAXSystem' object has no attribute 'eval'",
     "output_type": "error",
     "traceback": [
      "\u001B[0;31m---------------------------------------------------------------------------\u001B[0m",
      "\u001B[0;31mAttributeError\u001B[0m                            Traceback (most recent call last)",
      "Cell \u001B[0;32mIn[170], line 1\u001B[0m\n\u001B[0;32m----> 1\u001B[0m \u001B[43mJAXSystem\u001B[49m\u001B[43m(\u001B[49m\n\u001B[1;32m      2\u001B[0m \u001B[43m    \u001B[49m\u001B[43mfunction\u001B[49m\u001B[38;5;241;43m=\u001B[39;49m\u001B[38;5;28;43;01mlambda\u001B[39;49;00m\u001B[43m \u001B[49m\u001B[43mqs\u001B[49m\u001B[43m,\u001B[49m\u001B[43m \u001B[49m\u001B[43mqdots\u001B[49m\u001B[43m,\u001B[49m\u001B[43m \u001B[49m\u001B[43mt\u001B[49m\u001B[43m:\u001B[49m\u001B[43m \u001B[49m\u001B[43mqs\u001B[49m\u001B[43m[\u001B[49m\u001B[38;5;241;43m0\u001B[39;49m\u001B[43m]\u001B[49m\u001B[43m \u001B[49m\u001B[38;5;241;43m+\u001B[39;49m\u001B[43m \u001B[49m\u001B[43mqs\u001B[49m\u001B[43m[\u001B[49m\u001B[38;5;241;43m1\u001B[39;49m\u001B[43m]\u001B[49m\n\u001B[1;32m      3\u001B[0m \u001B[43m)\u001B[49m\u001B[38;5;241;43m.\u001B[39;49m\u001B[43meval\u001B[49m(\n\u001B[1;32m      4\u001B[0m     q_values\u001B[38;5;241m=\u001B[39mjnp\u001B[38;5;241m.\u001B[39marray([\u001B[38;5;241m1\u001B[39m, \u001B[38;5;241m2\u001B[39m]),\n\u001B[1;32m      5\u001B[0m     qdot_values\u001B[38;5;241m=\u001B[39mjnp\u001B[38;5;241m.\u001B[39marray([\u001B[38;5;241m3\u001B[39m, \u001B[38;5;241m4\u001B[39m]),\n\u001B[1;32m      6\u001B[0m     t\u001B[38;5;241m=\u001B[39m\u001B[38;5;241m5\u001B[39m,\n\u001B[1;32m      7\u001B[0m )\n",
      "\u001B[0;31mAttributeError\u001B[0m: 'JAXSystem' object has no attribute 'eval'"
     ]
    }
   ],
   "source": [
    "JAXSystem(\n",
    "    function=lambda qs, qdots, t: qs[0] + qs[1]\n",
    ").eval(\n",
    "    q_values=jnp.array([1, 2]),\n",
    "    qdot_values=jnp.array([3, 4]),\n",
    "    t=5,\n",
    ")"
   ],
   "metadata": {
    "collapsed": false,
    "ExecuteTime": {
     "end_time": "2023-11-21T17:21:28.769676Z",
     "start_time": "2023-11-21T17:21:28.757563Z"
    }
   },
   "id": "7f4868fbc0601581"
  },
  {
   "cell_type": "code",
   "execution_count": 183,
   "outputs": [
    {
     "name": "stdout",
     "output_type": "stream",
     "text": [
      "dof = 3\n",
      "r = 3\n"
     ]
    }
   ],
   "source": [
    "dof = 3\n",
    "print(f\"dof = {dof}\\nr = {r}\")"
   ],
   "metadata": {
    "collapsed": false,
    "ExecuteTime": {
     "end_time": "2023-11-21T19:10:22.528054Z",
     "start_time": "2023-11-21T19:10:22.525476Z"
    }
   },
   "id": "e645382f9adbcd34"
  },
  {
   "cell_type": "code",
   "execution_count": 205,
   "outputs": [],
   "source": [
    "q_vec_values = jnp.array(\n",
    "    [\n",
    "        [3, 2, 3],  # q0\n",
    "        [2, 3, 6],  # q_1\n",
    "        [4, 5, 5],  # q_2\n",
    "        [3, 3, 4],  # q_3\n",
    "        [4, 1, 6],  # q_{r + 1}\n",
    "    ]\n",
    ")"
   ],
   "metadata": {
    "collapsed": false,
    "ExecuteTime": {
     "end_time": "2023-11-21T19:18:40.822682Z",
     "start_time": "2023-11-21T19:18:40.801807Z"
    }
   },
   "id": "6c15cf92e089c7ac"
  },
  {
   "cell_type": "code",
   "execution_count": 191,
   "outputs": [],
   "source": [
    "assert q_vec_values.shape == (r + 2, dof)"
   ],
   "metadata": {
    "collapsed": false,
    "ExecuteTime": {
     "end_time": "2023-11-21T19:11:15.412081Z",
     "start_time": "2023-11-21T19:11:15.409776Z"
    }
   },
   "id": "a723897d30b79daf"
  },
  {
   "cell_type": "code",
   "execution_count": 207,
   "outputs": [
    {
     "name": "stdout",
     "output_type": "stream",
     "text": [
      "[  13.33333333   84.28914006    7.5        -114.28914006 -103.33333333]\n"
     ]
    }
   ],
   "source": [
    "jax.debug.print(\"{}\", jnp.matmul(dij, q_vec_values.transpose()[1]))"
   ],
   "metadata": {
    "collapsed": false,
    "ExecuteTime": {
     "end_time": "2023-11-21T19:18:45.117429Z",
     "start_time": "2023-11-21T19:18:45.108958Z"
    }
   },
   "id": "f213134cf0259b8f"
  },
  {
   "cell_type": "code",
   "execution_count": 197,
   "outputs": [
    {
     "data": {
      "text/plain": "<jax._src.config.Config at 0x11012c190>"
     },
     "execution_count": 197,
     "metadata": {},
     "output_type": "execute_result"
    }
   ],
   "source": [
    "# Make the debug line wrap limit larger\n",
    "jax.config.update(\"jax_log_compiles\", True)"
   ],
   "metadata": {
    "collapsed": false,
    "ExecuteTime": {
     "end_time": "2023-11-21T19:16:20.234911Z",
     "start_time": "2023-11-21T19:16:20.187097Z"
    }
   },
   "id": "847b73fdcc903e64"
  },
  {
   "cell_type": "code",
   "execution_count": 206,
   "outputs": [
    {
     "data": {
      "text/plain": "Array([[-198.46338311,   13.33333333,  296.92676622],\n       [  40.09505738,   84.28914006,   70.09505738],\n       [  19.23169155,    7.5       ,  -75.96338311],\n       [ -25.37030969, -114.28914006,   50.45544726],\n       [ 181.53661689, -103.33333333,  186.92676622]], dtype=float64)"
     },
     "execution_count": 206,
     "metadata": {},
     "output_type": "execute_result"
    }
   ],
   "source": [
    "jnp.matmul(\n",
    "    dij,\n",
    "    q_vec_values\n",
    ")"
   ],
   "metadata": {
    "collapsed": false,
    "ExecuteTime": {
     "end_time": "2023-11-21T19:18:42.806888Z",
     "start_time": "2023-11-21T19:18:42.804514Z"
    }
   },
   "id": "20e716bb93315326"
  },
  {
   "cell_type": "code",
   "execution_count": 209,
   "outputs": [
    {
     "data": {
      "text/plain": "[16, 16]"
     },
     "execution_count": 209,
     "metadata": {},
     "output_type": "execute_result"
    }
   ],
   "source": [
    "lambdify([Symbol('x')], [Symbol('x') ** 4, Symbol('x') ** 4])(2)"
   ],
   "metadata": {
    "collapsed": false,
    "ExecuteTime": {
     "end_time": "2023-11-21T19:23:48.415493Z",
     "start_time": "2023-11-21T19:23:48.408598Z"
    }
   },
   "id": "3815247dd0730019"
  },
  {
   "cell_type": "code",
   "execution_count": 238,
   "outputs": [],
   "source": [
    "r = 5\n",
    "a_qvec = jnp.arange((r + 2) * dof).reshape((r + 2, dof))\n",
    "a_derivative_matrix = ggl(r)[2] * (2 / dt)"
   ],
   "metadata": {
    "collapsed": false,
    "ExecuteTime": {
     "end_time": "2023-11-21T19:41:52.594791Z",
     "start_time": "2023-11-21T19:41:52.530811Z"
    }
   },
   "id": "de8baad6fddcebbf"
  },
  {
   "cell_type": "code",
   "execution_count": 371,
   "outputs": [
    {
     "data": {
      "text/plain": "Array([[471.03684468, 471.03684468, 471.03684468],\n       [258.57785266, 258.57785266, 258.57785266],\n       [122.63280804, 122.63280804, 122.63280804],\n       [135.52563577, 135.52563577, 135.52563577],\n       [122.63280804, 122.63280804, 122.63280804],\n       [258.57785266, 258.57785266, 258.57785266],\n       [471.03684468, 471.03684468, 471.03684468]], dtype=float64)"
     },
     "execution_count": 371,
     "metadata": {},
     "output_type": "execute_result"
    }
   ],
   "source": [
    "jnp.matmul(a_derivative_matrix, a_qvec)"
   ],
   "metadata": {
    "collapsed": false,
    "ExecuteTime": {
     "end_time": "2023-11-22T11:06:05.283656Z",
     "start_time": "2023-11-22T11:06:05.270279Z"
    }
   },
   "id": "4c9c2078e7f677b0"
  },
  {
   "cell_type": "code",
   "execution_count": 372,
   "outputs": [
    {
     "name": "stdout",
     "output_type": "stream",
     "text": [
      "[[-210.    284.03 -113.38   64.    -41.     26.35  -10.  ]\n",
      " [ -48.86    0.     69.12  -31.97   19.23  -12.04    4.53]\n",
      " [  12.51  -44.32    0.     45.33  -21.33   12.33   -4.52]\n",
      " [  -6.25   18.15  -40.14    0.     40.14  -18.15    6.25]\n",
      " [   4.52  -12.33   21.33  -45.33    0.     44.32  -12.51]\n",
      " [  -4.53   12.04  -19.23   31.97  -69.12    0.     48.86]\n",
      " [  10.    -26.35   41.    -64.    113.38 -284.03  210.  ]]\n"
     ]
    }
   ],
   "source": [
    "with jnp.printoptions(precision=2):\n",
    "    print(a_derivative_matrix)"
   ],
   "metadata": {
    "collapsed": false,
    "ExecuteTime": {
     "end_time": "2023-11-22T11:06:11.353257Z",
     "start_time": "2023-11-22T11:06:11.338516Z"
    }
   },
   "id": "1d428f26058d8cfa"
  },
  {
   "cell_type": "code",
   "execution_count": 383,
   "outputs": [],
   "source": [
    "from original.slimplectic_GGL import GGLdefs, GGL_q_Collocation_Table, DM_Sum\n",
    "\n",
    "DM = GGLdefs(r)[2]\n",
    "q_list = [Symbol(f'q_{i}') for i in range(r + 2)]\n",
    "q_table = GGL_q_Collocation_Table(q_list, r + 2)\n",
    "ddt_symbol = Symbol('ddt')\n",
    "\n",
    "dphidt_Table = []\n",
    "for qs in a_qvec:\n",
    "    dphidt_Table.append([DM_Sum(DMvec, qs) * 2 / dt for DMvec in DM])"
   ],
   "metadata": {
    "collapsed": false,
    "ExecuteTime": {
     "end_time": "2023-11-22T11:08:02.018427Z",
     "start_time": "2023-11-22T11:08:01.953287Z"
    }
   },
   "id": "4b50691685df33a1"
  },
  {
   "cell_type": "code",
   "execution_count": 384,
   "outputs": [
    {
     "data": {
      "text/plain": "[[135.96846794160366911,\n  97.717040569771579083,\n  19.305819042785740631,\n  -5.6508894253764180624,\n  3.2838406726486043200,\n  -2.9804687768979001214,\n  6.3474687140486894262],\n [135.96846794160366909,\n  97.717040569771579084,\n  19.305819042785740633,\n  -5.6508894253764180624,\n  3.2838406726486043182,\n  -2.9804687768979001222,\n  6.3474687140486894430],\n [135.96846794160366908,\n  97.717040569771579084,\n  19.305819042785740634,\n  -5.6508894253764180623,\n  3.2838406726486043167,\n  -2.9804687768979001225,\n  6.3474687140486894560],\n [135.96846794160366906,\n  97.717040569771579085,\n  19.305819042785740636,\n  -5.6508894253764180623,\n  3.2838406726486043152,\n  -2.9804687768979001236,\n  6.3474687140486894712],\n [135.96846794160366905,\n  97.717040569771579086,\n  19.305819042785740637,\n  -5.6508894253764180623,\n  3.2838406726486043143,\n  -2.9804687768979001236,\n  6.3474687140486894842],\n [135.96846794160366903,\n  97.717040569771579086,\n  19.305819042785740639,\n  -5.6508894253764180623,\n  3.2838406726486043129,\n  -2.9804687768979001236,\n  6.3474687140486895016],\n [135.96846794160366901,\n  97.717040569771579087,\n  19.305819042785740640,\n  -5.6508894253764180626,\n  3.2838406726486043102,\n  -2.9804687768979001247,\n  6.3474687140486895189]]"
     },
     "execution_count": 384,
     "metadata": {},
     "output_type": "execute_result"
    }
   ],
   "source": [
    "dphidt_Table"
   ],
   "metadata": {
    "collapsed": false,
    "ExecuteTime": {
     "end_time": "2023-11-22T11:08:02.744892Z",
     "start_time": "2023-11-22T11:08:02.717259Z"
    }
   },
   "id": "2d149842c60d8bbc"
  },
  {
   "cell_type": "code",
   "execution_count": 373,
   "outputs": [
    {
     "name": "stdout",
     "output_type": "stream",
     "text": [
      "[[135.97  97.72  19.31  -5.65   3.28  -2.98   6.35]\n",
      " [135.97  97.72  19.31  -5.65   3.28  -2.98   6.35]\n",
      " [135.97  97.72  19.31  -5.65   3.28  -2.98   6.35]\n",
      " [135.97  97.72  19.31  -5.65   3.28  -2.98   6.35]\n",
      " [135.97  97.72  19.31  -5.65   3.28  -2.98   6.35]\n",
      " [135.97  97.72  19.31  -5.65   3.28  -2.98   6.35]\n",
      " [135.97  97.72  19.31  -5.65   3.28  -2.98   6.35]]\n"
     ]
    }
   ],
   "source": [
    "from ggl.test import floatify2\n",
    "\n",
    "with jnp.printoptions(precision=2):\n",
    "    print(jnp.array(floatify2(dphidt_Table)))"
   ],
   "metadata": {
    "collapsed": false,
    "ExecuteTime": {
     "end_time": "2023-11-22T11:06:17.499288Z",
     "start_time": "2023-11-22T11:06:17.480177Z"
    }
   },
   "id": "ced04dfc2cd297dc"
  },
  {
   "cell_type": "markdown",
   "source": [],
   "metadata": {
    "collapsed": false
   },
   "id": "34d9954997edf867"
  },
  {
   "cell_type": "code",
   "execution_count": 367,
   "outputs": [],
   "source": [
    "subs = []\n",
    "for d in range(dof):\n",
    "    for i in range(r + 2):\n",
    "        subs.append((q_table[i][d], sympy.Float(float(a_qvec[i, d]))))"
   ],
   "metadata": {
    "collapsed": false,
    "ExecuteTime": {
     "end_time": "2023-11-22T11:05:33.822992Z",
     "start_time": "2023-11-22T11:05:33.804100Z"
    }
   },
   "id": "f2004bac7e152015"
  },
  {
   "cell_type": "code",
   "execution_count": 368,
   "outputs": [
    {
     "data": {
      "text/plain": "[({q_0^{[n]}}, 0.0),\n ({q_1^{[n]}}, 3.00000000000000),\n ({q_2^{[n]}}, 6.00000000000000),\n ({q_3^{[n]}}, 9.00000000000000),\n ({q_4^{[n]}}, 12.0000000000000),\n ({q_5^{[n]}}, 15.0000000000000),\n ({q_6^{[n]}}, 18.0000000000000),\n ({q_0^{(1)}}, 1.00000000000000),\n ({q_1^{(1)}}, 4.00000000000000),\n ({q_2^{(1)}}, 7.00000000000000),\n ({q_3^{(1)}}, 10.0000000000000),\n ({q_4^{(1)}}, 13.0000000000000),\n ({q_5^{(1)}}, 16.0000000000000),\n ({q_6^{(1)}}, 19.0000000000000),\n ({q_0^{(2)}}, 2.00000000000000),\n ({q_1^{(2)}}, 5.00000000000000),\n ({q_2^{(2)}}, 8.00000000000000),\n ({q_3^{(2)}}, 11.0000000000000),\n ({q_4^{(2)}}, 14.0000000000000),\n ({q_5^{(2)}}, 17.0000000000000),\n ({q_6^{(2)}}, 20.0000000000000)]"
     },
     "execution_count": 368,
     "metadata": {},
     "output_type": "execute_result"
    }
   ],
   "source": [
    "subs"
   ],
   "metadata": {
    "collapsed": false,
    "ExecuteTime": {
     "end_time": "2023-11-22T11:05:34.637216Z",
     "start_time": "2023-11-22T11:05:34.632721Z"
    }
   },
   "id": "661429b24a411302"
  },
  {
   "cell_type": "code",
   "execution_count": 381,
   "outputs": [
    {
     "name": "stdout",
     "output_type": "stream",
     "text": [
      "[[135.97 135.97 135.97 135.97 135.97 135.97 135.97]\n",
      " [ 97.72  97.72  97.72  97.72  97.72  97.72  97.72]\n",
      " [ 19.31  19.31  19.31  19.31  19.31  19.31  19.31]]\n"
     ]
    }
   ],
   "source": [
    "with jnp.printoptions(precision=2):\n",
    "    print(jnp.array(floatify2([[dphidt_Table[i][d].subs(subs) for i in range(r + 2)] for d in range(dof)])))"
   ],
   "metadata": {
    "collapsed": false,
    "ExecuteTime": {
     "end_time": "2023-11-22T11:07:44.083728Z",
     "start_time": "2023-11-22T11:07:44.070028Z"
    }
   },
   "id": "4df5cb024e5d6072"
  },
  {
   "cell_type": "code",
   "execution_count": 382,
   "outputs": [
    {
     "data": {
      "text/plain": "[[135.96846794160366911,\n  97.717040569771579083,\n  19.305819042785740631,\n  -5.6508894253764180624,\n  3.2838406726486043200,\n  -2.9804687768979001214,\n  6.3474687140486894262],\n [135.96846794160366909,\n  97.717040569771579084,\n  19.305819042785740633,\n  -5.6508894253764180624,\n  3.2838406726486043182,\n  -2.9804687768979001222,\n  6.3474687140486894430],\n [135.96846794160366908,\n  97.717040569771579084,\n  19.305819042785740634,\n  -5.6508894253764180623,\n  3.2838406726486043167,\n  -2.9804687768979001225,\n  6.3474687140486894560],\n [135.96846794160366906,\n  97.717040569771579085,\n  19.305819042785740636,\n  -5.6508894253764180623,\n  3.2838406726486043152,\n  -2.9804687768979001236,\n  6.3474687140486894712],\n [135.96846794160366905,\n  97.717040569771579086,\n  19.305819042785740637,\n  -5.6508894253764180623,\n  3.2838406726486043143,\n  -2.9804687768979001236,\n  6.3474687140486894842],\n [135.96846794160366903,\n  97.717040569771579086,\n  19.305819042785740639,\n  -5.6508894253764180623,\n  3.2838406726486043129,\n  -2.9804687768979001236,\n  6.3474687140486895016],\n [135.96846794160366901,\n  97.717040569771579087,\n  19.305819042785740640,\n  -5.6508894253764180626,\n  3.2838406726486043102,\n  -2.9804687768979001247,\n  6.3474687140486895189]]"
     },
     "execution_count": 382,
     "metadata": {},
     "output_type": "execute_result"
    }
   ],
   "source": [
    "dphidt_Table"
   ],
   "metadata": {
    "collapsed": false,
    "ExecuteTime": {
     "end_time": "2023-11-22T11:07:49.001637Z",
     "start_time": "2023-11-22T11:07:48.946458Z"
    }
   },
   "id": "41d6178904b417b8"
  },
  {
   "cell_type": "code",
   "execution_count": 311,
   "outputs": [],
   "source": [
    "a = dphidt_Table[1][1].subs([(Symbol('q_1^{(3)}'), 1), (ddt_symbol, dt)])"
   ],
   "metadata": {
    "collapsed": false,
    "ExecuteTime": {
     "end_time": "2023-11-21T19:59:05.749855Z",
     "start_time": "2023-11-21T19:59:05.745866Z"
    }
   },
   "id": "b3cac6f81d08ce72"
  },
  {
   "cell_type": "code",
   "execution_count": 370,
   "outputs": [
    {
     "data": {
      "text/plain": "97.717040569771579084",
      "text/latex": "$\\displaystyle 97.717040569771579084$"
     },
     "execution_count": 370,
     "metadata": {},
     "output_type": "execute_result"
    }
   ],
   "source": [
    "dphidt_Table[1][1].subs([(list(a.atoms())[5], 1), (ddt_symbol, dt)])"
   ],
   "metadata": {
    "collapsed": false,
    "ExecuteTime": {
     "end_time": "2023-11-22T11:05:47.992153Z",
     "start_time": "2023-11-22T11:05:47.980332Z"
    }
   },
   "id": "80649cd5add0a8cc"
  },
  {
   "cell_type": "code",
   "execution_count": 325,
   "outputs": [
    {
     "data": {
      "text/plain": "{q_1^{(5)}}",
      "text/latex": "$\\displaystyle {q_1^{(5)}}$"
     },
     "execution_count": 325,
     "metadata": {},
     "output_type": "execute_result"
    }
   ],
   "source": [
    "list(a.atoms())[6]"
   ],
   "metadata": {
    "collapsed": false,
    "ExecuteTime": {
     "end_time": "2023-11-21T20:00:17.132152Z",
     "start_time": "2023-11-21T20:00:17.102783Z"
    }
   },
   "id": "2526b3795774503e"
  },
  {
   "cell_type": "code",
   "execution_count": 340,
   "outputs": [
    {
     "data": {
      "text/plain": "(-2.0117032497289633053e-21*{q1^{(1)}} - 1.1011428314305904408e-20*{q1^{(2)}} + 4.2351647362715016953e-22*{q1^{(3)}} + 1.1011428314305904408e-20*{q1^{(4)}} + 2.5410988417629010172e-21*{q1^{(5)}} + 0.99999999999999999999*{q1^{[n+1]}} - 0.99999999999999999999*{q1^{[n]}},\n [[{q1^{[n]}},\n   {q1^{(1)}},\n   {q1^{(2)}},\n   {q1^{(3)}},\n   {q1^{(4)}},\n   {q1^{(5)}},\n   {q1^{[n+1]}}]])"
     },
     "execution_count": 340,
     "metadata": {},
     "output_type": "execute_result"
    }
   ],
   "source": [
    "original.slimplectic_GGL.GGL_Gen_Ld(\n",
    "    tsymbol=Symbol('t'),\n",
    "    q_list=[q1],\n",
    "    qprime_list=[Symbol('qdot1')],\n",
    "    L=Symbol('qdot1'),\n",
    "    r=r,\n",
    "    ddt=ddt,\n",
    ")"
   ],
   "metadata": {
    "collapsed": false,
    "ExecuteTime": {
     "end_time": "2023-11-22T11:00:58.931012Z",
     "start_time": "2023-11-22T11:00:58.911788Z"
    }
   },
   "id": "74c69997114d62a3"
  },
  {
   "cell_type": "code",
   "execution_count": 341,
   "outputs": [
    {
     "data": {
      "text/plain": "[[135.96846794160366911,\n  97.717040569771579083,\n  19.305819042785740631,\n  -5.6508894253764180624,\n  3.2838406726486043200,\n  -2.9804687768979001214,\n  6.3474687140486894262],\n [135.96846794160366909,\n  97.717040569771579084,\n  19.305819042785740633,\n  -5.6508894253764180624,\n  3.2838406726486043182,\n  -2.9804687768979001222,\n  6.3474687140486894430],\n [135.96846794160366908,\n  97.717040569771579084,\n  19.305819042785740634,\n  -5.6508894253764180623,\n  3.2838406726486043167,\n  -2.9804687768979001225,\n  6.3474687140486894560],\n [135.96846794160366906,\n  97.717040569771579085,\n  19.305819042785740636,\n  -5.6508894253764180623,\n  3.2838406726486043152,\n  -2.9804687768979001236,\n  6.3474687140486894712],\n [135.96846794160366905,\n  97.717040569771579086,\n  19.305819042785740637,\n  -5.6508894253764180623,\n  3.2838406726486043143,\n  -2.9804687768979001236,\n  6.3474687140486894842],\n [135.96846794160366903,\n  97.717040569771579086,\n  19.305819042785740639,\n  -5.6508894253764180623,\n  3.2838406726486043129,\n  -2.9804687768979001236,\n  6.3474687140486895016],\n [135.96846794160366901,\n  97.717040569771579087,\n  19.305819042785740640,\n  -5.6508894253764180626,\n  3.2838406726486043102,\n  -2.9804687768979001247,\n  6.3474687140486895189]]"
     },
     "execution_count": 341,
     "metadata": {},
     "output_type": "execute_result"
    }
   ],
   "source": [
    "dphidt_Table"
   ],
   "metadata": {
    "collapsed": false,
    "ExecuteTime": {
     "end_time": "2023-11-22T11:01:32.047333Z",
     "start_time": "2023-11-22T11:01:32.001626Z"
    }
   },
   "id": "16ae193c514601de"
  },
  {
   "cell_type": "code",
   "execution_count": null,
   "outputs": [],
   "source": [],
   "metadata": {
    "collapsed": false
   },
   "id": "5ddbcd81b3bce6be"
  }
 ],
 "metadata": {
  "kernelspec": {
   "display_name": "Python 3",
   "language": "python",
   "name": "python3"
  },
  "language_info": {
   "codemirror_mode": {
    "name": "ipython",
    "version": 2
   },
   "file_extension": ".py",
   "mimetype": "text/x-python",
   "name": "python",
   "nbconvert_exporter": "python",
   "pygments_lexer": "ipython2",
   "version": "2.7.6"
  }
 },
 "nbformat": 4,
 "nbformat_minor": 5
}
