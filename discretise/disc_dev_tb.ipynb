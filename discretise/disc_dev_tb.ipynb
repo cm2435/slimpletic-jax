{
 "cells": [
  {
   "cell_type": "code",
   "execution_count": 1,
   "id": "initial_id",
   "metadata": {
    "collapsed": true,
    "ExecuteTime": {
     "end_time": "2023-11-21T14:34:43.425093Z",
     "start_time": "2023-11-21T14:34:42.980919Z"
    }
   },
   "outputs": [],
   "source": [
    "from jax import Array, jit, grad\n",
    "\n",
    "import jax.lax\n",
    "import jax.numpy as jnp\n",
    "import scipy.special as sps"
   ]
  },
  {
   "cell_type": "code",
   "execution_count": 2,
   "outputs": [],
   "source": [
    "from ggl import ggl"
   ],
   "metadata": {
    "collapsed": false,
    "ExecuteTime": {
     "end_time": "2023-11-21T14:34:44.159828Z",
     "start_time": "2023-11-21T14:34:44.153099Z"
    }
   },
   "id": "9270f330cc038c73"
  },
  {
   "cell_type": "code",
   "execution_count": 3,
   "outputs": [
    {
     "data": {
      "text/plain": "(Array([-1.,  0.,  1.], dtype=float64),\n Array([0.33333333, 1.33333333, 0.33333333], dtype=float64),\n Array([[-1.5,  2. , -0.5],\n        [-0.5,  0. ,  0.5],\n        [ 0.5, -2. ,  1.5]], dtype=float64))"
     },
     "execution_count": 3,
     "metadata": {},
     "output_type": "execute_result"
    }
   ],
   "source": [
    "ggl(1)"
   ],
   "metadata": {
    "collapsed": false,
    "ExecuteTime": {
     "end_time": "2023-11-21T14:34:45.524399Z",
     "start_time": "2023-11-21T14:34:45.267662Z"
    }
   },
   "id": "116a2137b4f483f"
  },
  {
   "cell_type": "code",
   "execution_count": 13,
   "outputs": [],
   "source": [
    "from functools import partial\n",
    "\n",
    "\n",
    "@partial(jit, static_argnums=(0,))\n",
    "def discretise(\n",
    "        f,\n",
    "        xs,\n",
    "        ws,\n",
    "):\n",
    "    return jnp.sum(jax.vmap(f)(xs) * ws, axis=0)"
   ],
   "metadata": {
    "collapsed": false,
    "ExecuteTime": {
     "end_time": "2023-11-21T15:40:34.529276Z",
     "start_time": "2023-11-21T15:40:34.524222Z"
    }
   },
   "id": "6217bef5940bf264"
  },
  {
   "cell_type": "code",
   "execution_count": 23,
   "outputs": [
    {
     "data": {
      "text/plain": "Array(14, dtype=int64)"
     },
     "execution_count": 23,
     "metadata": {},
     "output_type": "execute_result"
    }
   ],
   "source": [
    "l = lambda x: x ** 2\n",
    "discretise(lambda x: x ** 2, jnp.array([1, 2, 3]), jnp.array([1, 1, 1]))"
   ],
   "metadata": {
    "collapsed": false,
    "ExecuteTime": {
     "end_time": "2023-11-21T15:41:06.839021Z",
     "start_time": "2023-11-21T15:41:06.817171Z"
    }
   },
   "id": "916dd556d7d835ce"
  },
  {
   "cell_type": "code",
   "execution_count": 31,
   "outputs": [
    {
     "data": {
      "text/plain": "Array(14, dtype=int64)"
     },
     "execution_count": 31,
     "metadata": {},
     "output_type": "execute_result"
    }
   ],
   "source": [
    "discretise(l, jnp.array([1, 2, 3]), jnp.array([1, 1, 1]))"
   ],
   "metadata": {
    "collapsed": false,
    "ExecuteTime": {
     "end_time": "2023-11-21T15:41:18.125269Z",
     "start_time": "2023-11-21T15:41:18.118817Z"
    }
   },
   "id": "c4c6c5cff87cc673"
  },
  {
   "cell_type": "code",
   "execution_count": 33,
   "outputs": [],
   "source": [
    "xs, ws, dij = ggl(3)"
   ],
   "metadata": {
    "collapsed": false,
    "ExecuteTime": {
     "end_time": "2023-11-21T15:42:49.634776Z",
     "start_time": "2023-11-21T15:42:49.572862Z"
    }
   },
   "id": "d583a58f8c11ba92"
  },
  {
   "cell_type": "code",
   "execution_count": 39,
   "outputs": [
    {
     "data": {
      "text/plain": "Array(6., dtype=float64)"
     },
     "execution_count": 39,
     "metadata": {},
     "output_type": "execute_result"
    }
   ],
   "source": [
    "discretise(l, xs * 3, ws)"
   ],
   "metadata": {
    "collapsed": false,
    "ExecuteTime": {
     "end_time": "2023-11-21T15:43:25.481730Z",
     "start_time": "2023-11-21T15:43:25.474129Z"
    }
   },
   "id": "92449acdfed8a2d1"
  },
  {
   "cell_type": "code",
   "execution_count": null,
   "outputs": [],
   "source": [],
   "metadata": {
    "collapsed": false
   },
   "id": "d0b8ad1d0412c79c"
  }
 ],
 "metadata": {
  "kernelspec": {
   "display_name": "Python 3",
   "language": "python",
   "name": "python3"
  },
  "language_info": {
   "codemirror_mode": {
    "name": "ipython",
    "version": 2
   },
   "file_extension": ".py",
   "mimetype": "text/x-python",
   "name": "python",
   "nbconvert_exporter": "python",
   "pygments_lexer": "ipython2",
   "version": "2.7.6"
  }
 },
 "nbformat": 4,
 "nbformat_minor": 5
}
