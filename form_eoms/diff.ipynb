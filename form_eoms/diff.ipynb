{
 "cells": [
  {
   "cell_type": "code",
   "execution_count": 6,
   "id": "initial_id",
   "metadata": {
    "collapsed": true,
    "ExecuteTime": {
     "end_time": "2023-11-27T14:48:16.724366Z",
     "start_time": "2023-11-27T14:48:16.718335Z"
    }
   },
   "outputs": [],
   "source": [
    "def fn(x, xs):\n",
    "    return x[0] * 2 + x[1] * x[2] + xs[0] * 3 + xs[1] * xs[2]"
   ]
  },
  {
   "cell_type": "code",
   "execution_count": 7,
   "outputs": [],
   "source": [
    "import jax\n",
    "import jax.numpy as jnp"
   ],
   "metadata": {
    "collapsed": false,
    "ExecuteTime": {
     "end_time": "2023-11-27T14:48:18.243245Z",
     "start_time": "2023-11-27T14:48:18.238813Z"
    }
   },
   "id": "250853c854f49cbe"
  },
  {
   "cell_type": "markdown",
   "source": [
    "A proof of concept to show we can differentiate a function which takes an array, for example (x, y, z)."
   ],
   "metadata": {
    "collapsed": false
   },
   "id": "5a200370e9897c73"
  },
  {
   "cell_type": "code",
   "execution_count": 14,
   "outputs": [
    {
     "data": {
      "text/plain": "Array([2., 3., 2.], dtype=float64)"
     },
     "execution_count": 14,
     "metadata": {},
     "output_type": "execute_result"
    }
   ],
   "source": [
    "jax.grad(fn, argnums=0)(\n",
    "    jnp.array([1., 2., 3.]),\n",
    "    jnp.array([1., 2., 3.])\n",
    ")"
   ],
   "metadata": {
    "collapsed": false,
    "ExecuteTime": {
     "end_time": "2023-11-27T14:51:34.205314Z",
     "start_time": "2023-11-27T14:51:34.184501Z"
    }
   },
   "id": "f14c34e9fe68518"
  },
  {
   "cell_type": "markdown",
   "source": [
    "Now let's pretend we have a function which takes in the values of the various dof's  "
   ],
   "metadata": {
    "collapsed": false
   },
   "id": "31df417a12d2f730"
  },
  {
   "cell_type": "code",
   "execution_count": 26,
   "outputs": [],
   "source": [
    "def fn(q_vec, t):\n",
    "    return jnp.dot(q_vec, q_vec) - t"
   ],
   "metadata": {
    "collapsed": false,
    "ExecuteTime": {
     "end_time": "2023-11-27T15:19:58.855860Z",
     "start_time": "2023-11-27T15:19:58.851204Z"
    }
   },
   "id": "45f749809718541a"
  },
  {
   "cell_type": "code",
   "execution_count": 27,
   "outputs": [],
   "source": [
    "derivatives = jax.grad(fn, argnums=0)"
   ],
   "metadata": {
    "collapsed": false,
    "ExecuteTime": {
     "end_time": "2023-11-27T15:19:59.144323Z",
     "start_time": "2023-11-27T15:19:59.141745Z"
    }
   },
   "id": "8a88ceffa700bd58"
  },
  {
   "cell_type": "markdown",
   "source": [
    "Compute the residue for the conservative system, this corresponds with Equations 12(a) and 12(b) in the paper."
   ],
   "metadata": {
    "collapsed": false
   },
   "id": "bd2d57664c5a7930"
  },
  {
   "cell_type": "code",
   "execution_count": 43,
   "outputs": [],
   "source": [
    "def residue(q_vec, t):\n",
    "    dfdx = derivatives(q_vec, t)\n",
    "    inner = dfdx[1:-1]\n",
    "    return jnp.append(inner, dfdx[0] - dfdx[-1])"
   ],
   "metadata": {
    "collapsed": false,
    "ExecuteTime": {
     "end_time": "2023-11-27T15:22:48.822921Z",
     "start_time": "2023-11-27T15:22:48.815583Z"
    }
   },
   "id": "e3cf1aebffa20ed4"
  },
  {
   "cell_type": "code",
   "execution_count": 44,
   "outputs": [
    {
     "data": {
      "text/plain": "Array([ 2.,  4.,  6.,  6.,  8., 10.], dtype=float64)"
     },
     "execution_count": 44,
     "metadata": {},
     "output_type": "execute_result"
    }
   ],
   "source": [
    "dfdx= derivatives(jnp.array([1.0, 2, 3, 3,4,5]), 1.0)\n",
    "dfdx"
   ],
   "metadata": {
    "collapsed": false,
    "ExecuteTime": {
     "end_time": "2023-11-27T15:22:49.964814Z",
     "start_time": "2023-11-27T15:22:49.957838Z"
    }
   },
   "id": "d40aad6d5138ce46"
  },
  {
   "cell_type": "code",
   "execution_count": 45,
   "outputs": [
    {
     "data": {
      "text/plain": "Array([4., 6., 6., 8.], dtype=float64)"
     },
     "execution_count": 45,
     "metadata": {},
     "output_type": "execute_result"
    }
   ],
   "source": [
    "dfdx[1:-1]"
   ],
   "metadata": {
    "collapsed": false,
    "ExecuteTime": {
     "end_time": "2023-11-27T15:22:50.956188Z",
     "start_time": "2023-11-27T15:22:50.953399Z"
    }
   },
   "id": "d987477912e32b55"
  },
  {
   "cell_type": "code",
   "execution_count": 46,
   "outputs": [
    {
     "data": {
      "text/plain": "Array([  4.,   6.,   6.,   8., 100.], dtype=float64)"
     },
     "execution_count": 46,
     "metadata": {},
     "output_type": "execute_result"
    }
   ],
   "source": [
    "jnp.append(dfdx[1:-1], 100.0)"
   ],
   "metadata": {
    "collapsed": false,
    "ExecuteTime": {
     "end_time": "2023-11-27T15:22:51.282211Z",
     "start_time": "2023-11-27T15:22:51.278373Z"
    }
   },
   "id": "5fa6f4922bfc6bc8"
  },
  {
   "cell_type": "code",
   "execution_count": 51,
   "outputs": [
    {
     "data": {
      "text/plain": "Array([ 0.,  6.,  6.,  8., -2.], dtype=float64)"
     },
     "execution_count": 51,
     "metadata": {},
     "output_type": "execute_result"
    }
   ],
   "source": [
    "residue(jnp.array([4.0, 1, 3, 3,4,5]), 1.0)"
   ],
   "metadata": {
    "collapsed": false,
    "ExecuteTime": {
     "end_time": "2023-11-27T15:23:06.311122Z",
     "start_time": "2023-11-27T15:23:06.303272Z"
    }
   },
   "id": "fbc9993b53faea0d"
  },
  {
   "cell_type": "code",
   "execution_count": 52,
   "outputs": [],
   "source": [
    "import jaxopt"
   ],
   "metadata": {
    "collapsed": false,
    "ExecuteTime": {
     "end_time": "2023-11-27T15:23:14.673319Z",
     "start_time": "2023-11-27T15:23:14.397235Z"
    }
   },
   "id": "c10e5082dfd79ab9"
  },
  {
   "cell_type": "code",
   "execution_count": 57,
   "outputs": [
    {
     "name": "stdout",
     "output_type": "stream",
     "text": [
      "Solver: GaussNewton, Error: 5.958187643906492\n",
      "Solver: GaussNewton, Error: 6.280369834735101e-16\n",
      "[4.5 0.  0.  0.  0.  4.5]\n",
      "39.5\n",
      "[0. 0. 0. 0. 0.]\n"
     ]
    }
   ],
   "source": [
    "t0=1.0\n",
    "opt_res = jaxopt.GaussNewton(\n",
    "    residual_fun=residue,\n",
    "    verbose=True\n",
    ").run(\n",
    "    jnp.array([4.0, 1, 3, 3,4,5]),\n",
    "    t0\n",
    ")\n",
    "\n",
    "print(opt_res.params)\n",
    "print(fn(opt_res.params, t0))\n",
    "print(residue(opt_res.params, t0))"
   ],
   "metadata": {
    "collapsed": false,
    "ExecuteTime": {
     "end_time": "2023-11-27T15:24:51.498350Z",
     "start_time": "2023-11-27T15:24:51.159727Z"
    }
   },
   "id": "600676eafb7ec9f4"
  },
  {
   "cell_type": "code",
   "execution_count": null,
   "outputs": [],
   "source": [],
   "metadata": {
    "collapsed": false
   },
   "id": "1ec5820c7575b51a"
  }
 ],
 "metadata": {
  "kernelspec": {
   "display_name": "Python 3",
   "language": "python",
   "name": "python3"
  },
  "language_info": {
   "codemirror_mode": {
    "name": "ipython",
    "version": 2
   },
   "file_extension": ".py",
   "mimetype": "text/x-python",
   "name": "python",
   "nbconvert_exporter": "python",
   "pygments_lexer": "ipython2",
   "version": "2.7.6"
  }
 },
 "nbformat": 4,
 "nbformat_minor": 5
}
