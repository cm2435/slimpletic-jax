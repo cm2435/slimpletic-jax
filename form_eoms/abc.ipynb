{
 "cells": [
  {
   "cell_type": "code",
   "execution_count": 1,
   "outputs": [],
   "source": [
    "import jax\n",
    "import jax.numpy as jnp\n",
    "from discretise.fn_3 import discretise_integral"
   ],
   "metadata": {
    "collapsed": false,
    "ExecuteTime": {
     "end_time": "2023-11-28T13:38:46.179550Z",
     "start_time": "2023-11-28T13:38:45.514737Z"
    }
   },
   "id": "abbb6ff6ac6ae739"
  },
  {
   "cell_type": "code",
   "execution_count": 2,
   "outputs": [],
   "source": [
    "def lagrangian(q, dq, t):\n",
    "    return 0.5 * jnp.dot(q, q) - 0.5 * jnp.dot(dq, dq)"
   ],
   "metadata": {
    "collapsed": false,
    "ExecuteTime": {
     "end_time": "2023-11-28T13:38:54.644872Z",
     "start_time": "2023-11-28T13:38:54.638573Z"
    }
   },
   "id": "250edee5f4c84c06"
  },
  {
   "cell_type": "code",
   "execution_count": 8,
   "outputs": [],
   "source": [
    "def fill_out_initial(initial, r):\n",
    "    return jnp.repeat(initial[jnp.newaxis, :], r + 2, axis=0)"
   ],
   "metadata": {
    "collapsed": false,
    "ExecuteTime": {
     "end_time": "2023-11-28T13:39:15.055845Z",
     "start_time": "2023-11-28T13:39:15.047215Z"
    }
   },
   "id": "1e00f1e1514420a3"
  },
  {
   "cell_type": "code",
   "execution_count": 9,
   "outputs": [],
   "source": [
    "r = 1\n",
    "dt = 0.1"
   ],
   "metadata": {
    "collapsed": false,
    "ExecuteTime": {
     "end_time": "2023-11-28T13:39:15.800232Z",
     "start_time": "2023-11-28T13:39:15.793318Z"
    }
   },
   "id": "c1332cd9b93507d9"
  },
  {
   "cell_type": "code",
   "execution_count": 10,
   "outputs": [],
   "source": [
    "lagrangian_d = discretise_integral(\n",
    "    fn=lagrangian,\n",
    "    r=r,\n",
    "    dt=dt\n",
    ")"
   ],
   "metadata": {
    "collapsed": false,
    "ExecuteTime": {
     "end_time": "2023-11-28T13:39:16.555921Z",
     "start_time": "2023-11-28T13:39:16.497488Z"
    }
   },
   "id": "9525dddb4bdd8526"
  },
  {
   "cell_type": "code",
   "execution_count": 11,
   "id": "initial_id",
   "metadata": {
    "collapsed": true,
    "ExecuteTime": {
     "end_time": "2023-11-28T13:39:26.684261Z",
     "start_time": "2023-11-28T13:39:25.367659Z"
    }
   },
   "outputs": [
    {
     "name": "stdout",
     "output_type": "stream",
     "text": [
      "Solver: GaussNewton, Error: 0.0010214717751522112\n",
      "Solver: GaussNewton, Error: 4.300430588401906e-17\n"
     ]
    },
    {
     "data": {
      "text/plain": "Array([[0.99958264, 0.        ],\n       [1.00083368, 0.        ],\n       [0.99958264, 0.        ]], dtype=float64)"
     },
     "execution_count": 11,
     "metadata": {},
     "output_type": "execute_result"
    }
   ],
   "source": [
    "from form_eoms.form_and_solve import single_step\n",
    "\n",
    "qiv = single_step(\n",
    "    qi=fill_out_initial(jnp.array([1.0, 0.0]), r),\n",
    "    t0=0.0,\n",
    "    r=r,\n",
    "    f_d=lagrangian_d\n",
    ")\n",
    "qiv"
   ]
  },
  {
   "cell_type": "code",
   "execution_count": 12,
   "outputs": [
    {
     "name": "stdout",
     "output_type": "stream",
     "text": [
      "Solver: GaussNewton, Error: 0.0010210454518177693\n",
      "Solver: GaussNewton, Error: 3.986372859861846e-17\n"
     ]
    },
    {
     "data": {
      "text/plain": "Array([[0.99916545, 0.        ],\n       [1.00041597, 0.        ],\n       [0.99916545, 0.        ]], dtype=float64)"
     },
     "execution_count": 12,
     "metadata": {},
     "output_type": "execute_result"
    }
   ],
   "source": [
    "single_step(\n",
    "    qi=fill_out_initial(qiv[-1], r),\n",
    "    t0=0.0 + dt,\n",
    "    r=r,\n",
    "    f_d=lagrangian_d\n",
    ")"
   ],
   "metadata": {
    "collapsed": false,
    "ExecuteTime": {
     "end_time": "2023-11-28T13:39:39.799838Z",
     "start_time": "2023-11-28T13:39:39.099748Z"
    }
   },
   "id": "6b6293cfb5e85e66"
  },
  {
   "cell_type": "code",
   "execution_count": 13,
   "outputs": [],
   "source": [
    "from jax import Array\n",
    "\n",
    "def iterate(\n",
    "        q0: Array,\n",
    "        t0: float,\n",
    "        dt: float,\n",
    "        t_samples: int,\n",
    "        r: int,\n",
    "        lagrangian: callable\n",
    "):\n",
    "    lagrangian_d = discretise_integral(\n",
    "        fn=lagrangian,\n",
    "        r=r,\n",
    "        dt=dt\n",
    "    )\n",
    "\n",
    "    return jax.lax.fori_loop(\n",
    "        0,\n",
    "        t_samples,\n",
    "        lambda i, q: jax.lax.concatenate([\n",
    "            q[:-1],\n",
    "            single_step(\n",
    "                q0=q[-1],\n",
    "                t0=t0 + i * dt,\n",
    "                r=r,\n",
    "                f_d=lagrangian_d\n",
    "            )\n",
    "        ], dimension=0),\n",
    "        jax.numpy.array([q0])\n",
    "    )"
   ],
   "metadata": {
    "collapsed": false,
    "ExecuteTime": {
     "end_time": "2023-11-28T13:40:51.378528Z",
     "start_time": "2023-11-28T13:40:51.373502Z"
    }
   },
   "id": "93d511d41f021302"
  },
  {
   "cell_type": "code",
   "execution_count": 14,
   "outputs": [
    {
     "ename": "TypeError",
     "evalue": "single_step() got an unexpected keyword argument 'q0'",
     "output_type": "error",
     "traceback": [
      "\u001B[0;31m---------------------------------------------------------------------------\u001B[0m",
      "\u001B[0;31mTypeError\u001B[0m                                 Traceback (most recent call last)",
      "Cell \u001B[0;32mIn[14], line 1\u001B[0m\n\u001B[0;32m----> 1\u001B[0m \u001B[43miterate\u001B[49m\u001B[43m(\u001B[49m\n\u001B[1;32m      2\u001B[0m \u001B[43m    \u001B[49m\u001B[43mq0\u001B[49m\u001B[38;5;241;43m=\u001B[39;49m\u001B[43mjnp\u001B[49m\u001B[38;5;241;43m.\u001B[39;49m\u001B[43marray\u001B[49m\u001B[43m(\u001B[49m\u001B[43m[\u001B[49m\u001B[38;5;241;43m1.0\u001B[39;49m\u001B[43m,\u001B[49m\u001B[43m \u001B[49m\u001B[38;5;241;43m0.0\u001B[39;49m\u001B[43m]\u001B[49m\u001B[43m)\u001B[49m\u001B[43m,\u001B[49m\n\u001B[1;32m      3\u001B[0m \u001B[43m    \u001B[49m\u001B[43mt0\u001B[49m\u001B[38;5;241;43m=\u001B[39;49m\u001B[38;5;241;43m0.0\u001B[39;49m\u001B[43m,\u001B[49m\n\u001B[1;32m      4\u001B[0m \u001B[43m    \u001B[49m\u001B[43mdt\u001B[49m\u001B[38;5;241;43m=\u001B[39;49m\u001B[38;5;241;43m0.1\u001B[39;49m\u001B[43m,\u001B[49m\n\u001B[1;32m      5\u001B[0m \u001B[43m    \u001B[49m\u001B[43mt_samples\u001B[49m\u001B[38;5;241;43m=\u001B[39;49m\u001B[38;5;241;43m10\u001B[39;49m\u001B[43m,\u001B[49m\n\u001B[1;32m      6\u001B[0m \u001B[43m    \u001B[49m\u001B[43mr\u001B[49m\u001B[38;5;241;43m=\u001B[39;49m\u001B[38;5;241;43m1\u001B[39;49m\u001B[43m,\u001B[49m\n\u001B[1;32m      7\u001B[0m \u001B[43m    \u001B[49m\u001B[43mlagrangian\u001B[49m\u001B[38;5;241;43m=\u001B[39;49m\u001B[43mlagrangian\u001B[49m\n\u001B[1;32m      8\u001B[0m \u001B[43m)\u001B[49m\n",
      "Cell \u001B[0;32mIn[13], line 17\u001B[0m, in \u001B[0;36miterate\u001B[0;34m(q0, t0, dt, t_samples, r, lagrangian)\u001B[0m\n\u001B[1;32m      3\u001B[0m \u001B[38;5;28;01mdef\u001B[39;00m \u001B[38;5;21miterate\u001B[39m(\n\u001B[1;32m      4\u001B[0m         q0: Array,\n\u001B[1;32m      5\u001B[0m         t0: \u001B[38;5;28mfloat\u001B[39m,\n\u001B[0;32m   (...)\u001B[0m\n\u001B[1;32m      9\u001B[0m         lagrangian: \u001B[38;5;28mcallable\u001B[39m\n\u001B[1;32m     10\u001B[0m ):\n\u001B[1;32m     11\u001B[0m     lagrangian_d \u001B[38;5;241m=\u001B[39m discretise_integral(\n\u001B[1;32m     12\u001B[0m         fn\u001B[38;5;241m=\u001B[39mlagrangian,\n\u001B[1;32m     13\u001B[0m         r\u001B[38;5;241m=\u001B[39mr,\n\u001B[1;32m     14\u001B[0m         dt\u001B[38;5;241m=\u001B[39mdt\n\u001B[1;32m     15\u001B[0m     )\n\u001B[0;32m---> 17\u001B[0m     \u001B[38;5;28;01mreturn\u001B[39;00m \u001B[43mjax\u001B[49m\u001B[38;5;241;43m.\u001B[39;49m\u001B[43mlax\u001B[49m\u001B[38;5;241;43m.\u001B[39;49m\u001B[43mfori_loop\u001B[49m\u001B[43m(\u001B[49m\n\u001B[1;32m     18\u001B[0m \u001B[43m        \u001B[49m\u001B[38;5;241;43m0\u001B[39;49m\u001B[43m,\u001B[49m\n\u001B[1;32m     19\u001B[0m \u001B[43m        \u001B[49m\u001B[43mt_samples\u001B[49m\u001B[43m,\u001B[49m\n\u001B[1;32m     20\u001B[0m \u001B[43m        \u001B[49m\u001B[38;5;28;43;01mlambda\u001B[39;49;00m\u001B[43m \u001B[49m\u001B[43mi\u001B[49m\u001B[43m,\u001B[49m\u001B[43m \u001B[49m\u001B[43mq\u001B[49m\u001B[43m:\u001B[49m\u001B[43m \u001B[49m\u001B[43mjax\u001B[49m\u001B[38;5;241;43m.\u001B[39;49m\u001B[43mlax\u001B[49m\u001B[38;5;241;43m.\u001B[39;49m\u001B[43mconcatenate\u001B[49m\u001B[43m(\u001B[49m\u001B[43m[\u001B[49m\n\u001B[1;32m     21\u001B[0m \u001B[43m            \u001B[49m\u001B[43mq\u001B[49m\u001B[43m[\u001B[49m\u001B[43m:\u001B[49m\u001B[38;5;241;43m-\u001B[39;49m\u001B[38;5;241;43m1\u001B[39;49m\u001B[43m]\u001B[49m\u001B[43m,\u001B[49m\n\u001B[1;32m     22\u001B[0m \u001B[43m            \u001B[49m\u001B[43msingle_step\u001B[49m\u001B[43m(\u001B[49m\n\u001B[1;32m     23\u001B[0m \u001B[43m                \u001B[49m\u001B[43mq0\u001B[49m\u001B[38;5;241;43m=\u001B[39;49m\u001B[43mq\u001B[49m\u001B[43m[\u001B[49m\u001B[38;5;241;43m-\u001B[39;49m\u001B[38;5;241;43m1\u001B[39;49m\u001B[43m]\u001B[49m\u001B[43m,\u001B[49m\n\u001B[1;32m     24\u001B[0m \u001B[43m                \u001B[49m\u001B[43mt0\u001B[49m\u001B[38;5;241;43m=\u001B[39;49m\u001B[43mt0\u001B[49m\u001B[43m \u001B[49m\u001B[38;5;241;43m+\u001B[39;49m\u001B[43m \u001B[49m\u001B[43mi\u001B[49m\u001B[43m \u001B[49m\u001B[38;5;241;43m*\u001B[39;49m\u001B[43m \u001B[49m\u001B[43mdt\u001B[49m\u001B[43m,\u001B[49m\n\u001B[1;32m     25\u001B[0m \u001B[43m                \u001B[49m\u001B[43mr\u001B[49m\u001B[38;5;241;43m=\u001B[39;49m\u001B[43mr\u001B[49m\u001B[43m,\u001B[49m\n\u001B[1;32m     26\u001B[0m \u001B[43m                \u001B[49m\u001B[43mf_d\u001B[49m\u001B[38;5;241;43m=\u001B[39;49m\u001B[43mlagrangian_d\u001B[49m\n\u001B[1;32m     27\u001B[0m \u001B[43m            \u001B[49m\u001B[43m)\u001B[49m\n\u001B[1;32m     28\u001B[0m \u001B[43m        \u001B[49m\u001B[43m]\u001B[49m\u001B[43m,\u001B[49m\u001B[43m \u001B[49m\u001B[43mdimension\u001B[49m\u001B[38;5;241;43m=\u001B[39;49m\u001B[38;5;241;43m0\u001B[39;49m\u001B[43m)\u001B[49m\u001B[43m,\u001B[49m\n\u001B[1;32m     29\u001B[0m \u001B[43m        \u001B[49m\u001B[43mjax\u001B[49m\u001B[38;5;241;43m.\u001B[39;49m\u001B[43mnumpy\u001B[49m\u001B[38;5;241;43m.\u001B[39;49m\u001B[43marray\u001B[49m\u001B[43m(\u001B[49m\u001B[43m[\u001B[49m\u001B[43mq0\u001B[49m\u001B[43m]\u001B[49m\u001B[43m)\u001B[49m\n\u001B[1;32m     30\u001B[0m \u001B[43m    \u001B[49m\u001B[43m)\u001B[49m\n",
      "    \u001B[0;31m[... skipping hidden 12 frame]\u001B[0m\n",
      "Cell \u001B[0;32mIn[13], line 22\u001B[0m, in \u001B[0;36miterate.<locals>.<lambda>\u001B[0;34m(i, q)\u001B[0m\n\u001B[1;32m      3\u001B[0m \u001B[38;5;28;01mdef\u001B[39;00m \u001B[38;5;21miterate\u001B[39m(\n\u001B[1;32m      4\u001B[0m         q0: Array,\n\u001B[1;32m      5\u001B[0m         t0: \u001B[38;5;28mfloat\u001B[39m,\n\u001B[0;32m   (...)\u001B[0m\n\u001B[1;32m      9\u001B[0m         lagrangian: \u001B[38;5;28mcallable\u001B[39m\n\u001B[1;32m     10\u001B[0m ):\n\u001B[1;32m     11\u001B[0m     lagrangian_d \u001B[38;5;241m=\u001B[39m discretise_integral(\n\u001B[1;32m     12\u001B[0m         fn\u001B[38;5;241m=\u001B[39mlagrangian,\n\u001B[1;32m     13\u001B[0m         r\u001B[38;5;241m=\u001B[39mr,\n\u001B[1;32m     14\u001B[0m         dt\u001B[38;5;241m=\u001B[39mdt\n\u001B[1;32m     15\u001B[0m     )\n\u001B[1;32m     17\u001B[0m     \u001B[38;5;28;01mreturn\u001B[39;00m jax\u001B[38;5;241m.\u001B[39mlax\u001B[38;5;241m.\u001B[39mfori_loop(\n\u001B[1;32m     18\u001B[0m         \u001B[38;5;241m0\u001B[39m,\n\u001B[1;32m     19\u001B[0m         t_samples,\n\u001B[1;32m     20\u001B[0m         \u001B[38;5;28;01mlambda\u001B[39;00m i, q: jax\u001B[38;5;241m.\u001B[39mlax\u001B[38;5;241m.\u001B[39mconcatenate([\n\u001B[1;32m     21\u001B[0m             q[:\u001B[38;5;241m-\u001B[39m\u001B[38;5;241m1\u001B[39m],\n\u001B[0;32m---> 22\u001B[0m             \u001B[43msingle_step\u001B[49m\u001B[43m(\u001B[49m\n\u001B[1;32m     23\u001B[0m \u001B[43m                \u001B[49m\u001B[43mq0\u001B[49m\u001B[38;5;241;43m=\u001B[39;49m\u001B[43mq\u001B[49m\u001B[43m[\u001B[49m\u001B[38;5;241;43m-\u001B[39;49m\u001B[38;5;241;43m1\u001B[39;49m\u001B[43m]\u001B[49m\u001B[43m,\u001B[49m\n\u001B[1;32m     24\u001B[0m \u001B[43m                \u001B[49m\u001B[43mt0\u001B[49m\u001B[38;5;241;43m=\u001B[39;49m\u001B[43mt0\u001B[49m\u001B[43m \u001B[49m\u001B[38;5;241;43m+\u001B[39;49m\u001B[43m \u001B[49m\u001B[43mi\u001B[49m\u001B[43m \u001B[49m\u001B[38;5;241;43m*\u001B[39;49m\u001B[43m \u001B[49m\u001B[43mdt\u001B[49m\u001B[43m,\u001B[49m\n\u001B[1;32m     25\u001B[0m \u001B[43m                \u001B[49m\u001B[43mr\u001B[49m\u001B[38;5;241;43m=\u001B[39;49m\u001B[43mr\u001B[49m\u001B[43m,\u001B[49m\n\u001B[1;32m     26\u001B[0m \u001B[43m                \u001B[49m\u001B[43mf_d\u001B[49m\u001B[38;5;241;43m=\u001B[39;49m\u001B[43mlagrangian_d\u001B[49m\n\u001B[1;32m     27\u001B[0m \u001B[43m            \u001B[49m\u001B[43m)\u001B[49m\n\u001B[1;32m     28\u001B[0m         ], dimension\u001B[38;5;241m=\u001B[39m\u001B[38;5;241m0\u001B[39m),\n\u001B[1;32m     29\u001B[0m         jax\u001B[38;5;241m.\u001B[39mnumpy\u001B[38;5;241m.\u001B[39marray([q0])\n\u001B[1;32m     30\u001B[0m     )\n",
      "\u001B[0;31mTypeError\u001B[0m: single_step() got an unexpected keyword argument 'q0'"
     ]
    }
   ],
   "source": [
    "iterate(\n",
    "    q0=jnp.array([1.0, 0.0]),\n",
    "    t0=0.0,\n",
    "    dt=0.1,\n",
    "    t_samples=10,\n",
    "    r=1,\n",
    "    lagrangian=lagrangian\n",
    ")"
   ],
   "metadata": {
    "collapsed": false,
    "ExecuteTime": {
     "end_time": "2023-11-28T13:40:56.118048Z",
     "start_time": "2023-11-28T13:40:55.359979Z"
    }
   },
   "id": "981829542b1eb1e9"
  },
  {
   "cell_type": "code",
   "execution_count": 15,
   "outputs": [],
   "source": [
    "t_sample_count = 10\n",
    "dt = 0.1\n",
    "t0 = 0\n",
    "t_samples = t0 + jnp.arange(t_sample_count) * dt"
   ],
   "metadata": {
    "collapsed": false,
    "ExecuteTime": {
     "end_time": "2023-11-28T13:41:00.582453Z",
     "start_time": "2023-11-28T13:41:00.568094Z"
    }
   },
   "id": "5a9d08c3c7abd9d3"
  },
  {
   "cell_type": "code",
   "execution_count": 16,
   "outputs": [
    {
     "data": {
      "text/plain": "Array([0. , 0.1, 0.2, 0.3, 0.4, 0.5, 0.6, 0.7, 0.8, 0.9],      dtype=float64, weak_type=True)"
     },
     "execution_count": 16,
     "metadata": {},
     "output_type": "execute_result"
    }
   ],
   "source": [
    "jnp.arange(t_sample_count) * dt"
   ],
   "metadata": {
    "collapsed": false,
    "ExecuteTime": {
     "end_time": "2023-11-28T13:41:03.535025Z",
     "start_time": "2023-11-28T13:41:03.511360Z"
    }
   },
   "id": "d2c2e5b34a05edfe"
  },
  {
   "cell_type": "code",
   "execution_count": 19,
   "outputs": [
    {
     "name": "stdout",
     "output_type": "stream",
     "text": [
      "previous_state [[1. 1. 0.]\n",
      " [1. 1. 0.]\n",
      " [1. 1. 0.]]\n",
      "t_value 0.0\n",
      "Solver: GaussNewton, Error: 0.0014445792380015777\n",
      "Solver: GaussNewton, Error: 6.081727262162085e-17\n",
      "previous_state [[0.99958264 0.99958264 0.        ]\n",
      " [0.99958264 0.99958264 0.        ]\n",
      " [0.99958264 0.99958264 0.        ]]\n",
      "t_value 0.1\n",
      "Solver: GaussNewton, Error: 0.0014439763257600535\n",
      "Solver: GaussNewton, Error: 5.637582563092644e-17\n",
      "previous_state [[0.99916545 0.99916545 0.        ]\n",
      " [0.99916545 0.99916545 0.        ]\n",
      " [0.99916545 0.99916545 0.        ]]\n",
      "t_value 0.2\n",
      "Solver: GaussNewton, Error: 0.001443373665151052\n",
      "Solver: GaussNewton, Error: 6.94702425749523e-17\n",
      "previous_state [[0.99874844 0.99874844 0.        ]\n",
      " [0.99874844 0.99874844 0.        ]\n",
      " [0.99874844 0.99874844 0.        ]]\n",
      "t_value 0.30000000000000004\n",
      "Solver: GaussNewton, Error: 0.0014427712560696247\n",
      "Solver: GaussNewton, Error: 7.788478667053632e-17\n",
      "previous_state [[0.9983316 0.9983316 0.       ]\n",
      " [0.9983316 0.9983316 0.       ]\n",
      " [0.9983316 0.9983316 0.       ]]\n",
      "t_value 0.4\n",
      "Solver: GaussNewton, Error: 0.0014421690984107451\n",
      "Solver: GaussNewton, Error: 4.0602262763431825e-17\n",
      "previous_state [[0.99791493 0.99791493 0.        ]\n",
      " [0.99791493 0.99791493 0.        ]\n",
      " [0.99791493 0.99791493 0.        ]]\n",
      "t_value 0.5\n",
      "Solver: GaussNewton, Error: 0.0014415671920695037\n",
      "Solver: GaussNewton, Error: 7.619235542893567e-17\n",
      "previous_state [[0.99749844 0.99749844 0.        ]\n",
      " [0.99749844 0.99749844 0.        ]\n",
      " [0.99749844 0.99749844 0.        ]]\n",
      "t_value 0.6000000000000001\n",
      "Solver: GaussNewton, Error: 0.0014409655369409847\n",
      "Solver: GaussNewton, Error: 4.753778311594683e-17\n",
      "previous_state [[0.99708212 0.99708212 0.        ]\n",
      " [0.99708212 0.99708212 0.        ]\n",
      " [0.99708212 0.99708212 0.        ]]\n",
      "t_value 0.7000000000000001\n",
      "Solver: GaussNewton, Error: 0.001440364132920342\n",
      "Solver: GaussNewton, Error: 8.170852418629523e-17\n",
      "previous_state [[0.99666598 0.99666598 0.        ]\n",
      " [0.99666598 0.99666598 0.        ]\n",
      " [0.99666598 0.99666598 0.        ]]\n",
      "t_value 0.8\n",
      "Solver: GaussNewton, Error: 0.001439762979902796\n",
      "Solver: GaussNewton, Error: 1.6238526950613754e-17\n",
      "previous_state [[0.99625001 0.99625001 0.        ]\n",
      " [0.99625001 0.99625001 0.        ]\n",
      " [0.99625001 0.99625001 0.        ]]\n",
      "t_value 0.9\n",
      "Solver: GaussNewton, Error: 0.0014391620777835777\n",
      "Solver: GaussNewton, Error: 6.232609410245146e-17\n"
     ]
    },
    {
     "data": {
      "text/plain": "(Array([[0.99583421, 0.99583421, 0.        ],\n        [0.99583421, 0.99583421, 0.        ],\n        [0.99583421, 0.99583421, 0.        ]], dtype=float64),\n Array([[[0.99958264, 0.99958264, 0.        ],\n         [1.00083368, 1.00083368, 0.        ],\n         [0.99958264, 0.99958264, 0.        ]],\n \n        [[0.99916545, 0.99916545, 0.        ],\n         [1.00041597, 1.00041597, 0.        ],\n         [0.99916545, 0.99916545, 0.        ]],\n \n        [[0.99874844, 0.99874844, 0.        ],\n         [0.99999844, 0.99999844, 0.        ],\n         [0.99874844, 0.99874844, 0.        ]],\n \n        [[0.9983316 , 0.9983316 , 0.        ],\n         [0.99958107, 0.99958107, 0.        ],\n         [0.9983316 , 0.9983316 , 0.        ]],\n \n        [[0.99791493, 0.99791493, 0.        ],\n         [0.99916389, 0.99916389, 0.        ],\n         [0.99791493, 0.99791493, 0.        ]],\n \n        [[0.99749844, 0.99749844, 0.        ],\n         [0.99874687, 0.99874687, 0.        ],\n         [0.99749844, 0.99749844, 0.        ]],\n \n        [[0.99708212, 0.99708212, 0.        ],\n         [0.99833004, 0.99833004, 0.        ],\n         [0.99708212, 0.99708212, 0.        ]],\n \n        [[0.99666598, 0.99666598, 0.        ],\n         [0.99791337, 0.99791337, 0.        ],\n         [0.99666598, 0.99666598, 0.        ]],\n \n        [[0.99625001, 0.99625001, 0.        ],\n         [0.99749688, 0.99749688, 0.        ],\n         [0.99625001, 0.99625001, 0.        ]],\n \n        [[0.99583421, 0.99583421, 0.        ],\n         [0.99708056, 0.99708056, 0.        ],\n         [0.99583421, 0.99583421, 0.        ]]], dtype=float64))"
     },
     "execution_count": 19,
     "metadata": {},
     "output_type": "execute_result"
    }
   ],
   "source": [
    "lagrangian_d = discretise_integral(\n",
    "    fn=lagrangian,\n",
    "    r=r,\n",
    "    dt=dt\n",
    ")\n",
    "\n",
    "def scan_body(\n",
    "        initial_qi_values,\n",
    "        t_value\n",
    "):\n",
    "    jax.debug.print(\"previous_state {}\", initial_qi_values)\n",
    "    jax.debug.print(\"t_value {}\", t_value)\n",
    "\n",
    "    qi_values = single_step(\n",
    "        qi=initial_qi_values,\n",
    "        t0=t_value,\n",
    "        r=r,\n",
    "        f_d=lagrangian_d\n",
    "    )\n",
    "    \n",
    "    next_qi_values = fill_out_initial(qi_values[-1], r=r)\n",
    "    \n",
    "    return next_qi_values, qi_values\n",
    "\n",
    "jax.lax.scan(\n",
    "    f=scan_body,\n",
    "    xs=t_samples,\n",
    "    init=fill_out_initial(\n",
    "        initial=jnp.array([1.0,1.0,0.0]),\n",
    "        r=r\n",
    "    )\n",
    ")"
   ],
   "metadata": {
    "collapsed": false,
    "ExecuteTime": {
     "end_time": "2023-11-28T13:44:14.620792Z",
     "start_time": "2023-11-28T13:44:13.715328Z"
    }
   },
   "id": "4701e11b3610b5be"
  },
  {
   "cell_type": "code",
   "execution_count": 10,
   "outputs": [
    {
     "data": {
      "text/plain": "Array(-11.65833333, dtype=float64)"
     },
     "execution_count": 10,
     "metadata": {},
     "output_type": "execute_result"
    }
   ],
   "source": [
    "lagrangian_d(\n",
    "    jnp.array([1.0, 0.0, 0.0]),\n",
    "    0.0\n",
    ")"
   ],
   "metadata": {
    "collapsed": false,
    "ExecuteTime": {
     "end_time": "2023-11-28T13:37:48.648862Z",
     "start_time": "2023-11-28T13:37:48.538850Z"
    }
   },
   "id": "3c46da522ca64fcc"
  },
  {
   "cell_type": "code",
   "execution_count": 21,
   "outputs": [
    {
     "name": "stdout",
     "output_type": "stream",
     "text": [
      "previous_state [ 1.   1.  -0.1]\n",
      "t_value 0.0\n",
      "Solver: GaussNewton, Error: 0.001448186183037093\n",
      "Solver: GaussNewton, Error: 6.085530614726997e-17\n",
      "previous_state [ 0.99958264  0.99958264 -0.09995826]\n",
      "t_value 0.1\n",
      "Solver: GaussNewton, Error: 0.00144758176539437\n",
      "Solver: GaussNewton, Error: 5.641837645972793e-17\n",
      "previous_state [ 0.99916545  0.99916545 -0.09991655]\n",
      "t_value 0.2\n",
      "Solver: GaussNewton, Error: 0.0014469776000124678\n",
      "Solver: GaussNewton, Error: 6.962214183774937e-17\n",
      "previous_state [ 0.99874844  0.99874844 -0.09987484]\n",
      "t_value 0.30000000000000004\n",
      "Solver: GaussNewton, Error: 0.0014463736867861728\n",
      "Solver: GaussNewton, Error: 7.800050506885826e-17\n",
      "previous_state [ 0.9983316   0.9983316  -0.09983316]\n",
      "t_value 0.4\n",
      "Solver: GaussNewton, Error: 0.0014457700256101992\n",
      "Solver: GaussNewton, Error: 4.076956855911779e-17\n",
      "previous_state [ 0.99791493  0.99791493 -0.09979149]\n",
      "t_value 0.5\n",
      "Solver: GaussNewton, Error: 0.001445166616379374\n",
      "Solver: GaussNewton, Error: 7.639355691558635e-17\n",
      "previous_state [ 0.99749844  0.99749844 -0.09974984]\n",
      "t_value 0.6000000000000001\n",
      "Solver: GaussNewton, Error: 0.0014445634589885204\n",
      "Solver: GaussNewton, Error: 4.803821592268691e-17\n",
      "previous_state [ 0.99708212  0.99708212 -0.09970821]\n",
      "t_value 0.7000000000000001\n",
      "Solver: GaussNewton, Error: 0.0014439605533325297\n",
      "Solver: GaussNewton, Error: 8.238877466355662e-17\n",
      "previous_state [ 0.99666598  0.99666598 -0.0996666 ]\n",
      "t_value 0.8\n",
      "Solver: GaussNewton, Error: 0.0014433578993063613\n",
      "Solver: GaussNewton, Error: 1.8398287481986926e-17\n",
      "previous_state [ 0.99625001  0.99625001 -0.099625  ]\n",
      "t_value 0.9\n",
      "Solver: GaussNewton, Error: 0.001442755496804984\n",
      "Solver: GaussNewton, Error: 6.240654180634342e-17\n"
     ]
    },
    {
     "data": {
      "text/plain": "(Array([ 0.99583421,  0.99583421, -0.09958342], dtype=float64),\n Array([[[ 0.99958264,  0.99958264, -0.09995826],\n         [ 1.00083368,  1.00083368, -0.10008337],\n         [ 0.99958264,  0.99958264, -0.09995826]],\n \n        [[ 0.99916545,  0.99916545, -0.09991655],\n         [ 1.00041597,  1.00041597, -0.1000416 ],\n         [ 0.99916545,  0.99916545, -0.09991655]],\n \n        [[ 0.99874844,  0.99874844, -0.09987484],\n         [ 0.99999844,  0.99999844, -0.09999984],\n         [ 0.99874844,  0.99874844, -0.09987484]],\n \n        [[ 0.9983316 ,  0.9983316 , -0.09983316],\n         [ 0.99958107,  0.99958107, -0.09995811],\n         [ 0.9983316 ,  0.9983316 , -0.09983316]],\n \n        [[ 0.99791493,  0.99791493, -0.09979149],\n         [ 0.99916389,  0.99916389, -0.09991639],\n         [ 0.99791493,  0.99791493, -0.09979149]],\n \n        [[ 0.99749844,  0.99749844, -0.09974984],\n         [ 0.99874687,  0.99874687, -0.09987469],\n         [ 0.99749844,  0.99749844, -0.09974984]],\n \n        [[ 0.99708212,  0.99708212, -0.09970821],\n         [ 0.99833004,  0.99833004, -0.099833  ],\n         [ 0.99708212,  0.99708212, -0.09970821]],\n \n        [[ 0.99666598,  0.99666598, -0.0996666 ],\n         [ 0.99791337,  0.99791337, -0.09979134],\n         [ 0.99666598,  0.99666598, -0.0996666 ]],\n \n        [[ 0.99625001,  0.99625001, -0.099625  ],\n         [ 0.99749688,  0.99749688, -0.09974969],\n         [ 0.99625001,  0.99625001, -0.099625  ]],\n \n        [[ 0.99583421,  0.99583421, -0.09958342],\n         [ 0.99708056,  0.99708056, -0.09970806],\n         [ 0.99583421,  0.99583421, -0.09958342]]], dtype=float64))"
     },
     "execution_count": 21,
     "metadata": {},
     "output_type": "execute_result"
    }
   ],
   "source": [
    "def scan_body_2(\n",
    "        previous_q,\n",
    "        t_value\n",
    "):\n",
    "    jax.debug.print(\"previous_state {}\", previous_q)\n",
    "    jax.debug.print(\"t_value {}\", t_value)\n",
    "\n",
    "    qi_values = single_step(\n",
    "        qi=fill_out_initial(previous_q, r=r),\n",
    "        t0=t_value,\n",
    "        r=r,\n",
    "        f_d=lagrangian_d\n",
    "    )\n",
    "\n",
    "    return qi_values[-1], qi_values\n",
    "\n",
    "\n",
    "jax.lax.scan(\n",
    "    f=scan_body_2,\n",
    "    xs=t_samples,\n",
    "    init=jnp.array([1.0, 1.0, -0.1]),\n",
    ")"
   ],
   "metadata": {
    "collapsed": false,
    "ExecuteTime": {
     "end_time": "2023-11-28T13:46:43.921561Z",
     "start_time": "2023-11-28T13:46:43.365747Z"
    }
   },
   "id": "3eb464be0306505d"
  },
  {
   "cell_type": "code",
   "execution_count": null,
   "outputs": [],
   "source": [],
   "metadata": {
    "collapsed": false
   },
   "id": "40bb192413858e23"
  }
 ],
 "metadata": {
  "kernelspec": {
   "display_name": "Python 3",
   "language": "python",
   "name": "python3"
  },
  "language_info": {
   "codemirror_mode": {
    "name": "ipython",
    "version": 2
   },
   "file_extension": ".py",
   "mimetype": "text/x-python",
   "name": "python",
   "nbconvert_exporter": "python",
   "pygments_lexer": "ipython2",
   "version": "2.7.6"
  }
 },
 "nbformat": 4,
 "nbformat_minor": 5
}
