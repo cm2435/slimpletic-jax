{
 "cells": [
  {
   "cell_type": "markdown",
   "source": [
    "A comparison between the initial behaviours of the original and the new implementation."
   ],
   "metadata": {
    "collapsed": false
   },
   "id": "dc586bf4edc5d755"
  },
  {
   "cell_type": "code",
   "execution_count": 1,
   "id": "initial_id",
   "metadata": {
    "collapsed": true,
    "ExecuteTime": {
     "end_time": "2023-12-05T20:25:31.881367Z",
     "start_time": "2023-12-05T20:25:30.601131Z"
    }
   },
   "outputs": [],
   "source": [
    "import matplotlib.pyplot as plt\n",
    "import numpy as np\n",
    "import jax.numpy as jnp\n",
    "from sympy import Expr\n",
    "\n",
    "import slimpletic as st"
   ]
  },
  {
   "cell_type": "markdown",
   "source": [
    "Here we setup the parameters for the system."
   ],
   "metadata": {
    "collapsed": false
   },
   "id": "b63871e83bdbc143"
  },
  {
   "cell_type": "code",
   "execution_count": 2,
   "outputs": [],
   "source": [
    "m = 1.0\n",
    "k = 1.0\n",
    "ll = 1e-4 * np.sqrt(m * k)  # ll is $\\lambda$ in the paper"
   ],
   "metadata": {
    "collapsed": false,
    "ExecuteTime": {
     "end_time": "2023-12-05T20:25:31.885172Z",
     "start_time": "2023-12-05T20:25:31.882723Z"
    }
   },
   "id": "dad8abf7d5f93543"
  },
  {
   "cell_type": "markdown",
   "source": [
    "Then the simulation parameters."
   ],
   "metadata": {
    "collapsed": false
   },
   "id": "7cb19bf7af9945ea"
  },
  {
   "cell_type": "code",
   "execution_count": 3,
   "outputs": [],
   "source": [
    "dt = 0.1 * np.sqrt(m / k)\n",
    "t_sample_count = 10\n",
    "tmax = t_sample_count * np.sqrt(m / k)\n",
    "t0 = 0\n",
    "t = t0 + dt * np.arange(0, t_sample_count + 1)"
   ],
   "metadata": {
    "collapsed": false,
    "ExecuteTime": {
     "end_time": "2023-12-05T20:25:31.888683Z",
     "start_time": "2023-12-05T20:25:31.886196Z"
    }
   },
   "id": "48f63e436cde3de"
  },
  {
   "cell_type": "markdown",
   "source": [
    "Now the system dynamics"
   ],
   "metadata": {
    "collapsed": false
   },
   "id": "7f2acdddba5044c6"
  },
  {
   "cell_type": "code",
   "execution_count": 4,
   "outputs": [],
   "source": [
    "def lagrangian_f(q, qdot, t):\n",
    "    return 0.5 * m * jnp.dot(qdot, qdot) - 0.5 * k * jnp.dot(q, q) ** 2"
   ],
   "metadata": {
    "collapsed": false,
    "ExecuteTime": {
     "end_time": "2023-12-05T20:25:31.892249Z",
     "start_time": "2023-12-05T20:25:31.889568Z"
    }
   },
   "id": "d13dd5958124fd48"
  },
  {
   "cell_type": "code",
   "execution_count": 5,
   "outputs": [],
   "source": [
    "from sympy import Symbol\n",
    "from original import slimplectic\n",
    "\n",
    "dho = slimplectic.GalerkinGaussLobatto('t', ['q'], ['v'])\n",
    "L = 0.5 * m * np.dot(dho.v, dho.v) - 0.5 * k * np.dot(dho.q, dho.q)\n",
    "# DHO:\n",
    "K = -ll * np.dot(dho.vp, dho.qm)\n",
    "# No damping:\n",
    "K_nd = Symbol('a')\n",
    "dho.discretize(L, K_nd, 0, method='implicit', verbose=False)"
   ],
   "metadata": {
    "collapsed": false,
    "ExecuteTime": {
     "end_time": "2023-12-05T20:25:31.985927Z",
     "start_time": "2023-12-05T20:25:31.894539Z"
    }
   },
   "id": "83195528c9067a5c"
  },
  {
   "cell_type": "markdown",
   "source": [
    "Now with some initial data"
   ],
   "metadata": {
    "collapsed": false
   },
   "id": "6cbca13b19be265c"
  },
  {
   "cell_type": "code",
   "execution_count": 6,
   "outputs": [],
   "source": [
    "q0 = [1.]\n",
    "pi0 = [0.25 * dt * k]"
   ],
   "metadata": {
    "collapsed": false,
    "ExecuteTime": {
     "end_time": "2023-12-05T20:25:31.990444Z",
     "start_time": "2023-12-05T20:25:31.986334Z"
    }
   },
   "id": "634128c26232d4e4"
  },
  {
   "cell_type": "markdown",
   "source": [
    "We get started integrating"
   ],
   "metadata": {
    "collapsed": false
   },
   "id": "3192c2be0e823a49"
  },
  {
   "cell_type": "code",
   "execution_count": 7,
   "outputs": [
    {
     "data": {
      "text/plain": "array([[ 1.        ,  0.025     ],\n       [ 0.9975    , -0.074875  ],\n       [ 0.985025  , -0.17400125],\n       [ 0.96269975, -0.27138749],\n       [ 0.9307475 , -0.36605985],\n       [ 0.88948778, -0.45707161],\n       [ 0.83933318, -0.54351266],\n       [ 0.78078525, -0.62451858],\n       [ 0.71442946, -0.69927932],\n       [ 0.64092938, -0.76704726],\n       [ 0.56102001, -0.82714473]])"
     },
     "execution_count": 7,
     "metadata": {},
     "output_type": "execute_result"
    }
   ],
   "source": [
    "o_results = dho.integrate(q0, pi0, t)\n",
    "o_nr = np.vstack(\n",
    "    [\n",
    "        np.array(o_results[0]),\n",
    "        np.array(o_results[1])\n",
    "    ],\n",
    ").T\n",
    "o_nr"
   ],
   "metadata": {
    "collapsed": false,
    "ExecuteTime": {
     "end_time": "2023-12-05T20:25:31.999547Z",
     "start_time": "2023-12-05T20:25:31.991056Z"
    }
   },
   "id": "ebcf941de4af1e91"
  },
  {
   "cell_type": "code",
   "execution_count": 8,
   "outputs": [
    {
     "name": "stdout",
     "output_type": "stream",
     "text": [
      "qi_values [[1.00624769]\n",
      " [0.99355908]]\n",
      "pi_current [0.025] pi_next [-0.22496619]\n",
      "qi_values [[0.98721825]\n",
      " [1.00009344]]\n",
      "pi_current [0.025] pi_next [0.02872387]\n",
      "qi_values [[1.00652867]\n",
      " [0.99345914]]\n",
      "pi_current [0.025] pi_next [-0.22874584]\n",
      "qi_values [[0.98692796]\n",
      " [1.0001896 ]]\n",
      "pi_current [0.025] pi_next [0.03255952]\n",
      "qi_values [[1.006818  ]\n",
      " [0.99335611]]\n",
      "pi_current [0.025] pi_next [-0.23263895]\n",
      "qi_values [[0.98662888]\n",
      " [1.00028857]]\n",
      "pi_current [0.025] pi_next [0.03651029]\n",
      "qi_values [[1.00711594]\n",
      " [0.99324991]]\n",
      "pi_current [0.025] pi_next [-0.23664891]\n",
      "qi_values [[0.98632074]\n",
      " [1.00039042]]\n",
      "pi_current [0.025] pi_next [0.04057964]\n",
      "qi_values [[1.00742274]\n",
      " [0.99314043]]\n",
      "pi_current [0.025] pi_next [-0.24077924]\n",
      "qi_values [[0.98600326]\n",
      " [1.00049523]]\n",
      "pi_current [0.025] pi_next [0.04477112]\n"
     ]
    },
    {
     "data": {
      "text/plain": "array([[ 1.        ,  0.025     ],\n       [ 0.99355908, -0.22496619],\n       [ 1.00009344,  0.02872387],\n       [ 0.99345914, -0.22874584],\n       [ 1.0001896 ,  0.03255952],\n       [ 0.99335611, -0.23263895],\n       [ 1.00028857,  0.03651029],\n       [ 0.99324991, -0.23664891],\n       [ 1.00039042,  0.04057964],\n       [ 0.99314043, -0.24077924],\n       [ 1.00049523,  0.04477112]])"
     },
     "execution_count": 8,
     "metadata": {},
     "output_type": "execute_result"
    }
   ],
   "source": [
    "st_results = st.iterate(\n",
    "    lagrangian=lagrangian_f,\n",
    "    q0=jnp.array(q0),\n",
    "    pi0=jnp.array(pi0),\n",
    "    dt=dt,\n",
    "    t0=0,\n",
    "    t_sample_count=t_sample_count,\n",
    "    r=0\n",
    ")\n",
    "\n",
    "st_nr = np.vstack(\n",
    "    [\n",
    "        np.array(st_results[0]),\n",
    "        np.array(st_results[1])\n",
    "    ],\n",
    ").T\n",
    "st_nr"
   ],
   "metadata": {
    "collapsed": false,
    "ExecuteTime": {
     "end_time": "2023-12-05T20:25:33.761636Z",
     "start_time": "2023-12-05T20:25:32.000697Z"
    }
   },
   "id": "e8c1bd35885909dc"
  },
  {
   "cell_type": "code",
   "execution_count": 9,
   "outputs": [
    {
     "data": {
      "text/plain": "array([[ 0.        ,  0.        ],\n       [-0.00394092, -0.15009119],\n       [ 0.01506844,  0.20272512],\n       [ 0.03075939,  0.04264165],\n       [ 0.0694421 ,  0.39861937],\n       [ 0.10386833,  0.22443267],\n       [ 0.16095539,  0.58002295],\n       [ 0.21246466,  0.38786967],\n       [ 0.28596096,  0.73985896],\n       [ 0.35221105,  0.52626802],\n       [ 0.43947522,  0.87191585]])"
     },
     "execution_count": 9,
     "metadata": {},
     "output_type": "execute_result"
    }
   ],
   "source": [
    "st_nr - o_nr"
   ],
   "metadata": {
    "collapsed": false,
    "ExecuteTime": {
     "end_time": "2023-12-05T20:25:33.762337Z",
     "start_time": "2023-12-05T20:25:33.758379Z"
    }
   },
   "id": "60ad8887c82749be"
  },
  {
   "cell_type": "code",
   "execution_count": 10,
   "outputs": [
    {
     "data": {
      "text/plain": "<matplotlib.legend.Legend at 0x28856a9d0>"
     },
     "execution_count": 10,
     "metadata": {},
     "output_type": "execute_result"
    },
    {
     "data": {
      "text/plain": "<Figure size 640x480 with 1 Axes>",
      "image/png": "[encoded data removed]"
     },
     "metadata": {},
     "output_type": "display_data"
    }
   ],
   "source": [
    "plt.plot(t, o_nr[:, 0], label='sympy q', color='C0')\n",
    "plt.scatter(t, st_nr[:, 0], label='jax q', color='C0', marker='x')\n",
    "plt.plot(t, o_nr[:, 1], label='sympy $\\pi$', color='C1', )\n",
    "plt.scatter(t, st_nr[:, 1], label='jax $\\pi$', color='C1', marker='x')\n",
    "plt.legend()"
   ],
   "metadata": {
    "collapsed": false,
    "ExecuteTime": {
     "end_time": "2023-12-05T20:25:34.060775Z",
     "start_time": "2023-12-05T20:25:33.763808Z"
    }
   },
   "id": "37fbfef4f4bf1dd6"
  },
  {
   "cell_type": "code",
   "execution_count": 10,
   "outputs": [],
   "source": [],
   "metadata": {
    "collapsed": false,
    "ExecuteTime": {
     "end_time": "2023-12-05T20:25:34.060951Z",
     "start_time": "2023-12-05T20:25:34.058017Z"
    }
   },
   "id": "4aa03a26105a7310"
  }
 ],
 "metadata": {
  "kernelspec": {
   "display_name": "Python 3",
   "language": "python",
   "name": "python3"
  },
  "language_info": {
   "codemirror_mode": {
    "name": "ipython",
    "version": 2
   },
   "file_extension": ".py",
   "mimetype": "text/x-python",
   "name": "python",
   "nbconvert_exporter": "python",
   "pygments_lexer": "ipython2",
   "version": "2.7.6"
  }
 },
 "nbformat": 4,
 "nbformat_minor": 5
}
