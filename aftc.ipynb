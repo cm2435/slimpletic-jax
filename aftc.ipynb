{
 "cells": [
  {
   "cell_type": "markdown",
   "source": [
    "A comparison between the initial behaviours of the original and the new implementation."
   ],
   "metadata": {
    "collapsed": false
   },
   "id": "dc586bf4edc5d755"
  },
  {
   "cell_type": "code",
   "execution_count": 1,
   "id": "initial_id",
   "metadata": {
    "collapsed": true,
    "ExecuteTime": {
     "end_time": "2023-12-05T20:36:19.262025Z",
     "start_time": "2023-12-05T20:36:18.165889Z"
    }
   },
   "outputs": [],
   "source": [
    "import matplotlib.pyplot as plt\n",
    "import numpy as np\n",
    "import jax.numpy as jnp\n",
    "import jax\n",
    "from sympy import Expr\n",
    "\n",
    "import slimpletic as st"
   ]
  },
  {
   "cell_type": "code",
   "execution_count": 2,
   "outputs": [
    {
     "data": {
      "text/plain": "True"
     },
     "execution_count": 2,
     "metadata": {},
     "output_type": "execute_result"
    }
   ],
   "source": [
    "jax.config.read('jax_enable_x64')"
   ],
   "metadata": {
    "collapsed": false,
    "ExecuteTime": {
     "end_time": "2023-12-05T20:36:19.268499Z",
     "start_time": "2023-12-05T20:36:19.262360Z"
    }
   },
   "id": "e6f012beeec1ff0f"
  },
  {
   "cell_type": "markdown",
   "source": [
    "Here we setup the parameters for the system."
   ],
   "metadata": {
    "collapsed": false
   },
   "id": "b63871e83bdbc143"
  },
  {
   "cell_type": "code",
   "execution_count": 3,
   "outputs": [],
   "source": [
    "m = 1.0\n",
    "k = 1.0\n",
    "ll = 1e-4 * np.sqrt(m * k)  # ll is $\\lambda$ in the paper"
   ],
   "metadata": {
    "collapsed": false,
    "ExecuteTime": {
     "end_time": "2023-12-05T20:36:19.274668Z",
     "start_time": "2023-12-05T20:36:19.268964Z"
    }
   },
   "id": "dad8abf7d5f93543"
  },
  {
   "cell_type": "markdown",
   "source": [
    "Then the simulation parameters."
   ],
   "metadata": {
    "collapsed": false
   },
   "id": "7cb19bf7af9945ea"
  },
  {
   "cell_type": "code",
   "execution_count": 4,
   "outputs": [],
   "source": [
    "dt = 0.1 * np.sqrt(m / k)\n",
    "t_sample_count = 100\n",
    "tmax = t_sample_count * np.sqrt(m / k)\n",
    "t0 = 0\n",
    "t = t0 + dt * np.arange(0, t_sample_count + 1)\n",
    "r=0"
   ],
   "metadata": {
    "collapsed": false,
    "ExecuteTime": {
     "end_time": "2023-12-05T20:36:19.274806Z",
     "start_time": "2023-12-05T20:36:19.272355Z"
    }
   },
   "id": "48f63e436cde3de"
  },
  {
   "cell_type": "markdown",
   "source": [
    "Now the system dynamics"
   ],
   "metadata": {
    "collapsed": false
   },
   "id": "7f2acdddba5044c6"
  },
  {
   "cell_type": "code",
   "execution_count": 5,
   "outputs": [],
   "source": [
    "def lagrangian_f(q, qdot, t):\n",
    "    return 0.5 * m * jnp.dot(qdot, qdot) - 0.5 * k * jnp.dot(q, q) ** 2"
   ],
   "metadata": {
    "collapsed": false,
    "ExecuteTime": {
     "end_time": "2023-12-05T20:36:19.280874Z",
     "start_time": "2023-12-05T20:36:19.276899Z"
    }
   },
   "id": "d13dd5958124fd48"
  },
  {
   "cell_type": "code",
   "execution_count": 6,
   "outputs": [],
   "source": [
    "from sympy import Symbol\n",
    "from original import slimplectic\n",
    "\n",
    "dho = slimplectic.GalerkinGaussLobatto('t', ['q'], ['v'])\n",
    "L = 0.5 * m * np.dot(dho.v, dho.v) - 0.5 * k * np.dot(dho.q, dho.q)\n",
    "# DHO:\n",
    "K = -ll * np.dot(dho.vp, dho.qm)\n",
    "# No damping:\n",
    "K_nd = Symbol('a')\n",
    "dho.discretize(L, K_nd, r, method='implicit', verbose=False)"
   ],
   "metadata": {
    "collapsed": false,
    "ExecuteTime": {
     "end_time": "2023-12-05T20:36:19.367701Z",
     "start_time": "2023-12-05T20:36:19.279672Z"
    }
   },
   "id": "83195528c9067a5c"
  },
  {
   "cell_type": "markdown",
   "source": [
    "Now with some initial data"
   ],
   "metadata": {
    "collapsed": false
   },
   "id": "6cbca13b19be265c"
  },
  {
   "cell_type": "code",
   "execution_count": 7,
   "outputs": [],
   "source": [
    "q0 = [1.]\n",
    "pi0 = [0.25 * dt * k]"
   ],
   "metadata": {
    "collapsed": false,
    "ExecuteTime": {
     "end_time": "2023-12-05T20:36:19.373969Z",
     "start_time": "2023-12-05T20:36:19.368002Z"
    }
   },
   "id": "634128c26232d4e4"
  },
  {
   "cell_type": "markdown",
   "source": [
    "We get started integrating"
   ],
   "metadata": {
    "collapsed": false
   },
   "id": "3192c2be0e823a49"
  },
  {
   "cell_type": "code",
   "execution_count": 8,
   "outputs": [
    {
     "data": {
      "text/plain": "array([[ 1.        ,  0.025     ],\n       [ 0.9975    , -0.074875  ],\n       [ 0.985025  , -0.17400125],\n       [ 0.96269975, -0.27138749],\n       [ 0.9307475 , -0.36605985],\n       [ 0.88948778, -0.45707161],\n       [ 0.83933318, -0.54351266],\n       [ 0.78078525, -0.62451858],\n       [ 0.71442946, -0.69927932],\n       [ 0.64092938, -0.76704726],\n       [ 0.56102001, -0.82714473],\n       [ 0.47550044, -0.87897075],\n       [ 0.38522586, -0.92200707],\n       [ 0.29109902, -0.95582331],\n       [ 0.1940612 , -0.98008132],\n       [ 0.09508276, -0.99453852],\n       [-0.00484651, -0.99905033],\n       [-0.10472731, -0.99357164],\n       [-0.20356084, -0.97815724],\n       [-0.30035876, -0.95296126],\n       [-0.39415309, -0.91823566],\n       [-0.48400589, -0.87432772],\n       [-0.56901863, -0.82167649],\n       [-0.64834119, -0.7608085 ],\n       [-0.72118033, -0.69233242],\n       [-0.78680767, -0.61693302],\n       [-0.84456693, -0.53536429],\n       [-0.89388053, -0.44844192],\n       [-0.93425532, -0.35703513],\n       [-0.96528755, -0.26205798],\n       [-0.98666692, -0.16446026],\n       [-0.99817961, -0.06521793],\n       [-0.9997105 ,  0.03467657],\n       [-0.99124429,  0.13422431],\n       [-0.97286564,  0.23242981],\n       [-0.94475833,  0.32831101],\n       [-0.90720344,  0.42090909],\n       [-0.86057651,  0.50929809],\n       [-0.80534382,  0.59259411],\n       [-0.74205769,  0.66996418],\n       [-0.67135098,  0.74063462],\n       [-0.59393077,  0.80389871],\n       [-0.51057124,  0.85912381],\n       [-0.42210601,  0.90575767],\n       [-0.32941971,  0.94333395],\n       [-0.23343921,  0.9714769 ],\n       [-0.13512433,  0.98990508],\n       [-0.0354582 ,  0.9984342 ],\n       [ 0.06456251,  0.99697899],\n       [ 0.1639376 ,  0.98555398],\n       [ 0.26167331,  0.96427344],\n       [ 0.35679229,  0.93335016],\n       [ 0.44834334,  0.89309338],\n       [ 0.53541096,  0.84390566],\n       [ 0.61712447,  0.78627889],\n       [ 0.69266674,  0.72078933],\n       [ 0.76128234,  0.64809188],\n       [ 0.82228511,  0.5689135 ],\n       [ 0.87506504,  0.48404599],\n       [ 0.91909431,  0.39433803],\n       [ 0.95393264,  0.30068668],\n       [ 0.97923165,  0.20402846],\n       [ 0.99473834,  0.10532997],\n       [ 1.00029764,  0.00557817],\n       [ 0.99585397, -0.09422941],\n       [ 0.98145176, -0.1930947 ],\n       [ 0.95723503, -0.29002904],\n       [ 0.92344595, -0.38406309],\n       [ 0.88042241, -0.47425651],\n       [ 0.82859465, -0.55970736],\n       [ 0.76848094, -0.63956114],\n       [ 0.70068242, -0.71301931],\n       [ 0.62587708, -0.77934728],\n       [ 0.54481297, -0.83788179],\n       [ 0.45830072, -0.88803747],\n       [ 0.36720547, -0.92931278],\n       [ 0.27243817, -0.96129496],\n       [ 0.17494648, -0.98366419],\n       [ 0.07570533, -0.99619678],\n       [-0.02429288, -0.99876741],\n       [-0.12404815, -0.99135035],\n       [-0.22256295, -0.9740198 ],\n       [-0.31885211, -0.94694905],\n       [-0.41195276, -0.9104088 ],\n       [-0.50093387, -0.86476447],\n       [-0.58490565, -0.81047249],\n       [-0.66302837, -0.74807579],\n       [-0.73452081, -0.67819833],\n       [-0.79866804, -0.60153889],\n       [-0.85482859, -0.51886406],\n       [-0.90244085, -0.43100059],\n       [-0.94102871, -0.33882711],\n       [-0.97020627, -0.24326536],\n       [-0.98968178, -0.14527096],\n       [-0.99926047, -0.04582385],\n       [-0.99884655,  0.0540815 ],\n       [-0.98844417,  0.15344604],\n       [-0.96815734,  0.25127612],\n       [-0.93818894,  0.34659343],\n       [-0.89883865,  0.43844481],\n       [-0.85049998,  0.52591174]])"
     },
     "execution_count": 8,
     "metadata": {},
     "output_type": "execute_result"
    }
   ],
   "source": [
    "o_results = dho.integrate(q0, pi0, t)\n",
    "o_nr = np.vstack(\n",
    "    [\n",
    "        np.array(o_results[0]),\n",
    "        np.array(o_results[1])\n",
    "    ],\n",
    ").T\n",
    "o_nr"
   ],
   "metadata": {
    "collapsed": false,
    "ExecuteTime": {
     "end_time": "2023-12-05T20:36:19.384130Z",
     "start_time": "2023-12-05T20:36:19.371586Z"
    }
   },
   "id": "ebcf941de4af1e91"
  },
  {
   "cell_type": "code",
   "execution_count": 9,
   "outputs": [
    {
     "name": "stdout",
     "output_type": "stream",
     "text": [
      "qi_values [[1.00374847]\n",
      " [0.9961356 ]]\n",
      "pi_current [0.025] pi_next [-0.17497392]\n",
      "qi_values [[1.00982311]\n",
      " [0.98202812]]\n",
      "pi_current [0.025] pi_next [-0.37265464]\n",
      "qi_values [[1.00539412]\n",
      " [0.95796596]]\n",
      "pi_current [0.025] pi_next [-0.56219404]\n",
      "qi_values [[0.99047395]\n",
      " [0.92453762]]\n",
      "pi_current [0.025] pi_next [-0.73839005]\n",
      "qi_values [[0.96541815]\n",
      " [0.88258114]]\n",
      "pi_current [0.025] pi_next [-0.89711874]\n",
      "qi_values [[0.93089242]\n",
      " [0.83311379]]\n",
      "pi_current [0.025] pi_next [-1.03561086]\n",
      "qi_values [[0.88781161]\n",
      " [0.77725271]]\n",
      "pi_current [0.025] pi_next [-1.15254454]\n",
      "qi_values [[0.83726067]\n",
      " [0.71613698]]\n",
      "pi_current [0.025] pi_next [-1.24796421]\n",
      "qi_values [[0.78040946]\n",
      " [0.65086004]]\n",
      "pi_current [0.025] pi_next [-1.32306584]\n",
      "qi_values [[0.71843244]\n",
      " [0.5824177 ]]\n",
      "pi_current [0.025] pi_next [-1.37990359]\n",
      "qi_values [[0.65244152]\n",
      " [0.51167385]]\n",
      "pi_current [0.025] pi_next [-1.42107286]\n",
      "qi_values [[0.5834364]\n",
      " [0.4393431]]\n",
      "pi_current [0.025] pi_next [-1.44941322]\n",
      "qi_values [[0.5122735 ]\n",
      " [0.36598785]]\n",
      "pi_current [0.025] pi_next [-1.46775882]\n",
      "qi_values [[0.43965207]\n",
      " [0.29202637]]\n",
      "pi_current [0.025] pi_next [-1.47874741]\n",
      "qi_values [[0.36611407]\n",
      " [0.21774859]]\n",
      "pi_current [0.025] pi_next [-1.48468723]\n",
      "qi_values [[0.29205458]\n",
      " [0.14333674]]\n",
      "pi_current [0.025] pi_next [-1.48747283]\n",
      "qi_values [[0.21773905]\n",
      " [0.06888854]]\n",
      "pi_current [0.025] pi_next [-1.48853782]\n",
      "qi_values [[ 0.14332485]\n",
      " [-0.00555838]]\n",
      "pi_current [0.025] pi_next [-1.48883223]\n",
      "qi_values [[ 0.06888483]\n",
      " [-0.08000166]]\n",
      "pi_current [0.025] pi_next [-1.48881371]\n",
      "qi_values [[-0.00556812]\n",
      " [-0.15444949]]\n",
      "pi_current [0.025] pi_next [-1.48844526]\n",
      "qi_values [[-0.08005643]\n",
      " [-0.22889583]]\n",
      "pi_current [0.025] pi_next [-1.48719469]\n",
      "qi_values [[-0.15461305]\n",
      " [-0.30329556]]\n",
      "pi_current [0.025] pi_next [-1.48403512]\n",
      "qi_values [[-0.22925651]\n",
      " [-0.37753953]]\n",
      "pi_current [0.025] pi_next [-1.47744888]\n",
      "qi_values [[-0.30396551]\n",
      " [-0.45142955]]\n",
      "pi_current [0.025] pi_next [-1.46544077]\n",
      "qi_values [[-0.37865283]\n",
      " [-0.524654  ]]\n",
      "pi_current [0.025] pi_next [-1.44557]\n",
      "qi_values [[-0.45313851]\n",
      " [-0.59676506]]\n",
      "pi_current [0.025] pi_next [-1.415013]\n",
      "qi_values [[-0.52712283]\n",
      " [-0.66715947]]\n",
      "pi_current [0.025] pi_next [-1.37067106]\n",
      "qi_values [[-0.60016022]\n",
      " [-0.73506559]]\n",
      "pi_current [0.025] pi_next [-1.30933658]\n",
      "qi_values [[-0.67163623]\n",
      " [-0.79954017]]\n",
      "pi_current [0.025] pi_next [-1.22792763]\n",
      "qi_values [[-0.74075089]\n",
      " [-0.85947907]]\n",
      "pi_current [0.025] pi_next [-1.12379166]\n",
      "qi_values [[-0.80651277]\n",
      " [-0.91364587]]\n",
      "pi_current [0.025] pi_next [-0.99506453]\n",
      "qi_values [[-0.86774915]\n",
      " [-0.96072155]]\n",
      "pi_current [0.025] pi_next [-0.84105076]\n",
      "qi_values [[-0.9231376 ]\n",
      " [-0.99937586]]\n",
      "pi_current [0.025] pi_next [-0.66256967]\n",
      "qi_values [[-0.97126277]\n",
      " [-1.02835732]]\n",
      "pi_current [0.025] pi_next [-0.46219474]\n",
      "qi_values [[-1.01069908]\n",
      " [-1.04659414]]\n",
      "pi_current [0.025] pi_next [-0.24431089]\n",
      "qi_values [[-1.04011485]\n",
      " [-1.05329357]]\n",
      "pi_current [0.025] pi_next [-0.01493195]\n",
      "qi_values [[-1.05838723]\n",
      " [-1.04802455]]\n",
      "pi_current [0.025] pi_next [0.21873719]\n",
      "qi_values [[-1.06471195]\n",
      " [-1.03076854]]\n",
      "pi_current [0.025] pi_next [0.44895165]\n",
      "qi_values [[-1.05868949]\n",
      " [-1.00192829]]\n",
      "pi_current [0.025] pi_next [0.66819165]\n",
      "qi_values [[-1.04037134]\n",
      " [-0.96229149]]\n",
      "pi_current [0.025] pi_next [0.86990725]\n",
      "qi_values [[-1.01025695]\n",
      " [-0.91295535]]\n",
      "pi_current [0.025] pi_next [1.04910969]\n",
      "qi_values [[-0.96924168]\n",
      " [-0.85522537]]\n",
      "pi_current [0.025] pi_next [1.20271518]\n",
      "qi_values [[-0.91852573]\n",
      " [-0.7905047 ]]\n",
      "pi_current [0.025] pi_next [1.32960869]\n",
      "qi_values [[-0.85950069]\n",
      " [-0.72019033]]\n",
      "pi_current [0.025] pi_next [1.43045798]\n",
      "qi_values [[-0.79363207]\n",
      " [-0.64558756]]\n",
      "pi_current [0.025] pi_next [1.50735205]\n",
      "qi_values [[-0.72235367]\n",
      " [-0.56784926]]\n",
      "pi_current [0.025] pi_next [1.56335455]\n",
      "qi_values [[-0.64698451]\n",
      " [-0.48794085]]\n",
      "pi_current [0.025] pi_next [1.60205381]\n",
      "qi_values [[-0.5686726 ]\n",
      " [-0.40662819]]\n",
      "pi_current [0.025] pi_next [1.62716749]\n",
      "qi_values [[-0.48836516]\n",
      " [-0.32448366]]\n",
      "pi_current [0.025] pi_next [1.6422315]\n",
      "qi_values [[-0.40680138]\n",
      " [-0.24190503]]\n",
      "pi_current [0.025] pi_next [1.65037913]\n",
      "qi_values [[-0.3245222 ]\n",
      " [-0.15914252]]\n",
      "pi_current [0.025] pi_next [1.65419987]\n",
      "qi_values [[-0.24189181]\n",
      " [-0.07633029]]\n",
      "pi_current [0.025] pi_next [1.65565969]\n",
      "qi_values [[-0.15912618]\n",
      " [ 0.00648008]]\n",
      "pi_current [0.025] pi_next [1.65606259]\n",
      "qi_values [[-0.07632522]\n",
      " [ 0.08928548]]\n",
      "pi_current [0.025] pi_next [1.65603588]\n",
      "qi_values [[0.0064936 ]\n",
      " [0.17209718]]\n",
      "pi_current [0.025] pi_next [1.65552614]\n",
      "qi_values [[0.08936124]\n",
      " [0.25490671]]\n",
      "pi_current [0.025] pi_next [1.65379847]\n",
      "qi_values [[0.17232304]\n",
      " [0.33765171]]\n",
      "pi_current [0.025] pi_next [1.64943723]\n",
      "qi_values [[0.25540431]\n",
      " [0.42018143]]\n",
      "pi_current [0.025] pi_next [1.64035278]\n",
      "qi_values [[0.33857516]\n",
      " [0.50222231]]\n",
      "pi_current [0.025] pi_next [1.62380417]\n",
      "qi_values [[0.42171407]\n",
      " [0.5833445 ]]\n",
      "pi_current [0.025] pi_next [1.59645362]\n",
      "qi_values [[0.50457042]\n",
      " [0.66293119]]\n",
      "pi_current [0.025] pi_next [1.55447334]\n",
      "qi_values [[0.58672657]\n",
      " [0.74015411]]\n",
      "pi_current [0.025] pi_next [1.49372767]\n",
      "qi_values [[0.66756176]\n",
      " [0.81395961]]\n",
      "pi_current [0.025] pi_next [1.41005125]\n",
      "qi_values [[0.74622162]\n",
      " [0.88307144]]\n",
      "pi_current [0.025] pi_next [1.29963489]\n",
      "qi_values [[0.82159906]\n",
      " [0.94601655]]\n",
      "pi_current [0.025] pi_next [1.15951141]\n",
      "qi_values [[0.89233421]\n",
      " [1.00118005]]\n",
      "pi_current [0.025] pi_next [0.98810394]\n",
      "qi_values [[0.95684237]\n",
      " [1.04689242]]\n",
      "pi_current [0.025] pi_next [0.78576278]\n",
      "qi_values [[1.01337737]\n",
      " [1.08154693]]\n",
      "pi_current [0.025] pi_next [0.55518237]\n",
      "qi_values [[1.06013454]\n",
      " [1.10373808]]\n",
      "pi_current [0.025] pi_next [0.30157388]\n",
      "qi_values [[1.0953894 ]\n",
      " [1.11240345]]\n",
      "pi_current [0.025] pi_next [0.03248711]\n",
      "qi_values [[1.11765847]\n",
      " [1.10694583]]\n",
      "pi_current [0.025] pi_next [-0.24276366]\n",
      "qi_values [[1.12585858]\n",
      " [1.08731131]]\n",
      "pi_current [0.025] pi_next [-0.51401965]\n",
      "qi_values [[1.11943567]\n",
      " [1.05400565]]\n",
      "pi_current [0.025] pi_next [-0.77139261]\n",
      "qi_values [[1.09843598]\n",
      " [1.00804341]]\n",
      "pi_current [0.025] pi_next [-1.00635816]\n",
      "qi_values [[1.06350363]\n",
      " [0.95083917]]\n",
      "pi_current [0.025] pi_next [-1.21260958]\n",
      "qi_values [[1.01580477]\n",
      " [0.88406214]]\n",
      "pi_current [0.025] pi_next [-1.38652162]\n",
      "qi_values [[0.9568946 ]\n",
      " [0.80948066]]\n",
      "pi_current [0.025] pi_next [-1.52718136]\n",
      "qi_values [[0.88855447]\n",
      " [0.72882094]]\n",
      "pi_current [0.025] pi_next [-1.63604883]\n",
      "qi_values [[0.81262781]\n",
      " [0.64365663]]\n",
      "pi_current [0.025] pi_next [-1.71637814]\n",
      "qi_values [[0.73087865]\n",
      " [0.55533661]]\n",
      "pi_current [0.025] pi_next [-1.77254699]\n",
      "qi_values [[0.64488669]\n",
      " [0.46495004]]\n",
      "pi_current [0.025] pi_next [-1.80941768]\n",
      "qi_values [[0.55598304]\n",
      " [0.37332263]]\n",
      "pi_current [0.025] pi_next [-1.83180706]\n",
      "qi_values [[0.46522345]\n",
      " [0.28103584]]\n",
      "pi_current [0.025] pi_next [-1.84409568]\n",
      "qi_values [[0.37339121]\n",
      " [0.18846106]]\n",
      "pi_current [0.025] pi_next [-1.8499709]\n",
      "qi_values [[0.28102118]\n",
      " [0.09580216]]\n",
      "pi_current [0.025] pi_next [-1.85227814]\n",
      "qi_values [[0.18843676]\n",
      " [0.00314204]]\n",
      "pi_current [0.025] pi_next [-1.85294725]\n",
      "qi_values [[ 0.09579378]\n",
      " [-0.08950974]]\n",
      "pi_current [0.025] pi_next [-1.85296344]\n",
      "qi_values [[ 0.0031273 ]\n",
      " [-0.18216904]]\n",
      "pi_current [0.025] pi_next [-1.8523589]\n",
      "qi_values [[-0.08960083]\n",
      " [-0.27482952]]\n",
      "pi_current [0.025] pi_next [-1.85021115]\n",
      "qi_values [[-0.18245425]\n",
      " [-0.36741463]]\n",
      "pi_current [0.025] pi_next [-1.84464391]\n",
      "qi_values [[-0.27547392]\n",
      " [-0.45972927]]\n",
      "pi_current [0.025] pi_next [-1.83283702]\n",
      "qi_values [[-0.36862859]\n",
      " [-0.55141138]]\n",
      "pi_current [0.025] pi_next [-1.81106193]\n",
      "qi_values [[-0.4617633 ]\n",
      " [-0.64188489]]\n",
      "pi_current [0.025] pi_next [-1.77476926]\n",
      "qi_values [[-0.55454575]\n",
      " [-0.73031733]]\n",
      "pi_current [0.025] pi_next [-1.71876337]\n",
      "qi_values [[-0.646412  ]\n",
      " [-0.81558732]]\n",
      "pi_current [0.025] pi_next [-1.63750168]\n",
      "qi_values [[-0.73651503]\n",
      " [-0.89626994]]\n",
      "pi_current [0.025] pi_next [-1.52555176]\n",
      "qi_values [[-0.82368288]\n",
      " [-0.97064975]]\n",
      "pi_current [0.025] pi_next [-1.37821788]\n",
      "qi_values [[-0.9063967 ]\n",
      " [-1.03677194]]\n",
      "pi_current [0.025] pi_next [-1.1923102]\n",
      "qi_values [[-0.98280213]\n",
      " [-1.09254026]]\n",
      "pi_current [0.025] pi_next [-0.9669709]\n",
      "qi_values [[-1.05076829]\n",
      " [-1.1358637 ]]\n",
      "pi_current [0.025] pi_next [-0.70440652]\n"
     ]
    },
    {
     "data": {
      "text/plain": "array([[ 1.        ,  0.025     ],\n       [ 0.9961356 , -0.17497392],\n       [ 0.98202812, -0.37265464],\n       [ 0.95796596, -0.56219404],\n       [ 0.92453762, -0.73839005],\n       [ 0.88258114, -0.89711874],\n       [ 0.83311379, -1.03561086],\n       [ 0.77725271, -1.15254454],\n       [ 0.71613698, -1.24796421],\n       [ 0.65086004, -1.32306584],\n       [ 0.5824177 , -1.37990359],\n       [ 0.51167385, -1.42107286],\n       [ 0.4393431 , -1.44941322],\n       [ 0.36598785, -1.46775882],\n       [ 0.29202637, -1.47874741],\n       [ 0.21774859, -1.48468723],\n       [ 0.14333674, -1.48747283],\n       [ 0.06888854, -1.48853782],\n       [-0.00555838, -1.48883223],\n       [-0.08000166, -1.48881371],\n       [-0.15444949, -1.48844526],\n       [-0.22889583, -1.48719469],\n       [-0.30329556, -1.48403512],\n       [-0.37753953, -1.47744888],\n       [-0.45142955, -1.46544077],\n       [-0.524654  , -1.44557   ],\n       [-0.59676506, -1.415013  ],\n       [-0.66715947, -1.37067106],\n       [-0.73506559, -1.30933658],\n       [-0.79954017, -1.22792763],\n       [-0.85947907, -1.12379166],\n       [-0.91364587, -0.99506453],\n       [-0.96072155, -0.84105076],\n       [-0.99937586, -0.66256967],\n       [-1.02835732, -0.46219474],\n       [-1.04659414, -0.24431089],\n       [-1.05329357, -0.01493195],\n       [-1.04802455,  0.21873719],\n       [-1.03076854,  0.44895165],\n       [-1.00192829,  0.66819165],\n       [-0.96229149,  0.86990725],\n       [-0.91295535,  1.04910969],\n       [-0.85522537,  1.20271518],\n       [-0.7905047 ,  1.32960869],\n       [-0.72019033,  1.43045798],\n       [-0.64558756,  1.50735205],\n       [-0.56784926,  1.56335455],\n       [-0.48794085,  1.60205381],\n       [-0.40662819,  1.62716749],\n       [-0.32448366,  1.6422315 ],\n       [-0.24190503,  1.65037913],\n       [-0.15914252,  1.65419987],\n       [-0.07633029,  1.65565969],\n       [ 0.00648008,  1.65606259],\n       [ 0.08928548,  1.65603588],\n       [ 0.17209718,  1.65552614],\n       [ 0.25490671,  1.65379847],\n       [ 0.33765171,  1.64943723],\n       [ 0.42018143,  1.64035278],\n       [ 0.50222231,  1.62380417],\n       [ 0.5833445 ,  1.59645362],\n       [ 0.66293119,  1.55447334],\n       [ 0.74015411,  1.49372767],\n       [ 0.81395961,  1.41005125],\n       [ 0.88307144,  1.29963489],\n       [ 0.94601655,  1.15951141],\n       [ 1.00118005,  0.98810394],\n       [ 1.04689242,  0.78576278],\n       [ 1.08154693,  0.55518237],\n       [ 1.10373808,  0.30157388],\n       [ 1.11240345,  0.03248711],\n       [ 1.10694583, -0.24276366],\n       [ 1.08731131, -0.51401965],\n       [ 1.05400565, -0.77139261],\n       [ 1.00804341, -1.00635816],\n       [ 0.95083917, -1.21260958],\n       [ 0.88406214, -1.38652162],\n       [ 0.80948066, -1.52718136],\n       [ 0.72882094, -1.63604883],\n       [ 0.64365663, -1.71637814],\n       [ 0.55533661, -1.77254699],\n       [ 0.46495004, -1.80941768],\n       [ 0.37332263, -1.83180706],\n       [ 0.28103584, -1.84409568],\n       [ 0.18846106, -1.8499709 ],\n       [ 0.09580216, -1.85227814],\n       [ 0.00314204, -1.85294725],\n       [-0.08950974, -1.85296344],\n       [-0.18216904, -1.8523589 ],\n       [-0.27482952, -1.85021115],\n       [-0.36741463, -1.84464391],\n       [-0.45972927, -1.83283702],\n       [-0.55141138, -1.81106193],\n       [-0.64188489, -1.77476926],\n       [-0.73031733, -1.71876337],\n       [-0.81558732, -1.63750168],\n       [-0.89626994, -1.52555176],\n       [-0.97064975, -1.37821788],\n       [-1.03677194, -1.1923102 ],\n       [-1.09254026, -0.9669709 ],\n       [-1.1358637 , -0.70440652]])"
     },
     "execution_count": 9,
     "metadata": {},
     "output_type": "execute_result"
    }
   ],
   "source": [
    "st_results = st.iterate(\n",
    "    lagrangian=lagrangian_f,\n",
    "    q0=jnp.array(q0),\n",
    "    pi0=jnp.array(pi0),\n",
    "    dt=dt,\n",
    "    t0=0,\n",
    "    t_sample_count=t_sample_count,\n",
    "    r=r\n",
    ")\n",
    "\n",
    "st_nr = np.vstack(\n",
    "    [\n",
    "        np.array(st_results[0]),\n",
    "        np.array(st_results[1])\n",
    "    ],\n",
    ").T\n",
    "st_nr"
   ],
   "metadata": {
    "collapsed": false,
    "ExecuteTime": {
     "end_time": "2023-12-05T20:36:21.193753Z",
     "start_time": "2023-12-05T20:36:19.386813Z"
    }
   },
   "id": "e8c1bd35885909dc"
  },
  {
   "cell_type": "code",
   "execution_count": 10,
   "outputs": [
    {
     "data": {
      "text/plain": "array([[ 0.00000000e+00,  0.00000000e+00],\n       [-1.36440420e-03, -1.00098915e-01],\n       [-2.99687972e-03, -1.98653393e-01],\n       [-4.73379246e-03, -2.90806555e-01],\n       [-6.20988546e-03, -3.72330199e-01],\n       [-6.90664440e-03, -4.40047125e-01],\n       [-6.21938567e-03, -4.92098200e-01],\n       [-3.53253905e-03, -5.28025957e-01],\n       [ 1.70751314e-03, -5.48684890e-01],\n       [ 9.93065495e-03, -5.56018575e-01],\n       [ 2.13976922e-02, -5.52758862e-01],\n       [ 3.61734152e-02, -5.42102107e-01],\n       [ 5.41172437e-02, -5.27406156e-01],\n       [ 7.48888271e-02, -5.11935507e-01],\n       [ 9.79651698e-02, -4.98666087e-01],\n       [ 1.22665834e-01, -4.90148708e-01],\n       [ 1.48183249e-01, -4.88422492e-01],\n       [ 1.73615844e-01, -4.94966181e-01],\n       [ 1.98002459e-01, -5.10674990e-01],\n       [ 2.20357098e-01, -5.35852453e-01],\n       [ 2.39703597e-01, -5.70209594e-01],\n       [ 2.55110060e-01, -6.12866973e-01],\n       [ 2.65723070e-01, -6.62358632e-01],\n       [ 2.70801659e-01, -7.16640383e-01],\n       [ 2.69750782e-01, -7.73108348e-01],\n       [ 2.62153671e-01, -8.28636979e-01],\n       [ 2.47801878e-01, -8.79648706e-01],\n       [ 2.26721059e-01, -9.22229139e-01],\n       [ 1.99189728e-01, -9.52301455e-01],\n       [ 1.65747381e-01, -9.65869644e-01],\n       [ 1.27187846e-01, -9.59331400e-01],\n       [ 8.45337406e-02, -9.29846591e-01],\n       [ 3.89889546e-02, -8.75727333e-01],\n       [-8.13156477e-03, -7.96793978e-01],\n       [-5.54916798e-02, -6.94624550e-01],\n       [-1.01835806e-01, -5.72621900e-01],\n       [-1.46090134e-01, -4.35841048e-01],\n       [-1.87448034e-01, -2.90560904e-01],\n       [-2.25424717e-01, -1.43642459e-01],\n       [-2.59870599e-01, -1.77253134e-03],\n       [-2.90940502e-01,  1.29272635e-01],\n       [-3.19024586e-01,  2.45210989e-01],\n       [-3.44654125e-01,  3.43591379e-01],\n       [-3.68398698e-01,  4.23851025e-01],\n       [-3.90770626e-01,  4.87124026e-01],\n       [-4.12148348e-01,  5.35875154e-01],\n       [-4.32724934e-01,  5.73449476e-01],\n       [-4.52482651e-01,  6.03619609e-01],\n       [-4.71190705e-01,  6.30188498e-01],\n       [-4.88421257e-01,  6.56677515e-01],\n       [-5.03578338e-01,  6.86105690e-01],\n       [-5.15934808e-01,  7.20849714e-01],\n       [-5.24673632e-01,  7.62566317e-01],\n       [-5.28930881e-01,  8.12156931e-01],\n       [-5.27838988e-01,  8.69756988e-01],\n       [-5.20569558e-01,  9.34736814e-01],\n       [-5.06375625e-01,  1.00570659e+00],\n       [-4.84633402e-01,  1.08052372e+00],\n       [-4.54883608e-01,  1.15630679e+00],\n       [-4.16871998e-01,  1.22946615e+00],\n       [-3.70588144e-01,  1.29576694e+00],\n       [-3.16300458e-01,  1.35044488e+00],\n       [-2.54584230e-01,  1.38839771e+00],\n       [-1.86338029e-01,  1.40447308e+00],\n       [-1.12782532e-01,  1.39386431e+00],\n       [-3.54352136e-02,  1.35260611e+00],\n       [ 4.39450212e-02,  1.27813298e+00],\n       [ 1.23446469e-01,  1.16982587e+00],\n       [ 2.01124520e-01,  1.02943888e+00],\n       [ 2.75143428e-01,  8.61281236e-01],\n       [ 3.43922511e-01,  6.72048246e-01],\n       [ 4.06263409e-01,  4.70255648e-01],\n       [ 4.61434231e-01,  2.65327637e-01],\n       [ 5.09192684e-01,  6.64891721e-02],\n       [ 5.49742686e-01, -1.18320693e-01],\n       [ 5.83633696e-01, -2.83296801e-01],\n       [ 6.11623971e-01, -4.25226661e-01],\n       [ 6.34534183e-01, -5.43517167e-01],\n       [ 6.53115612e-01, -6.39852042e-01],\n       [ 6.67949505e-01, -7.17610729e-01],\n       [ 6.79384761e-01, -7.81196632e-01],\n       [ 6.87512991e-01, -8.35397882e-01],\n       [ 6.92174748e-01, -8.84858014e-01],\n       [ 6.92988602e-01, -9.33686875e-01],\n       [ 6.89394930e-01, -9.85206432e-01],\n       [ 6.80707814e-01, -1.04180564e+00],\n       [ 6.66170410e-01, -1.10487145e+00],\n       [ 6.45011075e-01, -1.17476510e+00],\n       [ 6.16498996e-01, -1.25082001e+00],\n       [ 5.79999064e-01, -1.33134709e+00],\n       [ 5.35026223e-01, -1.41364332e+00],\n       [ 4.81299439e-01, -1.49400991e+00],\n       [ 4.18794898e-01, -1.56779657e+00],\n       [ 3.47796885e-01, -1.62949831e+00],\n       [ 2.68943135e-01, -1.67293952e+00],\n       [ 1.83259232e-01, -1.69158319e+00],\n       [ 9.21742246e-02, -1.67899780e+00],\n       [-2.49240677e-03, -1.62949399e+00],\n       [-9.85830007e-02, -1.53890363e+00],\n       [-1.93701608e-01, -1.40541571e+00],\n       [-2.85363718e-01, -1.23031826e+00]])"
     },
     "execution_count": 10,
     "metadata": {},
     "output_type": "execute_result"
    }
   ],
   "source": [
    "st_nr - o_nr"
   ],
   "metadata": {
    "collapsed": false,
    "ExecuteTime": {
     "end_time": "2023-12-05T20:36:21.194704Z",
     "start_time": "2023-12-05T20:36:21.191035Z"
    }
   },
   "id": "60ad8887c82749be"
  },
  {
   "cell_type": "code",
   "execution_count": 11,
   "outputs": [
    {
     "data": {
      "text/plain": "<matplotlib.legend.Legend at 0x28aa1ec40>"
     },
     "execution_count": 11,
     "metadata": {},
     "output_type": "execute_result"
    },
    {
     "data": {
      "text/plain": "<Figure size 640x480 with 1 Axes>",
      "image/png": "[encoded data removed]"
     },
     "metadata": {},
     "output_type": "display_data"
    }
   ],
   "source": [
    "plt.plot(t, o_nr[:, 0], label='sympy q', color='C0')\n",
    "plt.scatter(t, st_nr[:, 0], label='jax q', color='C0', marker='x')\n",
    "plt.plot(t, o_nr[:, 1], label='sympy $\\pi$', color='C1', )\n",
    "plt.scatter(t, st_nr[:, 1], label='jax $\\pi$', color='C1', marker='x')\n",
    "plt.legend()"
   ],
   "metadata": {
    "collapsed": false,
    "ExecuteTime": {
     "end_time": "2023-12-05T20:36:21.450590Z",
     "start_time": "2023-12-05T20:36:21.195822Z"
    }
   },
   "id": "37fbfef4f4bf1dd6"
  },
  {
   "cell_type": "code",
   "execution_count": 11,
   "outputs": [],
   "source": [],
   "metadata": {
    "collapsed": false,
    "ExecuteTime": {
     "end_time": "2023-12-05T20:36:21.494207Z",
     "start_time": "2023-12-05T20:36:21.454375Z"
    }
   },
   "id": "4aa03a26105a7310"
  }
 ],
 "metadata": {
  "kernelspec": {
   "display_name": "Python 3",
   "language": "python",
   "name": "python3"
  },
  "language_info": {
   "codemirror_mode": {
    "name": "ipython",
    "version": 2
   },
   "file_extension": ".py",
   "mimetype": "text/x-python",
   "name": "python",
   "nbconvert_exporter": "python",
   "pygments_lexer": "ipython2",
   "version": "2.7.6"
  }
 },
 "nbformat": 4,
 "nbformat_minor": 5
}
