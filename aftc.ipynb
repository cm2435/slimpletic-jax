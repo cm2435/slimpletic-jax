{
 "cells": [
  {
   "cell_type": "markdown",
   "source": [
    "A comparison between the initial behaviours of the original and the new implementation."
   ],
   "metadata": {
    "collapsed": false
   },
   "id": "dc586bf4edc5d755"
  },
  {
   "cell_type": "code",
   "execution_count": 2,
   "id": "initial_id",
   "metadata": {
    "collapsed": true,
    "ExecuteTime": {
     "end_time": "2023-12-05T17:07:14.047627Z",
     "start_time": "2023-12-05T17:07:12.743169Z"
    }
   },
   "outputs": [],
   "source": [
    "import matplotlib.pyplot as plt\n",
    "import numpy as np\n",
    "import jax.numpy as jnp\n",
    "from sympy import Expr\n",
    "\n",
    "import slimpletic as st"
   ]
  },
  {
   "cell_type": "markdown",
   "source": [
    "Here we setup the parameters for the system."
   ],
   "metadata": {
    "collapsed": false
   },
   "id": "b63871e83bdbc143"
  },
  {
   "cell_type": "code",
   "execution_count": 3,
   "outputs": [],
   "source": [
    "m = 1.0\n",
    "k = 1.0\n",
    "ll = 1e-4 * np.sqrt(m * k)  # ll is $\\lambda$ in the paper"
   ],
   "metadata": {
    "collapsed": false,
    "ExecuteTime": {
     "end_time": "2023-12-05T17:07:14.938977Z",
     "start_time": "2023-12-05T17:07:14.929063Z"
    }
   },
   "id": "dad8abf7d5f93543"
  },
  {
   "cell_type": "markdown",
   "source": [
    "Then the simulation parameters."
   ],
   "metadata": {
    "collapsed": false
   },
   "id": "7cb19bf7af9945ea"
  },
  {
   "cell_type": "code",
   "execution_count": 33,
   "outputs": [],
   "source": [
    "dt = 0.1 * np.sqrt(m / k)\n",
    "t_sample_count = 10\n",
    "tmax = t_sample_count * np.sqrt(m / k)\n",
    "t0 = 0\n",
    "t = t0 + dt * np.arange(0, t_sample_count + 1)"
   ],
   "metadata": {
    "collapsed": false,
    "ExecuteTime": {
     "end_time": "2023-12-05T17:13:56.519216Z",
     "start_time": "2023-12-05T17:13:56.516445Z"
    }
   },
   "id": "48f63e436cde3de"
  },
  {
   "cell_type": "markdown",
   "source": [
    "Now the system dynamics"
   ],
   "metadata": {
    "collapsed": false
   },
   "id": "7f2acdddba5044c6"
  },
  {
   "cell_type": "code",
   "execution_count": 9,
   "outputs": [],
   "source": [
    "def lagrangian_f(q, qdot, t):\n",
    "    return 0.5 * m * jnp.dot(qdot, qdot) - 0.5 * k * jnp.dot(q, q) ** 2"
   ],
   "metadata": {
    "collapsed": false,
    "ExecuteTime": {
     "end_time": "2023-12-05T17:08:32.550393Z",
     "start_time": "2023-12-05T17:08:32.527899Z"
    }
   },
   "id": "d13dd5958124fd48"
  },
  {
   "cell_type": "code",
   "execution_count": 10,
   "outputs": [],
   "source": [
    "from sympy import Symbol\n",
    "from original import slimplectic\n",
    "\n",
    "dho = slimplectic.GalerkinGaussLobatto('t', ['q'], ['v'])\n",
    "L = 0.5 * m * np.dot(dho.v, dho.v) - 0.5 * k * np.dot(dho.q, dho.q)\n",
    "# DHO:\n",
    "K = -ll * np.dot(dho.vp, dho.qm)\n",
    "# No damping:\n",
    "K_nd = Symbol('a')\n",
    "dho.discretize(L, K_nd, 0, method='implicit', verbose=False)"
   ],
   "metadata": {
    "collapsed": false,
    "ExecuteTime": {
     "end_time": "2023-12-05T17:08:32.777248Z",
     "start_time": "2023-12-05T17:08:32.756437Z"
    }
   },
   "id": "83195528c9067a5c"
  },
  {
   "cell_type": "markdown",
   "source": [
    "Now with some initial data"
   ],
   "metadata": {
    "collapsed": false
   },
   "id": "6cbca13b19be265c"
  },
  {
   "cell_type": "code",
   "execution_count": 11,
   "outputs": [],
   "source": [
    "q0 = [1.]\n",
    "pi0 = [0.25 * dt * k]"
   ],
   "metadata": {
    "collapsed": false,
    "ExecuteTime": {
     "end_time": "2023-12-05T17:08:46.656657Z",
     "start_time": "2023-12-05T17:08:46.652444Z"
    }
   },
   "id": "634128c26232d4e4"
  },
  {
   "cell_type": "markdown",
   "source": [
    "We get started integrating"
   ],
   "metadata": {
    "collapsed": false
   },
   "id": "3192c2be0e823a49"
  },
  {
   "cell_type": "code",
   "execution_count": 34,
   "outputs": [
    {
     "name": "stdout",
     "output_type": "stream",
     "text": [
      "previous_q [1.]\n",
      "previous_pi [0.025]\n",
      "t_value 0.0\n",
      "qi_values [[1.00624769]\n",
      " [0.99355908]]\n",
      "previous_q [0.99355908]\n",
      "previous_pi [-0.22496619]\n",
      "t_value 0.1\n",
      "qi_values [[0.99971088]\n",
      " [0.98721955]]\n",
      "previous_q [0.98721955]\n",
      "previous_pi [-0.22112795]\n",
      "t_value 0.2\n",
      "qi_values [[0.99327816]\n",
      " [0.98097846]]\n",
      "previous_q [0.98097846]\n",
      "previous_pi [-0.21739837]\n",
      "t_value 0.30000000000000004\n",
      "qi_values [[0.98694649]\n",
      " [0.97483301]]\n",
      "previous_q [0.97483301]\n",
      "previous_pi [-0.21377317]\n",
      "t_value 0.4\n",
      "qi_values [[0.98071297]\n",
      " [0.9687805 ]]\n",
      "previous_q [0.9687805]\n",
      "previous_pi [-0.21024827]\n",
      "t_value 0.5\n",
      "qi_values [[0.9745748 ]\n",
      " [0.96281832]]\n",
      "previous_q [0.96281832]\n",
      "previous_pi [-0.20681983]\n",
      "t_value 0.6000000000000001\n",
      "qi_values [[0.96852928]\n",
      " [0.956944  ]]\n",
      "previous_q [0.956944]\n",
      "previous_pi [-0.20348415]\n",
      "t_value 0.7000000000000001\n",
      "qi_values [[0.96257384]\n",
      " [0.95115513]]\n",
      "previous_q [0.95115513]\n",
      "previous_pi [-0.20023776]\n",
      "t_value 0.8\n",
      "qi_values [[0.956706 ]\n",
      " [0.9454494]]\n",
      "previous_q [0.9454494]\n",
      "previous_pi [-0.19707731]\n",
      "t_value 0.9\n",
      "qi_values [[0.95092337]\n",
      " [0.93982459]]\n"
     ]
    },
    {
     "data": {
      "text/plain": "array([[ 1.        ,  0.025     ],\n       [ 0.99355908, -0.22496619],\n       [ 0.98721955, -0.22112795],\n       [ 0.98097846, -0.21739837],\n       [ 0.97483301, -0.21377317],\n       [ 0.9687805 , -0.21024827],\n       [ 0.96281832, -0.20681983],\n       [ 0.956944  , -0.20348415],\n       [ 0.95115513, -0.20023776],\n       [ 0.9454494 , -0.19707731],\n       [ 0.93982459, -0.19399966]])"
     },
     "execution_count": 34,
     "metadata": {},
     "output_type": "execute_result"
    }
   ],
   "source": [
    "st_results = st.iterate(\n",
    "    lagrangian=lagrangian_f,\n",
    "    q0=jnp.array(q0),\n",
    "    pi0=jnp.array(pi0),\n",
    "    dt=dt,\n",
    "    t0=0,\n",
    "    t_sample_count=t_sample_count,\n",
    "    r=0\n",
    ")\n",
    "\n",
    "st_nr = np.vstack(\n",
    "    [\n",
    "        np.array(st_results[0]),\n",
    "        np.array(st_results[1])\n",
    "    ],\n",
    ").T\n",
    "st_nr"
   ],
   "metadata": {
    "collapsed": false,
    "ExecuteTime": {
     "end_time": "2023-12-05T17:14:00.922445Z",
     "start_time": "2023-12-05T17:13:59.719888Z"
    }
   },
   "id": "e8c1bd35885909dc"
  },
  {
   "cell_type": "code",
   "execution_count": 37,
   "outputs": [
    {
     "data": {
      "text/plain": "array([[ 1.        ,  0.025     ],\n       [ 0.9975    , -0.074875  ],\n       [ 0.985025  , -0.17400125],\n       [ 0.96269975, -0.27138749],\n       [ 0.9307475 , -0.36605985],\n       [ 0.88948778, -0.45707161],\n       [ 0.83933318, -0.54351266],\n       [ 0.78078525, -0.62451858],\n       [ 0.71442946, -0.69927932],\n       [ 0.64092938, -0.76704726],\n       [ 0.56102001, -0.82714473]])"
     },
     "execution_count": 37,
     "metadata": {},
     "output_type": "execute_result"
    }
   ],
   "source": [
    "o_results = dho.integrate(q0, pi0, t)\n",
    "o_nr = np.vstack(\n",
    "    [\n",
    "        np.array(o_results[0]),\n",
    "        np.array(o_results[1])\n",
    "    ],\n",
    ").T\n",
    "o_nr"
   ],
   "metadata": {
    "collapsed": false,
    "ExecuteTime": {
     "end_time": "2023-12-05T17:14:14.891087Z",
     "start_time": "2023-12-05T17:14:14.864821Z"
    }
   },
   "id": "ebcf941de4af1e91"
  },
  {
   "cell_type": "code",
   "execution_count": 38,
   "outputs": [
    {
     "data": {
      "text/plain": "array([[ 0.        ,  0.        ],\n       [-0.00394092, -0.15009119],\n       [ 0.00219455, -0.0471267 ],\n       [ 0.01827871,  0.05398912],\n       [ 0.04408551,  0.15228668],\n       [ 0.07929272,  0.24682334],\n       [ 0.12348514,  0.33669283],\n       [ 0.17615875,  0.42103443],\n       [ 0.23672566,  0.49904156],\n       [ 0.30452001,  0.56996995],\n       [ 0.37880458,  0.63314507]])"
     },
     "execution_count": 38,
     "metadata": {},
     "output_type": "execute_result"
    }
   ],
   "source": [
    "st_nr - o_nr"
   ],
   "metadata": {
    "collapsed": false,
    "ExecuteTime": {
     "end_time": "2023-12-05T17:14:16.838758Z",
     "start_time": "2023-12-05T17:14:16.836301Z"
    }
   },
   "id": "60ad8887c82749be"
  },
  {
   "cell_type": "code",
   "execution_count": 62,
   "outputs": [
    {
     "data": {
      "text/plain": "<matplotlib.legend.Legend at 0x2b02b8100>"
     },
     "execution_count": 62,
     "metadata": {},
     "output_type": "execute_result"
    },
    {
     "data": {
      "text/plain": "<Figure size 640x480 with 1 Axes>",
      "image/png": "[encoded data removed]"
     },
     "metadata": {},
     "output_type": "display_data"
    }
   ],
   "source": [
    "plt.plot(t, o_nr[:, 0], label='o q', color='C0', )\n",
    "plt.plot(t, o_nr[:, 1], label='o p', color='C1', )\n",
    "plt.scatter(t, st_nr[:, 0], label='st q', color='C0', marker='x')\n",
    "plt.scatter(t, st_nr[:, 1], label='st p', color='C1', marker='x')\n",
    "plt.legend()"
   ],
   "metadata": {
    "collapsed": false,
    "ExecuteTime": {
     "end_time": "2023-12-05T17:19:41.853109Z",
     "start_time": "2023-12-05T17:19:41.738188Z"
    }
   },
   "id": "37fbfef4f4bf1dd6"
  },
  {
   "cell_type": "code",
   "execution_count": null,
   "outputs": [],
   "source": [],
   "metadata": {
    "collapsed": false
   },
   "id": "4aa03a26105a7310"
  }
 ],
 "metadata": {
  "kernelspec": {
   "display_name": "Python 3",
   "language": "python",
   "name": "python3"
  },
  "language_info": {
   "codemirror_mode": {
    "name": "ipython",
    "version": 2
   },
   "file_extension": ".py",
   "mimetype": "text/x-python",
   "name": "python",
   "nbconvert_exporter": "python",
   "pygments_lexer": "ipython2",
   "version": "2.7.6"
  }
 },
 "nbformat": 4,
 "nbformat_minor": 5
}
