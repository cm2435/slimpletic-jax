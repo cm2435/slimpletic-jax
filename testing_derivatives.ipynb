{
 "cells": [
  {
   "cell_type": "code",
   "execution_count": 15,
   "id": "initial_id",
   "metadata": {
    "collapsed": true,
    "ExecuteTime": {
     "end_time": "2023-12-07T12:53:35.129317Z",
     "start_time": "2023-12-07T12:53:35.123270Z"
    }
   },
   "outputs": [],
   "source": [
    "import slimpletic as st\n",
    "import slimpletic.discretise_integral as di\n",
    "import slimpletic.ggl as ggl\n",
    "import jax.numpy as jnp\n",
    "import jax"
   ]
  },
  {
   "cell_type": "code",
   "execution_count": 3,
   "outputs": [],
   "source": [
    "def f(x, xdot, t):\n",
    "    return x"
   ],
   "metadata": {
    "collapsed": false,
    "ExecuteTime": {
     "end_time": "2023-12-07T12:51:01.228572Z",
     "start_time": "2023-12-07T12:51:01.224766Z"
    }
   },
   "id": "cc23c319d3c5277c"
  },
  {
   "cell_type": "code",
   "execution_count": 5,
   "outputs": [],
   "source": [
    "f_d, _ = di.discretise_integral(\n",
    "    r=1,\n",
    "    dt=0.1,\n",
    "    fn=f\n",
    ")"
   ],
   "metadata": {
    "collapsed": false,
    "ExecuteTime": {
     "end_time": "2023-12-07T12:51:10.922174Z",
     "start_time": "2023-12-07T12:51:10.862569Z"
    }
   },
   "id": "5aac27645ecdbc69"
  },
  {
   "cell_type": "code",
   "execution_count": 31,
   "outputs": [
    {
     "data": {
      "text/plain": "Array(0.06666667, dtype=float64)"
     },
     "execution_count": 31,
     "metadata": {},
     "output_type": "execute_result"
    }
   ],
   "source": [
    "f_d(\n",
    "    jnp.array([0, 1, 0]),\n",
    "    2\n",
    ")"
   ],
   "metadata": {
    "collapsed": false,
    "ExecuteTime": {
     "end_time": "2023-12-07T12:55:51.809179Z",
     "start_time": "2023-12-07T12:55:51.803951Z"
    }
   },
   "id": "7caec6cbe3843057"
  },
  {
   "cell_type": "code",
   "execution_count": 14,
   "outputs": [],
   "source": [
    "xs, ws, dij = ggl.dereduce(ggl.ggl(r=1), dt=0.1)"
   ],
   "metadata": {
    "collapsed": false,
    "ExecuteTime": {
     "end_time": "2023-12-07T12:53:10.003573Z",
     "start_time": "2023-12-07T12:53:09.943721Z"
    }
   },
   "id": "8ff5412fadfad249"
  },
  {
   "cell_type": "code",
   "execution_count": 21,
   "outputs": [],
   "source": [
    "dfdx = jax.grad(f)"
   ],
   "metadata": {
    "collapsed": false,
    "ExecuteTime": {
     "end_time": "2023-12-07T12:54:12.881938Z",
     "start_time": "2023-12-07T12:54:12.863071Z"
    }
   },
   "id": "8bafab1bc8b82f18"
  },
  {
   "cell_type": "code",
   "execution_count": 30,
   "outputs": [
    {
     "data": {
      "text/plain": "Array(0.1, dtype=float64)"
     },
     "execution_count": 30,
     "metadata": {},
     "output_type": "execute_result"
    }
   ],
   "source": [
    "jnp.sum(ws * jax.vmap(dfdx, (0, None, None))(jnp.array([0.0, 1, 0]), 0, 0))"
   ],
   "metadata": {
    "collapsed": false,
    "ExecuteTime": {
     "end_time": "2023-12-07T12:55:50.099042Z",
     "start_time": "2023-12-07T12:55:50.066265Z"
    }
   },
   "id": "e6cfe00c5b2965cf"
  },
  {
   "cell_type": "code",
   "execution_count": null,
   "outputs": [],
   "source": [
    "|"
   ],
   "metadata": {
    "collapsed": false
   },
   "id": "80ff65a83201696c"
  }
 ],
 "metadata": {
  "kernelspec": {
   "display_name": "Python 3",
   "language": "python",
   "name": "python3"
  },
  "language_info": {
   "codemirror_mode": {
    "name": "ipython",
    "version": 2
   },
   "file_extension": ".py",
   "mimetype": "text/x-python",
   "name": "python",
   "nbconvert_exporter": "python",
   "pygments_lexer": "ipython2",
   "version": "2.7.6"
  }
 },
 "nbformat": 4,
 "nbformat_minor": 5
}
