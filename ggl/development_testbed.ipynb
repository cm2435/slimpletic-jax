{
 "cells": [
  {
   "cell_type": "code",
   "execution_count": 2,
   "id": "initial_id",
   "metadata": {
    "collapsed": true,
    "ExecuteTime": {
     "end_time": "2023-11-21T13:59:41.536522Z",
     "start_time": "2023-11-21T13:59:41.508325Z"
    }
   },
   "outputs": [],
   "source": [
    "import json\n",
    "\n",
    "# Read json file\n",
    "file = './ggl-data-original.json'\n",
    "data = json.load(open(file))"
   ]
  },
  {
   "cell_type": "code",
   "execution_count": 1,
   "outputs": [],
   "source": [
    "def verify(key, fn):\n",
    "    for d in data:\n",
    "        r = d['r']\n",
    "        if not jnp.allclose(jnp.array(d[key]), fn(r)):\n",
    "            jax.debug.print(\n",
    "                \"Failed for {}, {} - {} = {}\",\n",
    "                r,\n",
    "                jnp.array(d[key]),\n",
    "                fn(r),\n",
    "                jnp.array(d[key]) - fn(r)\n",
    "            )\n",
    "            return False"
   ],
   "metadata": {
    "collapsed": false,
    "ExecuteTime": {
     "end_time": "2023-11-21T13:59:38.436852Z",
     "start_time": "2023-11-21T13:59:38.417405Z"
    }
   },
   "id": "501145a96486b76f"
  },
  {
   "cell_type": "code",
   "execution_count": 3,
   "outputs": [
    {
     "data": {
      "text/plain": "{'r': 0, 'x': [-1.0, 1.0], 'w': [1.0, 1.0], 'd': [[-0.5, 0.5], [-0.5, 0.5]]}"
     },
     "execution_count": 3,
     "metadata": {},
     "output_type": "execute_result"
    }
   ],
   "source": [
    "data[0]"
   ],
   "metadata": {
    "collapsed": false,
    "ExecuteTime": {
     "end_time": "2023-11-21T13:58:06.883473Z",
     "start_time": "2023-11-21T13:58:06.879646Z"
    }
   },
   "id": "54fc5805735af872"
  },
  {
   "cell_type": "code",
   "execution_count": 3,
   "outputs": [],
   "source": [
    "from jax import Array, jit, grad\n",
    "\n",
    "import jax.lax\n",
    "import jax.numpy as jnp\n",
    "import scipy.special as sps"
   ],
   "metadata": {
    "collapsed": false,
    "ExecuteTime": {
     "end_time": "2023-11-21T13:59:45.367286Z",
     "start_time": "2023-11-21T13:59:44.799048Z"
    }
   },
   "id": "d1a442e0e9ce9788"
  },
  {
   "cell_type": "code",
   "execution_count": 5,
   "outputs": [
    {
     "data": {
      "text/plain": "Array([], dtype=float32)"
     },
     "execution_count": 5,
     "metadata": {},
     "output_type": "execute_result"
    }
   ],
   "source": [
    "r = 0\n",
    "c = sps.legendre(r + 1).c\n",
    "xs = jnp.real(jnp.roots(jnp.polyder(c)))\n",
    "xs"
   ],
   "metadata": {
    "collapsed": false,
    "ExecuteTime": {
     "end_time": "2023-11-21T13:58:10.158784Z",
     "start_time": "2023-11-21T13:58:10.093588Z"
    }
   },
   "id": "ac2123a701e3660e"
  },
  {
   "cell_type": "code",
   "execution_count": 6,
   "outputs": [
    {
     "data": {
      "text/plain": "Array([ 1.,  0., -1.], dtype=float32)"
     },
     "execution_count": 6,
     "metadata": {},
     "output_type": "execute_result"
    }
   ],
   "source": [
    "jnp.poly(jnp.array([-1, 1]))"
   ],
   "metadata": {
    "collapsed": false,
    "ExecuteTime": {
     "end_time": "2023-11-21T13:58:11.240455Z",
     "start_time": "2023-11-21T13:58:11.184896Z"
    }
   },
   "id": "fd04f36cfc3a230d"
  },
  {
   "cell_type": "code",
   "execution_count": 7,
   "outputs": [
    {
     "data": {
      "text/plain": "Array([-1.+0.j,  1.+0.j], dtype=complex64)"
     },
     "execution_count": 7,
     "metadata": {},
     "output_type": "execute_result"
    }
   ],
   "source": [
    "jnp.roots(jnp.polymul(jnp.array([1, 0, -1]), jnp.polyder(c)))"
   ],
   "metadata": {
    "collapsed": false,
    "ExecuteTime": {
     "end_time": "2023-11-21T13:58:13.755658Z",
     "start_time": "2023-11-21T13:58:13.629651Z"
    }
   },
   "id": "e8e4dd136ad121e6"
  },
  {
   "cell_type": "code",
   "execution_count": 5,
   "outputs": [],
   "source": [
    "def xs(r: int) -> Array:\n",
    "    c = sps.legendre(r + 1).c\n",
    "    return jnp.sort(jnp.roots(jnp.polymul(jnp.array([1, 0, -1]), jnp.polyder(c))))"
   ],
   "metadata": {
    "collapsed": false,
    "ExecuteTime": {
     "end_time": "2023-11-21T13:59:57.096969Z",
     "start_time": "2023-11-21T13:59:57.088494Z"
    }
   },
   "id": "72108b57a8b7281d"
  },
  {
   "cell_type": "code",
   "execution_count": 9,
   "outputs": [
    {
     "data": {
      "text/plain": "Array([ 3.5762787e-07, -5.9604645e-08,  0.0000000e+00, -1.1920929e-07,\n        1.1920929e-07], dtype=float32)"
     },
     "execution_count": 9,
     "metadata": {},
     "output_type": "execute_result"
    }
   ],
   "source": [
    "jnp.array(data[3]['x']) - jnp.real(xs(3))"
   ],
   "metadata": {
    "collapsed": false,
    "ExecuteTime": {
     "end_time": "2023-11-21T13:58:17.092802Z",
     "start_time": "2023-11-21T13:58:16.904918Z"
    }
   },
   "id": "653c7763b4dcf090"
  },
  {
   "cell_type": "code",
   "execution_count": 24,
   "outputs": [
    {
     "data": {
      "text/plain": "[-1.0, -0.6546536707079772, 0.0, 0.6546536707079772, 1.0]"
     },
     "execution_count": 24,
     "metadata": {},
     "output_type": "execute_result"
    }
   ],
   "source": [
    "data[3]['x']"
   ],
   "metadata": {
    "collapsed": false,
    "ExecuteTime": {
     "end_time": "2023-11-21T13:37:15.635643Z",
     "start_time": "2023-11-21T13:37:15.619769Z"
    }
   },
   "id": "24338f30c2775201"
  },
  {
   "cell_type": "code",
   "execution_count": 33,
   "outputs": [
    {
     "data": {
      "text/plain": "Array([ 3.5762787e-07, -5.9604645e-08,  0.0000000e+00, -1.1920929e-07,\n        1.1920929e-07], dtype=float32)"
     },
     "execution_count": 33,
     "metadata": {},
     "output_type": "execute_result"
    }
   ],
   "source": [
    "(jnp.array(data[3]['x']) - jnp.sort(jnp.real(xs(3))))"
   ],
   "metadata": {
    "collapsed": false,
    "ExecuteTime": {
     "end_time": "2023-11-21T13:39:23.488279Z",
     "start_time": "2023-11-21T13:39:23.482642Z"
    }
   },
   "id": "c16b992b142d6364"
  },
  {
   "cell_type": "code",
   "execution_count": 6,
   "outputs": [],
   "source": [
    "verify('x', xs)"
   ],
   "metadata": {
    "collapsed": false,
    "ExecuteTime": {
     "end_time": "2023-11-21T14:00:01.887326Z",
     "start_time": "2023-11-21T13:59:59.411310Z"
    }
   },
   "id": "d4929827f6672779"
  },
  {
   "cell_type": "code",
   "execution_count": 73,
   "outputs": [
    {
     "data": {
      "text/plain": "[-1.0,\n -0.9340014304080592,\n -0.7844834736631444,\n -0.565235326996205,\n -0.2957581355869394,\n 0.0,\n 0.2957581355869394,\n 0.565235326996205,\n 0.7844834736631444,\n 0.9340014304080592,\n 1.0]"
     },
     "execution_count": 73,
     "metadata": {},
     "output_type": "execute_result"
    }
   ],
   "source": [
    "data[9]['x']"
   ],
   "metadata": {
    "collapsed": false,
    "ExecuteTime": {
     "end_time": "2023-11-21T13:50:32.250142Z",
     "start_time": "2023-11-21T13:50:32.243387Z"
    }
   },
   "id": "83495735dbd2503e"
  },
  {
   "cell_type": "code",
   "execution_count": 74,
   "outputs": [
    {
     "data": {
      "text/plain": "Array([-0.99999464, -0.9340094 , -0.7844821 , -0.56523544, -0.2957581 ,\n        0.        ,  0.29575828,  0.56523496,  0.7844805 ,  0.9340178 ,\n        0.9999873 ], dtype=float32)"
     },
     "execution_count": 74,
     "metadata": {},
     "output_type": "execute_result"
    }
   ],
   "source": [
    "jnp.real(xs(9))"
   ],
   "metadata": {
    "collapsed": false,
    "ExecuteTime": {
     "end_time": "2023-11-21T13:50:37.523117Z",
     "start_time": "2023-11-21T13:50:37.508821Z"
    }
   },
   "id": "32fe9d79f15b2b13"
  },
  {
   "cell_type": "code",
   "execution_count": 8,
   "outputs": [],
   "source": [
    "def ws(r: int) -> Array:\n",
    "    legendre = sps.legendre(r + 1).c\n",
    "    poly = jnp.polymul(\n",
    "        jnp.array([1, 0, -1]),\n",
    "        jnp.polyder(legendre)\n",
    "    )\n",
    "\n",
    "    legendre_at_xs = jnp.polyval(legendre, xs(r))\n",
    "    ws = 2 / ((r + 1) * (r + 2) * legendre_at_xs ** 2)\n",
    "    \n",
    "    return ws"
   ],
   "metadata": {
    "collapsed": false,
    "ExecuteTime": {
     "end_time": "2023-11-21T14:00:13.852316Z",
     "start_time": "2023-11-21T14:00:13.847949Z"
    }
   },
   "id": "34d6e55ec60d0728"
  },
  {
   "cell_type": "code",
   "execution_count": 37,
   "outputs": [
    {
     "data": {
      "text/plain": "Array([ 8.5401542e+16, -2.2448361e+12, -8.9793453e+12, -2.3058436e+18,\n       -3.3908877e+31], dtype=float32)"
     },
     "execution_count": 37,
     "metadata": {},
     "output_type": "execute_result"
    }
   ],
   "source": [
    "(jnp.array(data[3]['w']) - jnp.sort(jnp.real(ws(3))))"
   ],
   "metadata": {
    "collapsed": false,
    "ExecuteTime": {
     "end_time": "2023-11-21T13:42:20.209246Z",
     "start_time": "2023-11-21T13:42:20.128435Z"
    }
   },
   "id": "7292e910f52aeefd"
  },
  {
   "cell_type": "code",
   "execution_count": 10,
   "outputs": [
    {
     "data": {
      "text/plain": "Array([0.33333333, 1.33333333, 0.33333333], dtype=float64)"
     },
     "execution_count": 10,
     "metadata": {},
     "output_type": "execute_result"
    }
   ],
   "source": [
    "jnp.real(ws(1))"
   ],
   "metadata": {
    "collapsed": false,
    "ExecuteTime": {
     "end_time": "2023-11-21T14:00:54.155065Z",
     "start_time": "2023-11-21T14:00:54.140746Z"
    }
   },
   "id": "4c561331322aff04"
  },
  {
   "cell_type": "code",
   "execution_count": 9,
   "outputs": [],
   "source": [
    "verify('w', ws)"
   ],
   "metadata": {
    "collapsed": false,
    "ExecuteTime": {
     "end_time": "2023-11-21T14:00:17.903706Z",
     "start_time": "2023-11-21T14:00:16.958900Z"
    }
   },
   "id": "dd0f1c4adf6d31c8"
  },
  {
   "cell_type": "code",
   "execution_count": 4,
   "outputs": [],
   "source": [
    "from jax import random\n",
    "x = random.uniform(random.PRNGKey(0), (1000,), dtype=jnp.float64)"
   ],
   "metadata": {
    "collapsed": false,
    "ExecuteTime": {
     "end_time": "2023-11-21T13:59:48.438970Z",
     "start_time": "2023-11-21T13:59:48.340548Z"
    }
   },
   "id": "8312400c4c75c3af"
  },
  {
   "cell_type": "code",
   "execution_count": 66,
   "outputs": [],
   "source": [
    "def dij(r: int):\n",
    "    dij_a = -1 / 4 * (r + 1) * (r + 2)\n",
    "    dij_b = -dij_a\n",
    "    legendre = sps.legendre(r + 1).c\n",
    "    xss = jnp.real(xs(r))\n",
    "    legendre_at_xs = jnp.polyval(legendre, xss)\n",
    "\n",
    "    # TODO: Is there a nicer way to do this? Maybe jax.lax.switch?\n",
    "    @jit\n",
    "    def derivative_matrix_element(i_, j_):\n",
    "        # For some reason we get floats here, convert to ints for indexing.\n",
    "        i = i_.astype('int')\n",
    "        j = j_.astype('int')\n",
    "\n",
    "        return jax.lax.cond(\n",
    "            jax.lax.eq(i, j),\n",
    "            lambda: jax.lax.cond(\n",
    "                jax.lax.eq(i, 0),\n",
    "                lambda: dij_a,\n",
    "                lambda: jax.lax.cond(\n",
    "                    jax.lax.eq(i, r + 1),\n",
    "                    lambda: dij_b,\n",
    "                    lambda: 0.0,\n",
    "                )\n",
    "            ),\n",
    "            lambda: legendre_at_xs[i] / (legendre_at_xs[j] * (xss[i] - xss[j]))\n",
    "        )\n",
    "\n",
    "    derivative_matrix = jnp.fromfunction(\n",
    "        derivative_matrix_element,\n",
    "        shape=(r + 2, r + 2),\n",
    "    )\n",
    "    \n",
    "    return derivative_matrix\n"
   ],
   "metadata": {
    "collapsed": false,
    "ExecuteTime": {
     "end_time": "2023-11-21T14:26:05.686039Z",
     "start_time": "2023-11-21T14:26:05.675108Z"
    }
   },
   "id": "cd62c19cfb4f41cb"
  },
  {
   "cell_type": "code",
   "execution_count": 67,
   "outputs": [
    {
     "data": {
      "text/plain": "Array([[-1.5,  2. , -0.5],\n       [-0.5,  0. ,  0.5],\n       [ 0.5, -2. ,  1.5]], dtype=float64)"
     },
     "execution_count": 67,
     "metadata": {},
     "output_type": "execute_result"
    }
   ],
   "source": [
    "dij(1) "
   ],
   "metadata": {
    "collapsed": false,
    "ExecuteTime": {
     "end_time": "2023-11-21T14:26:06.424869Z",
     "start_time": "2023-11-21T14:26:06.356466Z"
    }
   },
   "id": "4e84adef9cbb32e7"
  },
  {
   "cell_type": "code",
   "execution_count": 68,
   "outputs": [
    {
     "data": {
      "text/plain": "Array([[0., 0., 0.],\n       [0., 0., 0.],\n       [0., 0., 0.]], dtype=float64)"
     },
     "execution_count": 68,
     "metadata": {},
     "output_type": "execute_result"
    }
   ],
   "source": [
    "dij(1) - jnp.array(data[1]['d'])"
   ],
   "metadata": {
    "collapsed": false,
    "ExecuteTime": {
     "end_time": "2023-11-21T14:26:07.451635Z",
     "start_time": "2023-11-21T14:26:07.390821Z"
    }
   },
   "id": "ce52a5366aca6a98"
  },
  {
   "cell_type": "code",
   "execution_count": 69,
   "outputs": [],
   "source": [
    "verify('d', dij)"
   ],
   "metadata": {
    "collapsed": false,
    "ExecuteTime": {
     "end_time": "2023-11-21T14:26:15.864353Z",
     "start_time": "2023-11-21T14:26:13.875633Z"
    }
   },
   "id": "5fd344a91febbe91"
  },
  {
   "cell_type": "code",
   "execution_count": null,
   "outputs": [],
   "source": [],
   "metadata": {
    "collapsed": false
   },
   "id": "11fcd8de6a2bddb3"
  }
 ],
 "metadata": {
  "kernelspec": {
   "display_name": "Python 3",
   "language": "python",
   "name": "python3"
  },
  "language_info": {
   "codemirror_mode": {
    "name": "ipython",
    "version": 2
   },
   "file_extension": ".py",
   "mimetype": "text/x-python",
   "name": "python",
   "nbconvert_exporter": "python",
   "pygments_lexer": "ipython2",
   "version": "2.7.6"
  }
 },
 "nbformat": 4,
 "nbformat_minor": 5
}
